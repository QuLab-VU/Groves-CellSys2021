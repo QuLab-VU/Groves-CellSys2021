{
 "cells": [
  {
   "cell_type": "code",
   "execution_count": 1,
   "id": "ca25b4ab-0b0d-46ce-b78c-9c8000ad725c",
   "metadata": {},
   "outputs": [],
   "source": [
    "import scvelo as scv\n",
    "import scanpy as sc\n",
    "import cellrank as cr\n",
    "import os.path as op\n",
    "import pandas as pd\n",
    "import numpy as np\n",
    "import matplotlib.pyplot as plt\n",
    "import sys\n",
    "sys.path.insert(1, \"/Users/geenaildefonso/Projects/\")\n",
    "import mazebox as mb\n",
    "sys.path.insert(1, '/Users/geenaildefonso/Dropbox (VU Basic Sciences)/')\n",
    "from typing import Any\n",
    "from copy import copy\n",
    "from anndata import AnnData\n",
    "import scipy.sparse as sp"
   ]
  },
  {
   "cell_type": "code",
   "execution_count": 2,
   "id": "cda6d406-a1e9-4354-b558-aa584f6d6be4",
   "metadata": {},
   "outputs": [],
   "source": [
    "import warnings\n",
    "\n",
    "warnings.simplefilter(\"ignore\", category=UserWarning)\n",
    "warnings.simplefilter(\"ignore\", category=FutureWarning)\n",
    "warnings.simplefilter(\"ignore\", category=DeprecationWarning)"
   ]
  },
  {
   "cell_type": "code",
   "execution_count": 2,
   "id": "d7ef9e15-7ba9-487b-b6e9-e011265006c9",
   "metadata": {},
   "outputs": [
    {
     "name": "stdout",
     "output_type": "stream",
     "text": [
      "   column1\n",
      "0        1\n",
      "1        2\n"
     ]
    }
   ],
   "source": [
    "dataframe1 = pd.DataFrame(data={\"column1\": [1, 2, 3, 4, 5]})\n",
    "dataframe2 = pd.DataFrame(data={\"column1\": [2, 1]})\n",
    "\n",
    "common = dataframe1.merge(dataframe2, on=[\"column1\"])\n",
    "result = dataframe1[dataframe1.column1.isin(common.column1)]\n",
    "print(result)"
   ]
  },
  {
   "cell_type": "code",
   "execution_count": 16,
   "id": "96ab6b52-961e-493d-a3a0-ef3c13662456",
   "metadata": {},
   "outputs": [],
   "source": [
    "adata = scv.read('/Users/geenaildefonso/Dropbox (VU Basic Sciences)/RPM/adata05.h5ad')"
   ]
  },
  {
   "cell_type": "code",
   "execution_count": 4,
   "id": "eddf4f82-6215-49c9-adbc-ea3b9d6d2bc6",
   "metadata": {},
   "outputs": [
    {
     "data": {
      "text/plain": [
       "SRR11594440:AACCACATCCACCTCAx-0-day_4    AACCACATCCACCTCA\n",
       "SRR11594440:AAAGGTAGTTGCAAGGx-0-day_4    AAAGGTAGTTGCAAGG\n",
       "SRR11594440:AAGCGAGAGACCAGACx-0-day_4    AAGCGAGAGACCAGAC\n",
       "SRR11594440:AAGTCGTTCGTAGGGAx-0-day_4    AAGTCGTTCGTAGGGA\n",
       "SRR11594440:AAGTACCGTTCGTACAx-0-day_4    AAGTACCGTTCGTACA\n",
       "                                               ...       \n",
       "SRR11594446:TTTGACTGTACCTTCCx-day_21     TTTGACTGTACCTTCC\n",
       "SRR11594446:TTTGGAGGTGGCTACCx-day_21     TTTGGAGGTGGCTACC\n",
       "SRR11594446:TTTGATCAGACTTCGTx-day_21     TTTGATCAGACTTCGT\n",
       "SRR11594446:TTTGGTTAGGAAGTGAx-day_21     TTTGGTTAGGAAGTGA\n",
       "SRR11594446:TTTGGAGCACCAACATx-day_21     TTTGGAGCACCAACAT\n",
       "Name: barcode, Length: 15257, dtype: category\n",
       "Categories (15201, object): ['AAACCCAAGCCGAATG', 'AAACCCAAGCGGTATG', 'AAACCCAAGGGACCAT', 'AAACCCAAGTGTTGTC', ..., 'TTTGTTGGTCCGAAGA', 'TTTGTTGGTCTTGTCC', 'TTTGTTGGTGCCGTAC', 'TTTGTTGTCCCAAGTA']"
      ]
     },
     "execution_count": 4,
     "metadata": {},
     "output_type": "execute_result"
    }
   ],
   "source": [
    "adata.obs['barcode']"
   ]
  },
  {
   "cell_type": "code",
   "execution_count": 17,
   "id": "dc7c1af1-247b-4e3c-9286-0bc5cebeda79",
   "metadata": {},
   "outputs": [],
   "source": [
    "pseudo = pd.read_csv('PseudoCorr.csv', index_col=0, header = 0)\n",
    "pseudo.reset_index(inplace=True)\n",
    "pseudo = pseudo.rename(columns = {'index':'barcode'})"
   ]
  },
  {
   "cell_type": "code",
   "execution_count": 7,
   "id": "6c4847dc-55b6-4e7c-8ecd-a8ce68a6c438",
   "metadata": {},
   "outputs": [
    {
     "data": {
      "text/plain": [
       "Index(['Barcode', 'Diffusion Pseudotime', 'Monocle Pseudotime', 'time'], dtype='object')"
      ]
     },
     "execution_count": 7,
     "metadata": {},
     "output_type": "execute_result"
    }
   ],
   "source": [
    "pseudo.columns"
   ]
  },
  {
   "cell_type": "code",
   "execution_count": 8,
   "id": "e764aeb7-1d06-4b83-9078-4884b39039d8",
   "metadata": {},
   "outputs": [
    {
     "data": {
      "text/plain": [
       "0        AAAGGTAGTTGCAAGG_15806X1\n",
       "1        AACCACATCCACCTCA_15806X1\n",
       "2        AAGCGAGAGACCAGAC_15806X1\n",
       "3        AAGTACCGTTCGTACA_15806X1\n",
       "4        AAGTCGTTCGTAGGGA_15806X1\n",
       "                   ...           \n",
       "17058     TTATTGCCAACTTCTT-1_RPM4\n",
       "17059     TTCCTCTTCCTGGGTG-1_RPM4\n",
       "17060     TTCGCTGGTCCGACGT-1_RPM4\n",
       "17061     TTCGGTCGTCTGTCCT-1_RPM4\n",
       "17062     TTTCATGTCATCACTT-1_RPM4\n",
       "Name: Barcode, Length: 17063, dtype: object"
      ]
     },
     "execution_count": 8,
     "metadata": {},
     "output_type": "execute_result"
    }
   ],
   "source": [
    "pseudo['Barcode']"
   ]
  },
  {
   "cell_type": "code",
   "execution_count": 18,
   "id": "b427e89c-fede-473e-81d4-36b3d3960796",
   "metadata": {},
   "outputs": [
    {
     "name": "stdout",
     "output_type": "stream",
     "text": [
      "pseudo\n",
      "0          AAAGGTAGTTGCAAGG\n",
      "1          AACCACATCCACCTCA\n",
      "2          AAGCGAGAGACCAGAC\n",
      "3          AAGTACCGTTCGTACA\n",
      "4          AAGTCGTTCGTAGGGA\n",
      "                ...        \n",
      "17058    TTATTGCCAACTTCTT-1\n",
      "17059    TTCCTCTTCCTGGGTG-1\n",
      "17060    TTCGCTGGTCCGACGT-1\n",
      "17061    TTCGGTCGTCTGTCCT-1\n",
      "17062    TTTCATGTCATCACTT-1\n",
      "Name: barcode, Length: 17063, dtype: object\n",
      "adata\n",
      "SRR11594440:AACCACATCCACCTCAx-0-day_4    AACCACATCCACCTCA\n",
      "SRR11594440:AAAGGTAGTTGCAAGGx-0-day_4    AAAGGTAGTTGCAAGG\n",
      "SRR11594440:AAGCGAGAGACCAGACx-0-day_4    AAGCGAGAGACCAGAC\n",
      "SRR11594440:AAGTCGTTCGTAGGGAx-0-day_4    AAGTCGTTCGTAGGGA\n",
      "SRR11594440:AAGTACCGTTCGTACAx-0-day_4    AAGTACCGTTCGTACA\n",
      "                                               ...       \n",
      "SRR11594446:TTTGACTGTACCTTCCx-day_21     TTTGACTGTACCTTCC\n",
      "SRR11594446:TTTGGAGGTGGCTACCx-day_21     TTTGGAGGTGGCTACC\n",
      "SRR11594446:TTTGATCAGACTTCGTx-day_21     TTTGATCAGACTTCGT\n",
      "SRR11594446:TTTGGTTAGGAAGTGAx-day_21     TTTGGTTAGGAAGTGA\n",
      "SRR11594446:TTTGGAGCACCAACATx-day_21     TTTGGAGCACCAACAT\n",
      "Name: barcode, Length: 15257, dtype: object\n"
     ]
    }
   ],
   "source": [
    "pseudo['barcode'] = [i.split('_')[0] for i in pseudo['Barcode']]\n",
    "print('pseudo')\n",
    "print(pseudo['barcode'])\n",
    "\n",
    "adata.obs['barcode'] = [str(i.split(\":\")[1].split('x')[0]) for i in adata.obs_names]\n",
    "print('adata')\n",
    "print(adata.obs['barcode'])\n",
    "\n",
    "# filtered_cells2 = []\n",
    "# for i in pseudo['barcode']:\n",
    "#     if i in list(adata.obs['barcode']): \n",
    "#         filtered_cells2.append(True)\n",
    "#     else:\n",
    "#         filtered_cells2.append(False)"
   ]
  },
  {
   "cell_type": "code",
   "execution_count": 52,
   "id": "a68df65c-23b1-4c13-93ed-7179e5153989",
   "metadata": {},
   "outputs": [],
   "source": [
    "pseudo = pseudo.sort_values(by='barcode', ascending=True)"
   ]
  },
  {
   "cell_type": "code",
   "execution_count": 55,
   "id": "2cb2d405-0159-4fcf-9af5-ef99e2d9ef96",
   "metadata": {},
   "outputs": [
    {
     "data": {
      "text/plain": [
       "7560       AAACCCAAGCCGAATG\n",
       "7561       AAACCCAAGCGGTATG\n",
       "11506      AAACCCAAGGGACCAT\n",
       "7562       AAACCCAAGTGTTGTC\n",
       "15138    AAACCCACAAATCAGA-1\n",
       "11507      AAACCCACAACCTATG\n",
       "11508      AAACCCACACCAGTTA\n",
       "598        AAACCCACACGTTGGC\n",
       "599        AAACCCACACTTCATT\n",
       "3915       AAACCCACAGACCGCT\n",
       "Name: barcode, dtype: object"
      ]
     },
     "execution_count": 55,
     "metadata": {},
     "output_type": "execute_result"
    }
   ],
   "source": [
    "pseudo['barcode'][:10]"
   ]
  },
  {
   "cell_type": "code",
   "execution_count": 53,
   "id": "45720454-8dee-46dd-bf50-4474dc34e1c8",
   "metadata": {},
   "outputs": [],
   "source": [
    "adata.obs = adata.obs.sort_values(by='barcode', ascending=True)"
   ]
  },
  {
   "cell_type": "code",
   "execution_count": 56,
   "id": "49af7b97-4f98-4b3b-8a70-2dff0b7c1637",
   "metadata": {},
   "outputs": [
    {
     "data": {
      "text/plain": [
       "SRR11594445:AAACCCAAGCCGAATGx-day_17    AAACCCAAGCCGAATG\n",
       "SRR11594445:AAACCCAAGCGGTATGx-day_17    AAACCCAAGCGGTATG\n",
       "SRR11594446:AAACCCAAGGGACCATx-day_21    AAACCCAAGGGACCAT\n",
       "SRR11594445:AAACCCAAGTGTTGTCx-day_17    AAACCCAAGTGTTGTC\n",
       "SRR11594446:AAACCCACAACCTATGx-day_21    AAACCCACAACCTATG\n",
       "SRR11594446:AAACCCACACCAGTTAx-day_21    AAACCCACACCAGTTA\n",
       "SRR11594443:AAACCCACACGTTGGCx-day_11    AAACCCACACGTTGGC\n",
       "SRR11594443:AAACCCACACTTCATTx-day_11    AAACCCACACTTCATT\n",
       "SRR11594444:AAACCCACAGACCGCTx-day_14    AAACCCACAGACCGCT\n",
       "SRR11594443:AAACCCACATATCTCTx-day_11    AAACCCACATATCTCT\n",
       "Name: barcode, dtype: object"
      ]
     },
     "execution_count": 56,
     "metadata": {},
     "output_type": "execute_result"
    }
   ],
   "source": [
    "adata.obs['barcode'][:10]"
   ]
  },
  {
   "cell_type": "code",
   "execution_count": 54,
   "id": "f0cf8465-d5be-4660-966b-8bc7cdc3548f",
   "metadata": {},
   "outputs": [
    {
     "data": {
      "text/plain": [
       "SRR11594445:AAACCCAAGCCGAATGx-day_17    AAACCCAAGCCGAATG\n",
       "SRR11594445:AAACCCAAGCGGTATGx-day_17    AAACCCAAGCGGTATG\n",
       "SRR11594446:AAACCCAAGGGACCATx-day_21    AAACCCAAGGGACCAT\n",
       "SRR11594445:AAACCCAAGTGTTGTCx-day_17    AAACCCAAGTGTTGTC\n",
       "SRR11594446:AAACCCACAACCTATGx-day_21    AAACCCACAACCTATG\n",
       "                                              ...       \n",
       "SRR11594443:TTTGTTGGTCACCACGx-day_11    TTTGTTGGTCACCACG\n",
       "SRR11594444:TTTGTTGGTCCGAAGAx-day_14    TTTGTTGGTCCGAAGA\n",
       "SRR11594446:TTTGTTGGTCTTGTCCx-day_21    TTTGTTGGTCTTGTCC\n",
       "SRR11594445:TTTGTTGGTGCCGTACx-day_17    TTTGTTGGTGCCGTAC\n",
       "SRR11594446:TTTGTTGTCCCAAGTAx-day_21    TTTGTTGTCCCAAGTA\n",
       "Name: barcode, Length: 15257, dtype: object"
      ]
     },
     "execution_count": 54,
     "metadata": {},
     "output_type": "execute_result"
    }
   ],
   "source": [
    "adata.obs['barcode']"
   ]
  },
  {
   "cell_type": "code",
   "execution_count": 59,
   "id": "1132d966-84ad-4328-b206-31042e29e07b",
   "metadata": {},
   "outputs": [
    {
     "data": {
      "text/plain": [
       "(15257, 108)"
      ]
     },
     "execution_count": 59,
     "metadata": {},
     "output_type": "execute_result"
    }
   ],
   "source": [
    "adata.obs.shape"
   ]
  },
  {
   "cell_type": "code",
   "execution_count": 60,
   "id": "b69b0c67-5236-424a-8bb5-9c7b16badbbd",
   "metadata": {},
   "outputs": [
    {
     "data": {
      "text/plain": [
       "(17063, 5)"
      ]
     },
     "execution_count": 60,
     "metadata": {},
     "output_type": "execute_result"
    }
   ],
   "source": [
    "pseudo.shape"
   ]
  },
  {
   "cell_type": "code",
   "execution_count": 61,
   "id": "ba23d34f-3866-4ebd-8f0c-d01b3b032f1d",
   "metadata": {},
   "outputs": [],
   "source": [
    "b = pd.merge(adata.obs, pseudo, on=\"barcode\")"
   ]
  },
  {
   "cell_type": "code",
   "execution_count": 68,
   "id": "b8184661-a4cf-4563-a111-37e1e07fceac",
   "metadata": {},
   "outputs": [],
   "source": [
    "common = adata.obs.merge(pseudo, on=['barcode'])\n",
    "c = adata.obs[adata.obs.barcode.isin(common.barcode)]"
   ]
  },
  {
   "cell_type": "code",
   "execution_count": 71,
   "id": "c85b67bc-e990-4d71-8f04-8ac8932cc57b",
   "metadata": {},
   "outputs": [
    {
     "data": {
      "text/html": [
       "<div>\n",
       "<style scoped>\n",
       "    .dataframe tbody tr th:only-of-type {\n",
       "        vertical-align: middle;\n",
       "    }\n",
       "\n",
       "    .dataframe tbody tr th {\n",
       "        vertical-align: top;\n",
       "    }\n",
       "\n",
       "    .dataframe thead th {\n",
       "        text-align: right;\n",
       "    }\n",
       "</style>\n",
       "<table border=\"1\" class=\"dataframe\">\n",
       "  <thead>\n",
       "    <tr style=\"text-align: right;\">\n",
       "      <th></th>\n",
       "      <th>Clusters</th>\n",
       "      <th>_X</th>\n",
       "      <th>_Y</th>\n",
       "      <th>dropkick_score</th>\n",
       "      <th>dropkick_label</th>\n",
       "      <th>arcsinh_n_genes_by_counts</th>\n",
       "      <th>batch</th>\n",
       "      <th>timepoint</th>\n",
       "      <th>initial_size_spliced</th>\n",
       "      <th>initial_size_unspliced</th>\n",
       "      <th>...</th>\n",
       "      <th>SCLC-P_Z_Score</th>\n",
       "      <th>SCLC-Y_Sig_Score</th>\n",
       "      <th>SCLC-Y_Z_Score</th>\n",
       "      <th>Phenotype</th>\n",
       "      <th>SCLC-A_Score_pos</th>\n",
       "      <th>SCLC-A2_Score_pos</th>\n",
       "      <th>SCLC-N_Score_pos</th>\n",
       "      <th>SCLC-P_Score_pos</th>\n",
       "      <th>SCLC-Y_Score_pos</th>\n",
       "      <th>diffusion_pseudotime</th>\n",
       "    </tr>\n",
       "  </thead>\n",
       "  <tbody>\n",
       "    <tr>\n",
       "      <th>SRR11594445:AAACCCAAGCCGAATGx-day_17</th>\n",
       "      <td>0</td>\n",
       "      <td>8.262836</td>\n",
       "      <td>-7.631942</td>\n",
       "      <td>0.994979</td>\n",
       "      <td>1.0</td>\n",
       "      <td>9.092457</td>\n",
       "      <td>nan</td>\n",
       "      <td>day_17</td>\n",
       "      <td>23656</td>\n",
       "      <td>4621</td>\n",
       "      <td>...</td>\n",
       "      <td>0.907120</td>\n",
       "      <td>-0.000000</td>\n",
       "      <td>-0.000000</td>\n",
       "      <td>Generalist</td>\n",
       "      <td>0.183124</td>\n",
       "      <td>-0.000000</td>\n",
       "      <td>-0.000000</td>\n",
       "      <td>-0.000000</td>\n",
       "      <td>-0.000000</td>\n",
       "      <td>0.125544</td>\n",
       "    </tr>\n",
       "    <tr>\n",
       "      <th>SRR11594445:AAACCCAAGCGGTATGx-day_17</th>\n",
       "      <td>7</td>\n",
       "      <td>13.148660</td>\n",
       "      <td>33.983105</td>\n",
       "      <td>0.956230</td>\n",
       "      <td>1.0</td>\n",
       "      <td>8.615046</td>\n",
       "      <td>nan</td>\n",
       "      <td>day_17</td>\n",
       "      <td>11501</td>\n",
       "      <td>1889</td>\n",
       "      <td>...</td>\n",
       "      <td>-0.000000</td>\n",
       "      <td>-0.000000</td>\n",
       "      <td>-0.000000</td>\n",
       "      <td>Generalist</td>\n",
       "      <td>-0.000000</td>\n",
       "      <td>0.019309</td>\n",
       "      <td>0.163438</td>\n",
       "      <td>0.165093</td>\n",
       "      <td>-0.000000</td>\n",
       "      <td>0.122486</td>\n",
       "    </tr>\n",
       "    <tr>\n",
       "      <th>SRR11594446:AAACCCAAGGGACCATx-day_21</th>\n",
       "      <td>2</td>\n",
       "      <td>26.372231</td>\n",
       "      <td>-24.111509</td>\n",
       "      <td>0.998126</td>\n",
       "      <td>1.0</td>\n",
       "      <td>9.084777</td>\n",
       "      <td>nan</td>\n",
       "      <td>day_21</td>\n",
       "      <td>22677</td>\n",
       "      <td>5236</td>\n",
       "      <td>...</td>\n",
       "      <td>-0.000000</td>\n",
       "      <td>-0.000000</td>\n",
       "      <td>-0.000000</td>\n",
       "      <td>Generalist</td>\n",
       "      <td>-0.000000</td>\n",
       "      <td>-0.000000</td>\n",
       "      <td>0.200015</td>\n",
       "      <td>0.199187</td>\n",
       "      <td>-0.000000</td>\n",
       "      <td>0.122934</td>\n",
       "    </tr>\n",
       "    <tr>\n",
       "      <th>SRR11594445:AAACCCAAGTGTTGTCx-day_17</th>\n",
       "      <td>2</td>\n",
       "      <td>-30.321774</td>\n",
       "      <td>-5.889364</td>\n",
       "      <td>0.990506</td>\n",
       "      <td>1.0</td>\n",
       "      <td>8.841304</td>\n",
       "      <td>nan</td>\n",
       "      <td>day_17</td>\n",
       "      <td>17302</td>\n",
       "      <td>2276</td>\n",
       "      <td>...</td>\n",
       "      <td>0.550628</td>\n",
       "      <td>-0.000000</td>\n",
       "      <td>-0.000000</td>\n",
       "      <td>Generalist</td>\n",
       "      <td>-0.000000</td>\n",
       "      <td>-0.000000</td>\n",
       "      <td>0.117279</td>\n",
       "      <td>0.053133</td>\n",
       "      <td>-0.000000</td>\n",
       "      <td>0.120870</td>\n",
       "    </tr>\n",
       "    <tr>\n",
       "      <th>SRR11594446:AAACCCACAACCTATGx-day_21</th>\n",
       "      <td>0</td>\n",
       "      <td>-19.904209</td>\n",
       "      <td>-25.285124</td>\n",
       "      <td>0.976213</td>\n",
       "      <td>1.0</td>\n",
       "      <td>8.729397</td>\n",
       "      <td>nan</td>\n",
       "      <td>day_21</td>\n",
       "      <td>14482</td>\n",
       "      <td>3074</td>\n",
       "      <td>...</td>\n",
       "      <td>-0.000000</td>\n",
       "      <td>-0.000000</td>\n",
       "      <td>-0.000000</td>\n",
       "      <td>SCLC-A2</td>\n",
       "      <td>-0.000000</td>\n",
       "      <td>0.586654</td>\n",
       "      <td>0.166721</td>\n",
       "      <td>-0.000000</td>\n",
       "      <td>-0.000000</td>\n",
       "      <td>0.126884</td>\n",
       "    </tr>\n",
       "    <tr>\n",
       "      <th>...</th>\n",
       "      <td>...</td>\n",
       "      <td>...</td>\n",
       "      <td>...</td>\n",
       "      <td>...</td>\n",
       "      <td>...</td>\n",
       "      <td>...</td>\n",
       "      <td>...</td>\n",
       "      <td>...</td>\n",
       "      <td>...</td>\n",
       "      <td>...</td>\n",
       "      <td>...</td>\n",
       "      <td>...</td>\n",
       "      <td>...</td>\n",
       "      <td>...</td>\n",
       "      <td>...</td>\n",
       "      <td>...</td>\n",
       "      <td>...</td>\n",
       "      <td>...</td>\n",
       "      <td>...</td>\n",
       "      <td>...</td>\n",
       "      <td>...</td>\n",
       "    </tr>\n",
       "    <tr>\n",
       "      <th>SRR11594443:TTTGTTGGTCACCACGx-day_11</th>\n",
       "      <td>1</td>\n",
       "      <td>-3.128966</td>\n",
       "      <td>1.649701</td>\n",
       "      <td>0.991031</td>\n",
       "      <td>1.0</td>\n",
       "      <td>9.049702</td>\n",
       "      <td>nan</td>\n",
       "      <td>day_11</td>\n",
       "      <td>22167</td>\n",
       "      <td>3299</td>\n",
       "      <td>...</td>\n",
       "      <td>0.454426</td>\n",
       "      <td>0.010897</td>\n",
       "      <td>2.352327</td>\n",
       "      <td>Generalist</td>\n",
       "      <td>0.056212</td>\n",
       "      <td>-0.000000</td>\n",
       "      <td>-0.000000</td>\n",
       "      <td>0.152491</td>\n",
       "      <td>0.013242</td>\n",
       "      <td>0.120966</td>\n",
       "    </tr>\n",
       "    <tr>\n",
       "      <th>SRR11594444:TTTGTTGGTCCGAAGAx-day_14</th>\n",
       "      <td>6</td>\n",
       "      <td>-19.655493</td>\n",
       "      <td>-38.446579</td>\n",
       "      <td>0.987072</td>\n",
       "      <td>1.0</td>\n",
       "      <td>8.850804</td>\n",
       "      <td>nan</td>\n",
       "      <td>day_14</td>\n",
       "      <td>15317</td>\n",
       "      <td>2306</td>\n",
       "      <td>...</td>\n",
       "      <td>0.314390</td>\n",
       "      <td>-0.000000</td>\n",
       "      <td>-0.000000</td>\n",
       "      <td>Generalist</td>\n",
       "      <td>-0.000000</td>\n",
       "      <td>0.079893</td>\n",
       "      <td>0.002555</td>\n",
       "      <td>-0.000000</td>\n",
       "      <td>0.101777</td>\n",
       "      <td>0.122037</td>\n",
       "    </tr>\n",
       "    <tr>\n",
       "      <th>SRR11594446:TTTGTTGGTCTTGTCCx-day_21</th>\n",
       "      <td>2</td>\n",
       "      <td>19.778913</td>\n",
       "      <td>-18.341286</td>\n",
       "      <td>0.995400</td>\n",
       "      <td>1.0</td>\n",
       "      <td>8.928243</td>\n",
       "      <td>nan</td>\n",
       "      <td>day_21</td>\n",
       "      <td>16528</td>\n",
       "      <td>3012</td>\n",
       "      <td>...</td>\n",
       "      <td>-0.000000</td>\n",
       "      <td>-0.000000</td>\n",
       "      <td>-0.000000</td>\n",
       "      <td>None</td>\n",
       "      <td>-0.000000</td>\n",
       "      <td>-0.000000</td>\n",
       "      <td>-0.000000</td>\n",
       "      <td>-0.000000</td>\n",
       "      <td>-0.000000</td>\n",
       "      <td>0.066262</td>\n",
       "    </tr>\n",
       "    <tr>\n",
       "      <th>SRR11594445:TTTGTTGGTGCCGTACx-day_17</th>\n",
       "      <td>4</td>\n",
       "      <td>5.839077</td>\n",
       "      <td>-25.006765</td>\n",
       "      <td>0.992308</td>\n",
       "      <td>1.0</td>\n",
       "      <td>8.644002</td>\n",
       "      <td>nan</td>\n",
       "      <td>day_17</td>\n",
       "      <td>11198</td>\n",
       "      <td>1809</td>\n",
       "      <td>...</td>\n",
       "      <td>-0.000000</td>\n",
       "      <td>-0.000000</td>\n",
       "      <td>-0.000000</td>\n",
       "      <td>Generalist</td>\n",
       "      <td>-0.000000</td>\n",
       "      <td>0.168620</td>\n",
       "      <td>0.050038</td>\n",
       "      <td>0.076237</td>\n",
       "      <td>-0.000000</td>\n",
       "      <td>0.122814</td>\n",
       "    </tr>\n",
       "    <tr>\n",
       "      <th>SRR11594446:TTTGTTGTCCCAAGTAx-day_21</th>\n",
       "      <td>0</td>\n",
       "      <td>-0.982131</td>\n",
       "      <td>-33.228390</td>\n",
       "      <td>0.881130</td>\n",
       "      <td>1.0</td>\n",
       "      <td>8.271804</td>\n",
       "      <td>nan</td>\n",
       "      <td>day_21</td>\n",
       "      <td>5648</td>\n",
       "      <td>1530</td>\n",
       "      <td>...</td>\n",
       "      <td>1.675981</td>\n",
       "      <td>-0.000000</td>\n",
       "      <td>-0.000000</td>\n",
       "      <td>Generalist</td>\n",
       "      <td>-0.000000</td>\n",
       "      <td>0.265485</td>\n",
       "      <td>0.185509</td>\n",
       "      <td>-0.000000</td>\n",
       "      <td>-0.000000</td>\n",
       "      <td>0.045124</td>\n",
       "    </tr>\n",
       "  </tbody>\n",
       "</table>\n",
       "<p>15257 rows × 108 columns</p>\n",
       "</div>"
      ],
      "text/plain": [
       "                                     Clusters         _X         _Y  \\\n",
       "SRR11594445:AAACCCAAGCCGAATGx-day_17        0   8.262836  -7.631942   \n",
       "SRR11594445:AAACCCAAGCGGTATGx-day_17        7  13.148660  33.983105   \n",
       "SRR11594446:AAACCCAAGGGACCATx-day_21        2  26.372231 -24.111509   \n",
       "SRR11594445:AAACCCAAGTGTTGTCx-day_17        2 -30.321774  -5.889364   \n",
       "SRR11594446:AAACCCACAACCTATGx-day_21        0 -19.904209 -25.285124   \n",
       "...                                       ...        ...        ...   \n",
       "SRR11594443:TTTGTTGGTCACCACGx-day_11        1  -3.128966   1.649701   \n",
       "SRR11594444:TTTGTTGGTCCGAAGAx-day_14        6 -19.655493 -38.446579   \n",
       "SRR11594446:TTTGTTGGTCTTGTCCx-day_21        2  19.778913 -18.341286   \n",
       "SRR11594445:TTTGTTGGTGCCGTACx-day_17        4   5.839077 -25.006765   \n",
       "SRR11594446:TTTGTTGTCCCAAGTAx-day_21        0  -0.982131 -33.228390   \n",
       "\n",
       "                                      dropkick_score  dropkick_label  \\\n",
       "SRR11594445:AAACCCAAGCCGAATGx-day_17        0.994979             1.0   \n",
       "SRR11594445:AAACCCAAGCGGTATGx-day_17        0.956230             1.0   \n",
       "SRR11594446:AAACCCAAGGGACCATx-day_21        0.998126             1.0   \n",
       "SRR11594445:AAACCCAAGTGTTGTCx-day_17        0.990506             1.0   \n",
       "SRR11594446:AAACCCACAACCTATGx-day_21        0.976213             1.0   \n",
       "...                                              ...             ...   \n",
       "SRR11594443:TTTGTTGGTCACCACGx-day_11        0.991031             1.0   \n",
       "SRR11594444:TTTGTTGGTCCGAAGAx-day_14        0.987072             1.0   \n",
       "SRR11594446:TTTGTTGGTCTTGTCCx-day_21        0.995400             1.0   \n",
       "SRR11594445:TTTGTTGGTGCCGTACx-day_17        0.992308             1.0   \n",
       "SRR11594446:TTTGTTGTCCCAAGTAx-day_21        0.881130             1.0   \n",
       "\n",
       "                                      arcsinh_n_genes_by_counts batch  \\\n",
       "SRR11594445:AAACCCAAGCCGAATGx-day_17                   9.092457   nan   \n",
       "SRR11594445:AAACCCAAGCGGTATGx-day_17                   8.615046   nan   \n",
       "SRR11594446:AAACCCAAGGGACCATx-day_21                   9.084777   nan   \n",
       "SRR11594445:AAACCCAAGTGTTGTCx-day_17                   8.841304   nan   \n",
       "SRR11594446:AAACCCACAACCTATGx-day_21                   8.729397   nan   \n",
       "...                                                         ...   ...   \n",
       "SRR11594443:TTTGTTGGTCACCACGx-day_11                   9.049702   nan   \n",
       "SRR11594444:TTTGTTGGTCCGAAGAx-day_14                   8.850804   nan   \n",
       "SRR11594446:TTTGTTGGTCTTGTCCx-day_21                   8.928243   nan   \n",
       "SRR11594445:TTTGTTGGTGCCGTACx-day_17                   8.644002   nan   \n",
       "SRR11594446:TTTGTTGTCCCAAGTAx-day_21                   8.271804   nan   \n",
       "\n",
       "                                     timepoint  initial_size_spliced  \\\n",
       "SRR11594445:AAACCCAAGCCGAATGx-day_17    day_17                 23656   \n",
       "SRR11594445:AAACCCAAGCGGTATGx-day_17    day_17                 11501   \n",
       "SRR11594446:AAACCCAAGGGACCATx-day_21    day_21                 22677   \n",
       "SRR11594445:AAACCCAAGTGTTGTCx-day_17    day_17                 17302   \n",
       "SRR11594446:AAACCCACAACCTATGx-day_21    day_21                 14482   \n",
       "...                                        ...                   ...   \n",
       "SRR11594443:TTTGTTGGTCACCACGx-day_11    day_11                 22167   \n",
       "SRR11594444:TTTGTTGGTCCGAAGAx-day_14    day_14                 15317   \n",
       "SRR11594446:TTTGTTGGTCTTGTCCx-day_21    day_21                 16528   \n",
       "SRR11594445:TTTGTTGGTGCCGTACx-day_17    day_17                 11198   \n",
       "SRR11594446:TTTGTTGTCCCAAGTAx-day_21    day_21                  5648   \n",
       "\n",
       "                                      initial_size_unspliced  ...  \\\n",
       "SRR11594445:AAACCCAAGCCGAATGx-day_17                    4621  ...   \n",
       "SRR11594445:AAACCCAAGCGGTATGx-day_17                    1889  ...   \n",
       "SRR11594446:AAACCCAAGGGACCATx-day_21                    5236  ...   \n",
       "SRR11594445:AAACCCAAGTGTTGTCx-day_17                    2276  ...   \n",
       "SRR11594446:AAACCCACAACCTATGx-day_21                    3074  ...   \n",
       "...                                                      ...  ...   \n",
       "SRR11594443:TTTGTTGGTCACCACGx-day_11                    3299  ...   \n",
       "SRR11594444:TTTGTTGGTCCGAAGAx-day_14                    2306  ...   \n",
       "SRR11594446:TTTGTTGGTCTTGTCCx-day_21                    3012  ...   \n",
       "SRR11594445:TTTGTTGGTGCCGTACx-day_17                    1809  ...   \n",
       "SRR11594446:TTTGTTGTCCCAAGTAx-day_21                    1530  ...   \n",
       "\n",
       "                                      SCLC-P_Z_Score  SCLC-Y_Sig_Score  \\\n",
       "SRR11594445:AAACCCAAGCCGAATGx-day_17        0.907120         -0.000000   \n",
       "SRR11594445:AAACCCAAGCGGTATGx-day_17       -0.000000         -0.000000   \n",
       "SRR11594446:AAACCCAAGGGACCATx-day_21       -0.000000         -0.000000   \n",
       "SRR11594445:AAACCCAAGTGTTGTCx-day_17        0.550628         -0.000000   \n",
       "SRR11594446:AAACCCACAACCTATGx-day_21       -0.000000         -0.000000   \n",
       "...                                              ...               ...   \n",
       "SRR11594443:TTTGTTGGTCACCACGx-day_11        0.454426          0.010897   \n",
       "SRR11594444:TTTGTTGGTCCGAAGAx-day_14        0.314390         -0.000000   \n",
       "SRR11594446:TTTGTTGGTCTTGTCCx-day_21       -0.000000         -0.000000   \n",
       "SRR11594445:TTTGTTGGTGCCGTACx-day_17       -0.000000         -0.000000   \n",
       "SRR11594446:TTTGTTGTCCCAAGTAx-day_21        1.675981         -0.000000   \n",
       "\n",
       "                                      SCLC-Y_Z_Score   Phenotype  \\\n",
       "SRR11594445:AAACCCAAGCCGAATGx-day_17       -0.000000  Generalist   \n",
       "SRR11594445:AAACCCAAGCGGTATGx-day_17       -0.000000  Generalist   \n",
       "SRR11594446:AAACCCAAGGGACCATx-day_21       -0.000000  Generalist   \n",
       "SRR11594445:AAACCCAAGTGTTGTCx-day_17       -0.000000  Generalist   \n",
       "SRR11594446:AAACCCACAACCTATGx-day_21       -0.000000     SCLC-A2   \n",
       "...                                              ...         ...   \n",
       "SRR11594443:TTTGTTGGTCACCACGx-day_11        2.352327  Generalist   \n",
       "SRR11594444:TTTGTTGGTCCGAAGAx-day_14       -0.000000  Generalist   \n",
       "SRR11594446:TTTGTTGGTCTTGTCCx-day_21       -0.000000        None   \n",
       "SRR11594445:TTTGTTGGTGCCGTACx-day_17       -0.000000  Generalist   \n",
       "SRR11594446:TTTGTTGTCCCAAGTAx-day_21       -0.000000  Generalist   \n",
       "\n",
       "                                      SCLC-A_Score_pos  SCLC-A2_Score_pos  \\\n",
       "SRR11594445:AAACCCAAGCCGAATGx-day_17          0.183124          -0.000000   \n",
       "SRR11594445:AAACCCAAGCGGTATGx-day_17         -0.000000           0.019309   \n",
       "SRR11594446:AAACCCAAGGGACCATx-day_21         -0.000000          -0.000000   \n",
       "SRR11594445:AAACCCAAGTGTTGTCx-day_17         -0.000000          -0.000000   \n",
       "SRR11594446:AAACCCACAACCTATGx-day_21         -0.000000           0.586654   \n",
       "...                                                ...                ...   \n",
       "SRR11594443:TTTGTTGGTCACCACGx-day_11          0.056212          -0.000000   \n",
       "SRR11594444:TTTGTTGGTCCGAAGAx-day_14         -0.000000           0.079893   \n",
       "SRR11594446:TTTGTTGGTCTTGTCCx-day_21         -0.000000          -0.000000   \n",
       "SRR11594445:TTTGTTGGTGCCGTACx-day_17         -0.000000           0.168620   \n",
       "SRR11594446:TTTGTTGTCCCAAGTAx-day_21         -0.000000           0.265485   \n",
       "\n",
       "                                      SCLC-N_Score_pos  SCLC-P_Score_pos  \\\n",
       "SRR11594445:AAACCCAAGCCGAATGx-day_17         -0.000000         -0.000000   \n",
       "SRR11594445:AAACCCAAGCGGTATGx-day_17          0.163438          0.165093   \n",
       "SRR11594446:AAACCCAAGGGACCATx-day_21          0.200015          0.199187   \n",
       "SRR11594445:AAACCCAAGTGTTGTCx-day_17          0.117279          0.053133   \n",
       "SRR11594446:AAACCCACAACCTATGx-day_21          0.166721         -0.000000   \n",
       "...                                                ...               ...   \n",
       "SRR11594443:TTTGTTGGTCACCACGx-day_11         -0.000000          0.152491   \n",
       "SRR11594444:TTTGTTGGTCCGAAGAx-day_14          0.002555         -0.000000   \n",
       "SRR11594446:TTTGTTGGTCTTGTCCx-day_21         -0.000000         -0.000000   \n",
       "SRR11594445:TTTGTTGGTGCCGTACx-day_17          0.050038          0.076237   \n",
       "SRR11594446:TTTGTTGTCCCAAGTAx-day_21          0.185509         -0.000000   \n",
       "\n",
       "                                      SCLC-Y_Score_pos  diffusion_pseudotime  \n",
       "SRR11594445:AAACCCAAGCCGAATGx-day_17         -0.000000              0.125544  \n",
       "SRR11594445:AAACCCAAGCGGTATGx-day_17         -0.000000              0.122486  \n",
       "SRR11594446:AAACCCAAGGGACCATx-day_21         -0.000000              0.122934  \n",
       "SRR11594445:AAACCCAAGTGTTGTCx-day_17         -0.000000              0.120870  \n",
       "SRR11594446:AAACCCACAACCTATGx-day_21         -0.000000              0.126884  \n",
       "...                                                ...                   ...  \n",
       "SRR11594443:TTTGTTGGTCACCACGx-day_11          0.013242              0.120966  \n",
       "SRR11594444:TTTGTTGGTCCGAAGAx-day_14          0.101777              0.122037  \n",
       "SRR11594446:TTTGTTGGTCTTGTCCx-day_21         -0.000000              0.066262  \n",
       "SRR11594445:TTTGTTGGTGCCGTACx-day_17         -0.000000              0.122814  \n",
       "SRR11594446:TTTGTTGTCCCAAGTAx-day_21         -0.000000              0.045124  \n",
       "\n",
       "[15257 rows x 108 columns]"
      ]
     },
     "execution_count": 71,
     "metadata": {},
     "output_type": "execute_result"
    }
   ],
   "source": [
    "adata.obs"
   ]
  },
  {
   "cell_type": "code",
   "execution_count": 74,
   "id": "c5ddf8fc-f6ff-4125-9c4b-03b352557e10",
   "metadata": {},
   "outputs": [
    {
     "data": {
      "image/png": "[encoded data removed]",
      "text/plain": [
       "<Figure size 432x288 with 1 Axes>"
      ]
     },
     "metadata": {},
     "output_type": "display_data"
    }
   ],
   "source": [
    "sc.pl.umap(adata, color = 'timepoint')"
   ]
  },
  {
   "cell_type": "code",
   "execution_count": 28,
   "id": "95248d01-9f9f-4baa-8d83-e4684730e95d",
   "metadata": {},
   "outputs": [
    {
     "data": {
      "text/plain": [
       "Index(['Barcode', 'Diffusion Pseudotime', 'Monocle Pseudotime', 'time',\n",
       "       'barcode'],\n",
       "      dtype='object')"
      ]
     },
     "execution_count": 28,
     "metadata": {},
     "output_type": "execute_result"
    }
   ],
   "source": [
    "pseudo.columns"
   ]
  },
  {
   "cell_type": "code",
   "execution_count": 40,
   "id": "53378110-d3c9-4ef9-bdb3-168b2064919c",
   "metadata": {},
   "outputs": [],
   "source": [
    "ptlist = []\n",
    "ptlist = list(pseudo['Diffusion Pseudotime'])"
   ]
  },
  {
   "cell_type": "code",
   "execution_count": 47,
   "id": "10cd1334-43fd-4a58-b724-21c42ca0accb",
   "metadata": {},
   "outputs": [
    {
     "name": "stdout",
     "output_type": "stream",
     "text": [
      "15257\n"
     ]
    }
   ],
   "source": [
    "print(len(ptlist[:15257]))"
   ]
  },
  {
   "cell_type": "code",
   "execution_count": 48,
   "id": "267a8f68-862a-45d6-8896-4bb357f5a93d",
   "metadata": {},
   "outputs": [],
   "source": [
    "adata.obs['diffusion_pseudotime'] = ptlist[:15257]"
   ]
  },
  {
   "cell_type": "code",
   "execution_count": 51,
   "id": "658b6466-b703-40c2-91fb-de99f46239f0",
   "metadata": {},
   "outputs": [
    {
     "name": "stdout",
     "output_type": "stream",
     "text": [
      "0    AAAGGTAGTTGCAAGG\n",
      "1    AACCACATCCACCTCA\n",
      "2    AAGCGAGAGACCAGAC\n",
      "3    AAGTACCGTTCGTACA\n",
      "4    AAGTCGTTCGTAGGGA\n",
      "5    AATGACCGTCTGTGGC\n",
      "6    ACATCCCCATTACGGT\n",
      "7    ACCAAACAGCCACCGT\n",
      "8    ACTGATGGTATCTCTT\n",
      "9    AGAAATGAGAGCCGAT\n",
      "Name: barcode, dtype: object 0    0.080624\n",
      "1    0.070802\n",
      "2    0.069488\n",
      "3    0.057792\n",
      "4    0.069608\n",
      "5    0.066701\n",
      "6    0.081641\n",
      "7    0.081827\n",
      "8    0.038994\n",
      "9    0.083562\n",
      "Name: Diffusion Pseudotime, dtype: float64\n"
     ]
    }
   ],
   "source": [
    "print(pseudo['barcode'][:10], pseudo['Diffusion Pseudotime'][:10])"
   ]
  },
  {
   "cell_type": "code",
   "execution_count": 50,
   "id": "46ddcffc-6839-4386-8363-8218ba8b4079",
   "metadata": {},
   "outputs": [
    {
     "name": "stdout",
     "output_type": "stream",
     "text": [
      "SRR11594440:AACCACATCCACCTCAx-0-day_4    AACCACATCCACCTCA\n",
      "SRR11594440:AAAGGTAGTTGCAAGGx-0-day_4    AAAGGTAGTTGCAAGG\n",
      "SRR11594440:AAGCGAGAGACCAGACx-0-day_4    AAGCGAGAGACCAGAC\n",
      "SRR11594440:AAGTCGTTCGTAGGGAx-0-day_4    AAGTCGTTCGTAGGGA\n",
      "SRR11594440:AAGTACCGTTCGTACAx-0-day_4    AAGTACCGTTCGTACA\n",
      "SRR11594440:AATGACCGTCTGTGGCx-0-day_4    AATGACCGTCTGTGGC\n",
      "SRR11594440:ACCAAACAGCCACCGTx-0-day_4    ACCAAACAGCCACCGT\n",
      "SRR11594440:ACCAACAAGTGATAGTx-0-day_4    ACCAACAAGTGATAGT\n",
      "SRR11594440:ACATCCCCATTACGGTx-0-day_4    ACATCCCCATTACGGT\n",
      "SRR11594440:ACTGCAAGTCTGCCTTx-0-day_4    ACTGCAAGTCTGCCTT\n",
      "Name: barcode, dtype: object SRR11594440:AACCACATCCACCTCAx-0-day_4    0.080624\n",
      "SRR11594440:AAAGGTAGTTGCAAGGx-0-day_4    0.070802\n",
      "SRR11594440:AAGCGAGAGACCAGACx-0-day_4    0.069488\n",
      "SRR11594440:AAGTCGTTCGTAGGGAx-0-day_4    0.057792\n",
      "SRR11594440:AAGTACCGTTCGTACAx-0-day_4    0.069608\n",
      "SRR11594440:AATGACCGTCTGTGGCx-0-day_4    0.066701\n",
      "SRR11594440:ACCAAACAGCCACCGTx-0-day_4    0.081641\n",
      "SRR11594440:ACCAACAAGTGATAGTx-0-day_4    0.081827\n",
      "SRR11594440:ACATCCCCATTACGGTx-0-day_4    0.038994\n",
      "SRR11594440:ACTGCAAGTCTGCCTTx-0-day_4    0.083562\n",
      "Name: diffusion_pseudotime, dtype: float64\n"
     ]
    }
   ],
   "source": [
    "print(adata.obs['barcode'][:10], adata.obs['diffusion_pseudotime'][:10])"
   ]
  },
  {
   "cell_type": "code",
   "execution_count": null,
   "id": "cd4dca71-5c58-44b5-b29d-a308ce43dd2c",
   "metadata": {},
   "outputs": [],
   "source": []
  },
  {
   "cell_type": "markdown",
   "id": "014d5dd0-25c2-4c75-a182-78088aff5b3c",
   "metadata": {
    "tags": []
   },
   "source": [
    "# Run scVelo\n",
    "\n",
    "We will use the dynamical model from scVelo to estimate the velocities. Please make sure to have at least version 0.2.3 of scVelo installed to make use parallelisation in scv.tl.recover_dynamics. On my laptop, using 8 cores, the below cell takes about 1:30 min to execute."
   ]
  },
  {
   "cell_type": "code",
   "execution_count": 75,
   "id": "d6fa0459-d8d8-4d87-b12c-05989fd60c34",
   "metadata": {},
   "outputs": [],
   "source": [
    "tfs = ['SP100', 'FOSL1', 'HES1', 'NFKBIZ', 'RELB', 'EPAS1', 'BCL3', 'REST', 'SP110', 'NFKB2', 'TEAD2', 'HMG20B', 'SIX5',\n",
    "       'RARG', 'TEAD4', 'ZNF217', 'SP140L', 'SOX18', 'HOXC13', 'STAT6', 'ETV4', 'KLF2', 'MITF', 'NR0B2', 'ASCL1', 'ZBTB7C', 'ELF3',\n",
    "       'RORC', 'FOXA2', 'ETS2','TOX3', 'XBP1', 'ST18', 'FOXA1', 'OVOL2', 'ZNF664', 'TBX10', 'PROX1', 'ETV6', 'CEBPD', 'TFCP2L1', 'FOXJ3',\n",
    "       'ZNF407', 'ZNF511','ZNF396', 'RBPJ', 'ZSCAN31', 'HOXB5', 'ZNF3', 'TSHZ2', 'ZBTB16', 'ZNF10', 'FLI1', 'GATA4', 'NR0B1', 'NHLH1',\n",
    "       'NEUROD6', 'ZNF581', 'TCF15', 'LYAR', 'ISL2', 'OLIG2', 'NEUROD1', 'INSM1', 'PAX5', 'SP6', 'MYT1', 'HES6', 'ZNF24', 'ISL1', 'ZNF397',\n",
    "       'SOX11', 'ZNF253', 'SMAD4', 'RBP1', 'ONECUT2', 'ZNF711', 'DLX5', 'GRIP1', 'ZNF157', 'ZNF713', 'ZNF136', 'FOXN4', 'PATZ1', 'ZNF491',\n",
    "       'ZBTB21', 'KLF12', 'ZNF501', 'ZNF785', 'CXXC1', 'ZNF324', 'ZNF764', 'ZBTB18', 'KAT8', 'ZNF334', 'POU4F1', 'ZNF250', 'ZNF132',\n",
    "       'SALL2', 'DLX6', 'MBD1','SOX1', 'ZFP3', 'ZNF543', 'POU2F1', 'NONO', 'SMAD9', 'ZKSCAN2', 'TCF12', 'VEZF1', 'TOX', 'BHLHE22', 'MTA1',\n",
    "       'TCF3', 'SCRT2', 'RFX7','NHLH2', 'SCRT1', 'RCOR2', 'PURG', 'TBPL1', 'TCF4', 'EBF1', 'ZNF749', 'NEUROD2', 'ZNF423', 'BACH2', 'GLI1',\n",
    "       'ZFP64','NKX2-1', 'MYC', 'YAP1', 'POU2F3', 'MYCL', 'MYCN', 'ASCL2', 'AVIL', 'CHAT', 'GFI1B',\n",
    "      'CHGA','EPCAM', 'Tmed11', 'Rsl24d1','Olfr123', 'Adam20','Srsf2', 'G3bp1', 'Snrpd1', 'Pgk1', 'Rps3', 'Psmd1', 'Orc2', 'Psma2', 'Syncrip', 'Cnbp',\n",
    "            'Gspt1', 'Ppm1g', 'Eif4e', 'Hnrnpa3', 'Abce1', 'Hnrnpu',  'Ifrd1', 'Kpna2', 'Dhx15', 'Mcm4']"
   ]
  },
  {
   "cell_type": "code",
   "execution_count": 76,
   "id": "019abcc5-4bb2-4c03-8d32-4e6fd94289c2",
   "metadata": {},
   "outputs": [
    {
     "data": {
      "text/plain": [
       "Index(['Rplp1', 'Rps8', 'Ftl1', 'Rplp2', 'Hsp90ab1', 'Rpl23', 'Gm42418',\n",
       "       'Rpl19', 'Rpl13', 'Rpsa',\n",
       "       ...\n",
       "       'Myh8', 'Klra1', 'Gm36079', 'Gm1110', 'Lcn10', 'Nr0b1', 'Sox1', 'Chat',\n",
       "       'Neurod1', 'Olig2'],\n",
       "      dtype='object', length=21163)"
      ]
     },
     "execution_count": 76,
     "metadata": {},
     "output_type": "execute_result"
    }
   ],
   "source": [
    "adata.var_names"
   ]
  },
  {
   "cell_type": "code",
   "execution_count": 77,
   "id": "e1bfae56-af4a-4539-8da3-af05f86e721f",
   "metadata": {},
   "outputs": [
    {
     "name": "stdout",
     "output_type": "stream",
     "text": [
      "Filtered out 10170 genes that are detected 20 counts (shared).\n",
      "WARNING: Did not normalize X as it looks processed already. To enforce normalization, set `enforce=True`.\n",
      "WARNING: Did not normalize spliced as it looks processed already. To enforce normalization, set `enforce=True`.\n",
      "WARNING: Did not normalize unspliced as it looks processed already. To enforce normalization, set `enforce=True`.\n",
      "WARNING: Did not modify X as it looks preprocessed already.\n"
     ]
    }
   ],
   "source": [
    "scv.pp.filter_and_normalize(adata, min_shared_counts=20, retain_genes = tfs)\n",
    "# sc.tl.pca(adata)\n",
    "# sc.pp.neighbors(adata, n_pcs=30, n_neighbors=30)\n",
    "# scv.pp.moments(adata, n_pcs=None, n_neighbors=None)"
   ]
  },
  {
   "cell_type": "code",
   "execution_count": 78,
   "id": "9848a6df-1a26-4c76-9aa1-3e942e72ab97",
   "metadata": {},
   "outputs": [
    {
     "name": "stdout",
     "output_type": "stream",
     "text": [
      "recovering dynamics (using 1/16 cores)\n"
     ]
    },
    {
     "data": {
      "application/vnd.jupyter.widget-view+json": {
       "model_id": "2fbc61aead6e411881f532ace138e679",
       "version_major": 2,
       "version_minor": 0
      },
      "text/plain": [
       "  0%|          | 0/1680 [00:00<?, ?gene/s]"
      ]
     },
     "metadata": {},
     "output_type": "display_data"
    },
    {
     "name": "stdout",
     "output_type": "stream",
     "text": [
      "    finished (0:43:52) --> added \n",
      "    'fit_pars', fitted parameters for splicing dynamics (adata.var)\n"
     ]
    },
    {
     "name": "stderr",
     "output_type": "stream",
     "text": [
      "/Users/geenaildefonso/anaconda/envs/mazebox_env/lib/python3.9/site-packages/scvelo/tools/dynamical_model.py:713: VisibleDeprecationWarning: Creating an ndarray from ragged nested sequences (which is a list-or-tuple of lists-or-tuples-or ndarrays with different lengths or shapes) is deprecated. If you meant to do this, you must specify 'dtype=object' when creating the ndarray.\n",
      "  np.array([dm.alpha, dm.beta, dm.gamma, dm.pars[:3]]) / dm.m[-1]\n",
      "/Users/geenaildefonso/anaconda/envs/mazebox_env/lib/python3.9/site-packages/scvelo/tools/dynamical_model.py:716: VisibleDeprecationWarning: Creating an ndarray from ragged nested sequences (which is a list-or-tuple of lists-or-tuples-or ndarrays with different lengths or shapes) is deprecated. If you meant to do this, you must specify 'dtype=object' when creating the ndarray.\n",
      "  np.array([dm.t, dm.tau, dm.t_, dm.pars[4]]) * dm.m[-1]\n"
     ]
    }
   ],
   "source": [
    "scv.tl.recover_dynamics(adata)"
   ]
  },
  {
   "cell_type": "markdown",
   "id": "7b3bc17e-8f18-459f-9a8d-28fa9d55007f",
   "metadata": {},
   "source": [
    "Once we have the parameters, we can use these to compute the velocities and the velocity graph. The velocity graph is a weighted graph that specifies how likely two cells are to transition into another, given their velocity vectors and relative positions."
   ]
  },
  {
   "cell_type": "code",
   "execution_count": 79,
   "id": "ddd914b4-975d-4f15-8998-f293cd935c15",
   "metadata": {},
   "outputs": [
    {
     "name": "stdout",
     "output_type": "stream",
     "text": [
      "computing velocities\n",
      "    finished (0:00:40) --> added \n",
      "    'velocity', velocity vectors for each individual cell (adata.layers)\n",
      "computing velocity graph (using 1/16 cores)\n"
     ]
    },
    {
     "data": {
      "application/vnd.jupyter.widget-view+json": {
       "model_id": "6d46a74cfe164db5a40519ffb7ea8b6c",
       "version_major": 2,
       "version_minor": 0
      },
      "text/plain": [
       "  0%|          | 0/15257 [00:00<?, ?cells/s]"
      ]
     },
     "metadata": {},
     "output_type": "display_data"
    },
    {
     "name": "stderr",
     "output_type": "stream",
     "text": [
      "/Users/geenaildefonso/anaconda/envs/mazebox_env/lib/python3.9/site-packages/scvelo/core/_parallelize.py:138: VisibleDeprecationWarning: Creating an ndarray from ragged nested sequences (which is a list-or-tuple of lists-or-tuples-or ndarrays with different lengths or shapes) is deprecated. If you meant to do this, you must specify 'dtype=object' when creating the ndarray.\n",
      "  res = np.array(res) if as_array else res\n"
     ]
    },
    {
     "name": "stdout",
     "output_type": "stream",
     "text": [
      "    finished (0:01:23) --> added \n",
      "    'velocity_graph', sparse matrix with cosine correlations (adata.uns)\n"
     ]
    }
   ],
   "source": [
    "scv.tl.velocity(adata, mode=\"dynamical\")\n",
    "scv.tl.velocity_graph(adata)"
   ]
  },
  {
   "cell_type": "code",
   "execution_count": 80,
   "id": "3ebce428-b8ac-4f91-904d-a4b724a348e2",
   "metadata": {},
   "outputs": [
    {
     "name": "stdout",
     "output_type": "stream",
     "text": [
      "computing velocity embedding\n",
      "    finished (0:00:04) --> added\n",
      "    'velocity_umap', embedded velocity vectors (adata.obsm)\n"
     ]
    },
    {
     "data": {
      "image/png": "[encoded data removed]",
      "text/plain": [
       "<Figure size 432x288 with 1 Axes>"
      ]
     },
     "metadata": {},
     "output_type": "display_data"
    }
   ],
   "source": [
    "# scv.pl.velocity_embedding_stream(\n",
    "#     adata, basis=\"umap\", legend_fontsize=12, title=\"\", smooth=0.8, min_mass=4\n",
    "# )\n",
    "\n",
    "scv.pl.velocity_embedding_stream(adata, basis='umap',color=['timepoint'])"
   ]
  },
  {
   "cell_type": "code",
   "execution_count": null,
   "id": "6931dc19-2f7f-4583-a5d8-77c03ca102b2",
   "metadata": {},
   "outputs": [],
   "source": []
  },
  {
   "cell_type": "code",
   "execution_count": null,
   "id": "b409248e-ff3b-43ab-9f77-55b8cf20a147",
   "metadata": {},
   "outputs": [],
   "source": [
    "scv.tl.velocity(adata, mode=\"stochastic\")\n",
    "scv.tl.velocity_graph(adata)"
   ]
  },
  {
   "cell_type": "code",
   "execution_count": null,
   "id": "214bd4fe-cfbd-4ba5-b9f5-76285ed6f402",
   "metadata": {},
   "outputs": [],
   "source": [
    "sc.pp.pca(adata)"
   ]
  },
  {
   "cell_type": "code",
   "execution_count": null,
   "id": "be38eb46-2601-422f-bd89-2970032e8b39",
   "metadata": {},
   "outputs": [],
   "source": [
    "scv.pl.pca(adata, color = 'leiden')"
   ]
  },
  {
   "cell_type": "code",
   "execution_count": null,
   "id": "b5822766-8d82-4558-b260-c5f4f11a74b4",
   "metadata": {},
   "outputs": [],
   "source": [
    "adata"
   ]
  },
  {
   "cell_type": "markdown",
   "id": "e205366d-e83f-4516-a1a0-28aa2c46cfa1",
   "metadata": {},
   "source": [
    "# Run CellRank\n",
    "\n",
    "CellRank offers various ways to infuse directionality into single-cell data. Here, the directional information comes from RNA velocity, and we use this information to compute initial & terminal states as well as fate probabilities for the dynamical process of pancreatic development.\n",
    "\n",
    "# Identify Terminal States\n",
    "\n",
    "Terminal states can be computed by running the following command:\n"
   ]
  },
  {
   "cell_type": "code",
   "execution_count": null,
   "id": "c9c37648-97bf-4a54-ab45-0bd610e0bc72",
   "metadata": {},
   "outputs": [],
   "source": [
    "cr.pl.circular_projection(\n",
    "    adata, keys=[\"timepoint\", \"kl_divergence\"], legend_loc=\"upper right\"\n",
    ")"
   ]
  },
  {
   "cell_type": "code",
   "execution_count": null,
   "id": "bb5dca77-1ba8-46dd-9d2d-a66300011d8d",
   "metadata": {},
   "outputs": [],
   "source": [
    "cr.tl.terminal_states(adata, cluster_key=\"leiden\", weight_connectivities=0.2)"
   ]
  },
  {
   "cell_type": "code",
   "execution_count": null,
   "id": "6c736971-8029-4da5-a1e5-0b68544a17a8",
   "metadata": {},
   "outputs": [],
   "source": [
    "cr.tl.terminal_states(adata, cluster_key=\"timepoint\", weight_connectivities=0.2)"
   ]
  },
  {
   "cell_type": "code",
   "execution_count": null,
   "id": "ede65a01-716b-4d1c-88eb-17c4cffc5afd",
   "metadata": {},
   "outputs": [],
   "source": [
    "cr.tl.lineages(adata)\n",
    "\n",
    "model = cr.ul.models.GAM(adata)"
   ]
  },
  {
   "cell_type": "code",
   "execution_count": null,
   "id": "6123189b-57df-4f0f-87e9-379074aca6c1",
   "metadata": {},
   "outputs": [],
   "source": [
    "cr.pl.gene_trends(\n",
    "    adata,\n",
    "    model,\n",
    "    ['Rsl24d1'],\n",
    "    data_key=\"Ms\",\n",
    "    time_key=\"dpt_pseudotime\",\n",
    "    show_progress_bar=False,\n",
    ")"
   ]
  }
 ],
 "metadata": {
  "kernelspec": {
   "display_name": "Python 3 (ipykernel)",
   "language": "python",
   "name": "python3"
  },
  "language_info": {
   "codemirror_mode": {
    "name": "ipython",
    "version": 3
   },
   "file_extension": ".py",
   "mimetype": "text/x-python",
   "name": "python",
   "nbconvert_exporter": "python",
   "pygments_lexer": "ipython3",
   "version": "3.9.6"
  }
 },
 "nbformat": 4,
 "nbformat_minor": 5
}
