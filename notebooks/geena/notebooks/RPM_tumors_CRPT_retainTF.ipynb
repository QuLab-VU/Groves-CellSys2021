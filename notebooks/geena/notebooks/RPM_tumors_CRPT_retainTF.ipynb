{
 "cells": [
  {
   "cell_type": "markdown",
   "id": "35157585-c5fe-4d96-85a1-743f3954c5ff",
   "metadata": {},
   "source": [
    "# CellRank Basics\n",
    "\n",
    "This tutorial introduces you to CellRank’s high level API for computing initial & terminal states and fate probabilities. Once we have the fate probabilities, this tutorial shows you how to use them to plot a directed [Wolf et al., 2019], to compute putative lineage drivers and to visualize smooth gene expression trends. If you want a bit more control over how initial & terminal states and fate probabilities are computed, then you should check out CellRank’s low level API, composed of kernels and estimators. This really isn’t any more complicated than using scikit-learn, so please do check out the Kernels and estimators tutorial.\n",
    "\n",
    "In this tutorial, we will use RNA velocity and transcriptomic similarity to estimate cell-cell transition probabilities. Using kernels and estimators, you can apply CellRank even without RNA velocity information, check out our CellRank beyond RNA velocity tutorial. CellRank generalizes beyond RNA velocity and is a widely applicable framework to model single-cell data based on the powerful concept of Markov chains.\n",
    "\n",
    "The first part of this tutorial is very similar to scVelo’s tutorial on pancreatic endocrinogenesis. The data we use here comes from [Bastidas-Ponce et al., 2019]. For more info on scVelo, see the documentation or take a look at [Bergen et al., 2020].\n",
    "\n",
    "This tutorial notebook can be downloaded using the following link."
   ]
  },
  {
   "cell_type": "code",
   "execution_count": null,
   "id": "f4c71a88-5c56-4aa4-8679-59a40209365c",
   "metadata": {},
   "outputs": [],
   "source": []
  },
  {
   "cell_type": "markdown",
   "id": "370ad4d4-54db-4c1e-904d-9e46fd6d4675",
   "metadata": {},
   "source": [
    "# Import Packages and Data\n",
    "\n",
    "Easiest way to start is to download Miniconda3 along with the environment file found here. To create the environment, run conda create -f environment.yml."
   ]
  },
  {
   "cell_type": "code",
   "execution_count": 2,
   "id": "86a09811-8cb7-4083-8903-0630889114a7",
   "metadata": {},
   "outputs": [],
   "source": [
    "import scvelo as scv\n",
    "import scanpy as sc\n",
    "import cellrank as cr\n",
    "import os.path as op\n",
    "import pandas as pd\n",
    "import numpy as np\n",
    "import matplotlib.pyplot as plt\n",
    "import sys\n",
    "sys.path.insert(1, \"/Users/geenaildefonso/Projects/\")\n",
    "import mazebox as mb\n",
    "sys.path.insert(1, '/Users/geenaildefonso/Dropbox (VU Basic Sciences)/')\n",
    "from typing import Any\n",
    "from copy import copy\n",
    "from anndata import AnnData\n",
    "import scipy.sparse as sp"
   ]
  },
  {
   "cell_type": "code",
   "execution_count": 3,
   "id": "b0d917c4-8699-4efe-9cf1-ecbed2701e4e",
   "metadata": {
    "tags": []
   },
   "outputs": [],
   "source": [
    "import warnings\n",
    "\n",
    "warnings.simplefilter(\"ignore\", category=UserWarning)\n",
    "warnings.simplefilter(\"ignore\", category=FutureWarning)\n",
    "warnings.simplefilter(\"ignore\", category=DeprecationWarning)"
   ]
  },
  {
   "cell_type": "code",
   "execution_count": null,
   "id": "10597e37-78a9-4937-b241-e5b708efa5c6",
   "metadata": {},
   "outputs": [],
   "source": [
    "scv.settings.verbosity = 3\n",
    "scv.settings.set_figure_params(\"scvelo\")\n",
    "cr.settings.verbosity = 2"
   ]
  },
  {
   "cell_type": "code",
   "execution_count": 4,
   "id": "3077c2c4-eb47-44b8-a689-fe3da662257e",
   "metadata": {},
   "outputs": [],
   "source": [
    "adata = scv.read('/Users/geenaildefonso/Dropbox (VU Basic Sciences)/RPM/adata05.h5ad')"
   ]
  },
  {
   "cell_type": "code",
   "execution_count": 34,
   "id": "50e111dd-01e8-4421-bb76-64e30ee06fa8",
   "metadata": {},
   "outputs": [
    {
     "data": {
      "text/plain": [
       "AnnData object with n_obs × n_vars = 15257 × 21163\n",
       "    obs: 'Clusters', '_X', '_Y', 'dropkick_score', 'dropkick_label', 'arcsinh_n_genes_by_counts', 'batch', 'timepoint', 'initial_size_spliced', 'initial_size_unspliced', 'initial_size', 'n_genes_by_counts', 'log1p_n_genes_by_counts', 'total_counts', 'log1p_total_counts', 'total_counts_mito', 'log1p_total_counts_mito', 'pct_counts_mito', 'total_counts_ambient', 'log1p_total_counts_ambient', 'pct_counts_ambient', 'arcsinh_total_counts', 'S_score', 'G2M_score', 'phase', 'leiden', 'barcode', 'kept', 'n_counts', 'velocity_self_transition', 'velocity_length', 'velocity_confidence', 'velocity_confidence_transition', 'root_cells', 'end_points', 'velocity_pseudotime', 'dpt_pseudotime', 'col', 'absorbing', 'absorb_group', 'log1p_plasticity', 'SCLC-Y_Score', 'SCLC-Y_Col', 'SCLC-P_Score', 'SCLC-P_Col', 'SCLC-N_Score', 'SCLC-N_Col', 'SCLC-A2_Score', 'SCLC-A2_Col', 'SCLC-A_Score', 'SCLC-A_Col', 'Phenotype_unfiltered', 'max', 'SCLC-Yscore', 'SCLC-Ycol', 'SCLC-Pscore', 'SCLC-Pcol', 'SCLC-Nscore', 'SCLC-Ncol', 'SCLC-A2score', 'SCLC-A2col', 'SCLC-Ascore', 'SCLC-Acol', 'SCLC-Y_sig_score', 'SCLC-Y_z_score', 'SCLC-P_sig_score', 'SCLC-P_z_score', 'SCLC-N_sig_score', 'SCLC-N_z_score', 'SCLC-A2_sig_score', 'SCLC-A2_z_score', 'SCLC-A_sig_score', 'SCLC-A_z_score', 'Phenotype_filtered', 'max_filtered', 'score_entropy', 'SCLC-A_ANY', 'SCLC-N_ANY', 'SCLC-Y_ANY', 'SCLC-A_Sig_ANY', 'SCLC-A_Z_ANY', 'SCLC-N_Sig_ANY', 'SCLC-N_Z_ANY', 'SCLC-Y_Sig_ANY', 'SCLC-Y_Z_ANY', 'Phenotype_ANY', 'SCLC-A_Score_t1', 'SCLC-A2_Score_t1', 'SCLC-N_Score_t1', 'SCLC-P_Score_t1', 'SCLC-Y_Score_t1', 'SCLC-A_Sig_Score', 'SCLC-A_Z_Score', 'SCLC-A2_Sig_Score', 'SCLC-A2_Z_Score', 'SCLC-N_Sig_Score', 'SCLC-N_Z_Score', 'SCLC-P_Sig_Score', 'SCLC-P_Z_Score', 'SCLC-Y_Sig_Score', 'SCLC-Y_Z_Score', 'Phenotype', 'SCLC-A_Score_pos', 'SCLC-A2_Score_pos', 'SCLC-N_Score_pos', 'SCLC-P_Score_pos', 'SCLC-Y_Score_pos'\n",
       "    var: 'Accession', 'Chromosome', 'End', 'Start', 'Strand', 'dropkick_coef-day_11', 'dropkick_coef-day_14', 'dropkick_coef-day_17', 'dropkick_coef-day_21', 'dropkick_coef-0-day_4', 'dropkick_coef-1-day_4', 'dropkick_coef-day_4', 'dropkick_coef-day_7', 'mito', 'pct_dropout_by_counts', 'ambient', 'n_cells_by_counts', 'mean_counts', 'log1p_mean_counts', 'total_counts', 'log1p_total_counts', 'highly_variable', 'means', 'mean', 'std', 'velocity_gamma', 'velocity_r2', 'velocity_genes'\n",
       "    uns: 'Phenotype_ANY_colors', 'Phenotype_filtered_colors', 'Phenotype_unfiltered_colors', 'diffmap_evals', 'hvg', 'iroot', 'leiden', 'leiden_colors', 'leiden_sizes', 'neighbors', 'paga', 'pca', 'phase_colors', 'timepoint_colors', 'umap', 'velocity_graph', 'velocity_graph_neg', 'velocity_params'\n",
       "    obsm: 'X_diffmap', 'X_pca', 'X_tsne', 'X_umap', 'velocity_tsne', 'velocity_umap'\n",
       "    varm: 'PCs'\n",
       "    layers: 'Ms', 'Mu', 'ambiguous', 'arcsinh_norm', 'log1p_norm', 'matrix', 'raw_counts', 'spliced', 'unspliced', 'velocity'\n",
       "    obsp: 'connectivities', 'distances'"
      ]
     },
     "execution_count": 34,
     "metadata": {},
     "output_type": "execute_result"
    }
   ],
   "source": [
    "adata"
   ]
  },
  {
   "cell_type": "code",
   "execution_count": 26,
   "id": "8029b5bd-efad-4e6a-ae1a-f062e714d533",
   "metadata": {},
   "outputs": [],
   "source": [
    "from cellrank.tl.kernels import VelocityKernel\n",
    "\n",
    "vk = VelocityKernel(adata)"
   ]
  },
  {
   "cell_type": "code",
   "execution_count": 27,
   "id": "92be38da-45cb-41c3-9ac3-1a916c51d341",
   "metadata": {},
   "outputs": [
    {
     "data": {
      "application/vnd.jupyter.widget-view+json": {
       "model_id": "6ea3e67349a744418ba2b5da92cd2a2b",
       "version_major": 2,
       "version_minor": 0
      },
      "text/plain": [
       "  0%|          | 0/15257 [00:00<?, ?cell/s]"
      ]
     },
     "metadata": {},
     "output_type": "display_data"
    },
    {
     "data": {
      "application/vnd.jupyter.widget-view+json": {
       "model_id": "d0fe8290256d4ceebd3f3f45b2124051",
       "version_major": 2,
       "version_minor": 0
      },
      "text/plain": [
       "  0%|          | 0/15257 [00:00<?, ?cell/s]"
      ]
     },
     "metadata": {},
     "output_type": "display_data"
    },
    {
     "data": {
      "text/plain": [
       "<VelocityKernel>"
      ]
     },
     "execution_count": 27,
     "metadata": {},
     "output_type": "execute_result"
    }
   ],
   "source": [
    "vk.compute_transition_matrix()"
   ]
  },
  {
   "cell_type": "code",
   "execution_count": 29,
   "id": "e0b2ead7-9df0-4a28-af3f-efbcac458cb9",
   "metadata": {},
   "outputs": [
    {
     "name": "stdout",
     "output_type": "stream",
     "text": [
      "Reading `adata.obs['barcode']`\n"
     ]
    }
   ],
   "source": [
    "ptk = PTKernel(adata).compute_transition_matrix()"
   ]
  },
  {
   "cell_type": "code",
   "execution_count": 30,
   "id": "c371be40-7d06-477c-a6b5-17d95f4f1d67",
   "metadata": {},
   "outputs": [],
   "source": [
    "combined_kernel = 0.8 * vk + 0.2 * ptk"
   ]
  },
  {
   "cell_type": "code",
   "execution_count": 31,
   "id": "eea3be5c-debf-43ad-b5cb-d24d3033e08e",
   "metadata": {},
   "outputs": [
    {
     "name": "stdout",
     "output_type": "stream",
     "text": [
      "((0.8 * <VelocityKernel[softmax_scale=4.78, mode=deterministic, seed=2732, scheme=<CorrelationScheme>]>) + (0.2 * <PTKernel[some_parameter=0.5]>))\n"
     ]
    }
   ],
   "source": [
    "print(combined_kernel)"
   ]
  },
  {
   "cell_type": "code",
   "execution_count": null,
   "id": "89624d30-b47b-48b2-a3f2-12e1c7e5d0bf",
   "metadata": {},
   "outputs": [],
   "source": []
  },
  {
   "cell_type": "code",
   "execution_count": 5,
   "id": "011a078b-c79c-497b-a9f7-c74c3c2476ac",
   "metadata": {},
   "outputs": [],
   "source": [
    "pseudo = pd.read_csv('PseudoCorr.csv', index_col=0, header = 0)"
   ]
  },
  {
   "cell_type": "code",
   "execution_count": 6,
   "id": "029b2795-3d40-4d83-af67-04b27e517468",
   "metadata": {},
   "outputs": [],
   "source": [
    "pseudo.reset_index(inplace=True)\n",
    "pseudo = pseudo.rename(columns = {'index':'Barcode'})"
   ]
  },
  {
   "cell_type": "code",
   "execution_count": null,
   "id": "6f7725a2-285b-4815-8e17-9362aed3c583",
   "metadata": {},
   "outputs": [],
   "source": [
    "adata.obs"
   ]
  },
  {
   "cell_type": "code",
   "execution_count": 7,
   "id": "ec46ea32-a841-483e-b1c9-1b53c871f8d0",
   "metadata": {},
   "outputs": [
    {
     "data": {
      "text/html": [
       "<div>\n",
       "<style scoped>\n",
       "    .dataframe tbody tr th:only-of-type {\n",
       "        vertical-align: middle;\n",
       "    }\n",
       "\n",
       "    .dataframe tbody tr th {\n",
       "        vertical-align: top;\n",
       "    }\n",
       "\n",
       "    .dataframe thead th {\n",
       "        text-align: right;\n",
       "    }\n",
       "</style>\n",
       "<table border=\"1\" class=\"dataframe\">\n",
       "  <thead>\n",
       "    <tr style=\"text-align: right;\">\n",
       "      <th></th>\n",
       "      <th>Barcode</th>\n",
       "      <th>Diffusion Pseudotime</th>\n",
       "      <th>Monocle Pseudotime</th>\n",
       "      <th>time</th>\n",
       "    </tr>\n",
       "  </thead>\n",
       "  <tbody>\n",
       "    <tr>\n",
       "      <th>0</th>\n",
       "      <td>AAAGGTAGTTGCAAGG_15806X1</td>\n",
       "      <td>0.080624</td>\n",
       "      <td>7.026657</td>\n",
       "      <td>4</td>\n",
       "    </tr>\n",
       "    <tr>\n",
       "      <th>1</th>\n",
       "      <td>AACCACATCCACCTCA_15806X1</td>\n",
       "      <td>0.070802</td>\n",
       "      <td>4.444920</td>\n",
       "      <td>4</td>\n",
       "    </tr>\n",
       "    <tr>\n",
       "      <th>2</th>\n",
       "      <td>AAGCGAGAGACCAGAC_15806X1</td>\n",
       "      <td>0.069488</td>\n",
       "      <td>2.045337</td>\n",
       "      <td>4</td>\n",
       "    </tr>\n",
       "    <tr>\n",
       "      <th>3</th>\n",
       "      <td>AAGTACCGTTCGTACA_15806X1</td>\n",
       "      <td>0.057792</td>\n",
       "      <td>3.756390</td>\n",
       "      <td>4</td>\n",
       "    </tr>\n",
       "    <tr>\n",
       "      <th>4</th>\n",
       "      <td>AAGTCGTTCGTAGGGA_15806X1</td>\n",
       "      <td>0.069608</td>\n",
       "      <td>1.996313</td>\n",
       "      <td>4</td>\n",
       "    </tr>\n",
       "  </tbody>\n",
       "</table>\n",
       "</div>"
      ],
      "text/plain": [
       "                    Barcode  Diffusion Pseudotime  Monocle Pseudotime time\n",
       "0  AAAGGTAGTTGCAAGG_15806X1              0.080624            7.026657    4\n",
       "1  AACCACATCCACCTCA_15806X1              0.070802            4.444920    4\n",
       "2  AAGCGAGAGACCAGAC_15806X1              0.069488            2.045337    4\n",
       "3  AAGTACCGTTCGTACA_15806X1              0.057792            3.756390    4\n",
       "4  AAGTCGTTCGTAGGGA_15806X1              0.069608            1.996313    4"
      ]
     },
     "execution_count": 7,
     "metadata": {},
     "output_type": "execute_result"
    }
   ],
   "source": [
    "pseudo.head()"
   ]
  },
  {
   "cell_type": "code",
   "execution_count": 8,
   "id": "e6c88029-91be-4e3a-a083-a3e8e6972d5f",
   "metadata": {},
   "outputs": [
    {
     "data": {
      "text/plain": [
       "Index(['Barcode', 'Diffusion Pseudotime', 'Monocle Pseudotime', 'time'], dtype='object')"
      ]
     },
     "execution_count": 8,
     "metadata": {},
     "output_type": "execute_result"
    }
   ],
   "source": [
    "pseudo.columns"
   ]
  },
  {
   "cell_type": "code",
   "execution_count": 55,
   "id": "7088b13a-c7e4-44fd-869f-e606acc60edb",
   "metadata": {},
   "outputs": [],
   "source": [
    "# bcs = pd.read_csv('../data/RPM_cell_barcodes.csv', index_col=0, header = 0)\n",
    "# bcs['barcode_short'] = [i.split('_')[0] for i in bcs['Tumor Cell Barcodes']]\n",
    "\n",
    "# adata.obs['barcode'] = [str(i.split(\":\")[1].split('x')[0]) for i in adata.obs_names]\n",
    "\n",
    "# filtered_cells = []\n",
    "# for i in adata.obs['barcode']:\n",
    "#     if i in list(bcs['barcode_short']): \n",
    "#         filtered_cells.append(True)\n",
    "#     else:\n",
    "#         filtered_cells.append(False)\n",
    "# adata.obs['kept'] = filtered_cells\n",
    "# sc.pl.umap(adata, color = 'kept')\n",
    "\n",
    "# pseudo = pd.read_csv('PseudoCorr.csv', index_col=0, header = 0)\n",
    "pseudo['barcode'] = [i.split('_')[0] for i in pseudo['Barcode']]\n",
    "\n",
    "adata.obs['barcode'] = [str(i.split(\":\")[1].split('x')[0]) for i in adata.obs_names]\n",
    "\n",
    "filtered_cells = []\n",
    "for i in adata.obs['barcode']:\n",
    "    if i in list(pseudo['barcode']): \n",
    "        filtered_cells.append(True)\n",
    "    else:\n",
    "        filtered_cells.append(False)\n",
    "adata.obs['kept'] = filtered_cells\n",
    "# sc.pl.umap(adata, color = 'kept')"
   ]
  },
  {
   "cell_type": "code",
   "execution_count": 57,
   "id": "58ebc71f-37d1-46f1-abdc-e9d631b9c7f7",
   "metadata": {},
   "outputs": [
    {
     "name": "stdout",
     "output_type": "stream",
     "text": [
      "15257\n",
      "15110\n"
     ]
    }
   ],
   "source": [
    "print(len(filtered_cells))\n",
    "print(sum(filtered_cells)) #ones that are true "
   ]
  },
  {
   "cell_type": "code",
   "execution_count": 56,
   "id": "c9aeb9c6-e00e-4dc6-976e-df0a86552291",
   "metadata": {},
   "outputs": [
    {
     "data": {
      "text/html": [
       "<div>\n",
       "<style scoped>\n",
       "    .dataframe tbody tr th:only-of-type {\n",
       "        vertical-align: middle;\n",
       "    }\n",
       "\n",
       "    .dataframe tbody tr th {\n",
       "        vertical-align: top;\n",
       "    }\n",
       "\n",
       "    .dataframe thead th {\n",
       "        text-align: right;\n",
       "    }\n",
       "</style>\n",
       "<table border=\"1\" class=\"dataframe\">\n",
       "  <thead>\n",
       "    <tr style=\"text-align: right;\">\n",
       "      <th></th>\n",
       "      <th>Barcode</th>\n",
       "      <th>Diffusion Pseudotime</th>\n",
       "      <th>Monocle Pseudotime</th>\n",
       "      <th>time</th>\n",
       "      <th>barcode_short</th>\n",
       "      <th>barcode</th>\n",
       "    </tr>\n",
       "  </thead>\n",
       "  <tbody>\n",
       "    <tr>\n",
       "      <th>0</th>\n",
       "      <td>AAAGGTAGTTGCAAGG_15806X1</td>\n",
       "      <td>0.080624</td>\n",
       "      <td>7.026657</td>\n",
       "      <td>4</td>\n",
       "      <td>AAAGGTAGTTGCAAGG</td>\n",
       "      <td>AAAGGTAGTTGCAAGG</td>\n",
       "    </tr>\n",
       "    <tr>\n",
       "      <th>1</th>\n",
       "      <td>AACCACATCCACCTCA_15806X1</td>\n",
       "      <td>0.070802</td>\n",
       "      <td>4.444920</td>\n",
       "      <td>4</td>\n",
       "      <td>AACCACATCCACCTCA</td>\n",
       "      <td>AACCACATCCACCTCA</td>\n",
       "    </tr>\n",
       "    <tr>\n",
       "      <th>2</th>\n",
       "      <td>AAGCGAGAGACCAGAC_15806X1</td>\n",
       "      <td>0.069488</td>\n",
       "      <td>2.045337</td>\n",
       "      <td>4</td>\n",
       "      <td>AAGCGAGAGACCAGAC</td>\n",
       "      <td>AAGCGAGAGACCAGAC</td>\n",
       "    </tr>\n",
       "    <tr>\n",
       "      <th>3</th>\n",
       "      <td>AAGTACCGTTCGTACA_15806X1</td>\n",
       "      <td>0.057792</td>\n",
       "      <td>3.756390</td>\n",
       "      <td>4</td>\n",
       "      <td>AAGTACCGTTCGTACA</td>\n",
       "      <td>AAGTACCGTTCGTACA</td>\n",
       "    </tr>\n",
       "    <tr>\n",
       "      <th>4</th>\n",
       "      <td>AAGTCGTTCGTAGGGA_15806X1</td>\n",
       "      <td>0.069608</td>\n",
       "      <td>1.996313</td>\n",
       "      <td>4</td>\n",
       "      <td>AAGTCGTTCGTAGGGA</td>\n",
       "      <td>AAGTCGTTCGTAGGGA</td>\n",
       "    </tr>\n",
       "  </tbody>\n",
       "</table>\n",
       "</div>"
      ],
      "text/plain": [
       "                    Barcode  Diffusion Pseudotime  Monocle Pseudotime time  \\\n",
       "0  AAAGGTAGTTGCAAGG_15806X1              0.080624            7.026657    4   \n",
       "1  AACCACATCCACCTCA_15806X1              0.070802            4.444920    4   \n",
       "2  AAGCGAGAGACCAGAC_15806X1              0.069488            2.045337    4   \n",
       "3  AAGTACCGTTCGTACA_15806X1              0.057792            3.756390    4   \n",
       "4  AAGTCGTTCGTAGGGA_15806X1              0.069608            1.996313    4   \n",
       "\n",
       "      barcode_short           barcode  \n",
       "0  AAAGGTAGTTGCAAGG  AAAGGTAGTTGCAAGG  \n",
       "1  AACCACATCCACCTCA  AACCACATCCACCTCA  \n",
       "2  AAGCGAGAGACCAGAC  AAGCGAGAGACCAGAC  \n",
       "3  AAGTACCGTTCGTACA  AAGTACCGTTCGTACA  \n",
       "4  AAGTCGTTCGTAGGGA  AAGTCGTTCGTAGGGA  "
      ]
     },
     "execution_count": 56,
     "metadata": {},
     "output_type": "execute_result"
    }
   ],
   "source": [
    "pseudo.head()"
   ]
  },
  {
   "cell_type": "code",
   "execution_count": 52,
   "id": "a92b354e-37e9-4317-8496-b62aee4c3479",
   "metadata": {},
   "outputs": [],
   "source": [
    "df1 = adata.obs\n",
    "df2 = pseudo"
   ]
  },
  {
   "cell_type": "code",
   "execution_count": 53,
   "id": "9f835dc5-7c9d-442a-bb2d-ae2f575f25e1",
   "metadata": {},
   "outputs": [
    {
     "name": "stdout",
     "output_type": "stream",
     "text": [
      "Index(['Clusters', '_X', '_Y', 'dropkick_score', 'dropkick_label',\n",
      "       'arcsinh_n_genes_by_counts', 'batch', 'timepoint',\n",
      "       'initial_size_spliced', 'initial_size_unspliced',\n",
      "       ...\n",
      "       'SCLC-P_Sig_Score', 'SCLC-P_Z_Score', 'SCLC-Y_Sig_Score',\n",
      "       'SCLC-Y_Z_Score', 'Phenotype', 'SCLC-A_Score_pos', 'SCLC-A2_Score_pos',\n",
      "       'SCLC-N_Score_pos', 'SCLC-P_Score_pos', 'SCLC-Y_Score_pos'],\n",
      "      dtype='object', length=107)\n",
      "Index(['Barcode', 'Diffusion Pseudotime', 'Monocle Pseudotime', 'time',\n",
      "       'barcode_short'],\n",
      "      dtype='object')\n"
     ]
    }
   ],
   "source": [
    "print(df1.columns)\n",
    "print(df2.columns)"
   ]
  },
  {
   "cell_type": "code",
   "execution_count": 54,
   "id": "73f4bee9-08d6-49a4-a0d1-ef3fab6e1606",
   "metadata": {},
   "outputs": [
    {
     "ename": "ValueError",
     "evalue": "Array conditional must be same shape as self",
     "output_type": "error",
     "traceback": [
      "\u001b[0;31m---------------------------------------------------------------------------\u001b[0m",
      "\u001b[0;31mValueError\u001b[0m                                Traceback (most recent call last)",
      "\u001b[0;32m/var/folders/mk/5gzhv5l57n56d6x7fnfgzpw00000gn/T/ipykernel_35343/2215202150.py\u001b[0m in \u001b[0;36m<module>\u001b[0;34m\u001b[0m\n\u001b[0;32m----> 1\u001b[0;31m \u001b[0mdf3\u001b[0m \u001b[0;34m=\u001b[0m \u001b[0mdf1\u001b[0m\u001b[0;34m.\u001b[0m\u001b[0mwhere\u001b[0m\u001b[0;34m(\u001b[0m\u001b[0mdf1\u001b[0m\u001b[0;34m[\u001b[0m\u001b[0;34m'barcode'\u001b[0m\u001b[0;34m]\u001b[0m\u001b[0;34m.\u001b[0m\u001b[0mvalues\u001b[0m\u001b[0;34m==\u001b[0m\u001b[0mdf2\u001b[0m\u001b[0;34m[\u001b[0m\u001b[0;34m'barcode_short'\u001b[0m\u001b[0;34m]\u001b[0m\u001b[0;34m.\u001b[0m\u001b[0mvalues\u001b[0m\u001b[0;34m)\u001b[0m\u001b[0;34m\u001b[0m\u001b[0;34m\u001b[0m\u001b[0m\n\u001b[0m",
      "\u001b[0;32m~/anaconda/envs/mazebox_env/lib/python3.9/site-packages/pandas/util/_decorators.py\u001b[0m in \u001b[0;36mwrapper\u001b[0;34m(*args, **kwargs)\u001b[0m\n\u001b[1;32m    309\u001b[0m                     \u001b[0mstacklevel\u001b[0m\u001b[0;34m=\u001b[0m\u001b[0mstacklevel\u001b[0m\u001b[0;34m,\u001b[0m\u001b[0;34m\u001b[0m\u001b[0;34m\u001b[0m\u001b[0m\n\u001b[1;32m    310\u001b[0m                 )\n\u001b[0;32m--> 311\u001b[0;31m             \u001b[0;32mreturn\u001b[0m \u001b[0mfunc\u001b[0m\u001b[0;34m(\u001b[0m\u001b[0;34m*\u001b[0m\u001b[0margs\u001b[0m\u001b[0;34m,\u001b[0m \u001b[0;34m**\u001b[0m\u001b[0mkwargs\u001b[0m\u001b[0;34m)\u001b[0m\u001b[0;34m\u001b[0m\u001b[0;34m\u001b[0m\u001b[0m\n\u001b[0m\u001b[1;32m    312\u001b[0m \u001b[0;34m\u001b[0m\u001b[0m\n\u001b[1;32m    313\u001b[0m         \u001b[0;32mreturn\u001b[0m \u001b[0mwrapper\u001b[0m\u001b[0;34m\u001b[0m\u001b[0;34m\u001b[0m\u001b[0m\n",
      "\u001b[0;32m~/anaconda/envs/mazebox_env/lib/python3.9/site-packages/pandas/core/frame.py\u001b[0m in \u001b[0;36mwhere\u001b[0;34m(self, cond, other, inplace, axis, level, errors, try_cast)\u001b[0m\n\u001b[1;32m  10734\u001b[0m         \u001b[0mtry_cast\u001b[0m\u001b[0;34m=\u001b[0m\u001b[0mlib\u001b[0m\u001b[0;34m.\u001b[0m\u001b[0mno_default\u001b[0m\u001b[0;34m,\u001b[0m\u001b[0;34m\u001b[0m\u001b[0;34m\u001b[0m\u001b[0m\n\u001b[1;32m  10735\u001b[0m     ):\n\u001b[0;32m> 10736\u001b[0;31m         \u001b[0;32mreturn\u001b[0m \u001b[0msuper\u001b[0m\u001b[0;34m(\u001b[0m\u001b[0;34m)\u001b[0m\u001b[0;34m.\u001b[0m\u001b[0mwhere\u001b[0m\u001b[0;34m(\u001b[0m\u001b[0mcond\u001b[0m\u001b[0;34m,\u001b[0m \u001b[0mother\u001b[0m\u001b[0;34m,\u001b[0m \u001b[0minplace\u001b[0m\u001b[0;34m,\u001b[0m \u001b[0maxis\u001b[0m\u001b[0;34m,\u001b[0m \u001b[0mlevel\u001b[0m\u001b[0;34m,\u001b[0m \u001b[0merrors\u001b[0m\u001b[0;34m,\u001b[0m \u001b[0mtry_cast\u001b[0m\u001b[0;34m)\u001b[0m\u001b[0;34m\u001b[0m\u001b[0;34m\u001b[0m\u001b[0m\n\u001b[0m\u001b[1;32m  10737\u001b[0m \u001b[0;34m\u001b[0m\u001b[0m\n\u001b[1;32m  10738\u001b[0m     @deprecate_nonkeyword_arguments(\n",
      "\u001b[0;32m~/anaconda/envs/mazebox_env/lib/python3.9/site-packages/pandas/core/generic.py\u001b[0m in \u001b[0;36mwhere\u001b[0;34m(self, cond, other, inplace, axis, level, errors, try_cast)\u001b[0m\n\u001b[1;32m   9030\u001b[0m             )\n\u001b[1;32m   9031\u001b[0m \u001b[0;34m\u001b[0m\u001b[0m\n\u001b[0;32m-> 9032\u001b[0;31m         \u001b[0;32mreturn\u001b[0m \u001b[0mself\u001b[0m\u001b[0;34m.\u001b[0m\u001b[0m_where\u001b[0m\u001b[0;34m(\u001b[0m\u001b[0mcond\u001b[0m\u001b[0;34m,\u001b[0m \u001b[0mother\u001b[0m\u001b[0;34m,\u001b[0m \u001b[0minplace\u001b[0m\u001b[0;34m,\u001b[0m \u001b[0maxis\u001b[0m\u001b[0;34m,\u001b[0m \u001b[0mlevel\u001b[0m\u001b[0;34m,\u001b[0m \u001b[0merrors\u001b[0m\u001b[0;34m=\u001b[0m\u001b[0merrors\u001b[0m\u001b[0;34m)\u001b[0m\u001b[0;34m\u001b[0m\u001b[0;34m\u001b[0m\u001b[0m\n\u001b[0m\u001b[1;32m   9033\u001b[0m \u001b[0;34m\u001b[0m\u001b[0m\n\u001b[1;32m   9034\u001b[0m     \u001b[0;34m@\u001b[0m\u001b[0mfinal\u001b[0m\u001b[0;34m\u001b[0m\u001b[0;34m\u001b[0m\u001b[0m\n",
      "\u001b[0;32m~/anaconda/envs/mazebox_env/lib/python3.9/site-packages/pandas/core/generic.py\u001b[0m in \u001b[0;36m_where\u001b[0;34m(self, cond, other, inplace, axis, level, errors)\u001b[0m\n\u001b[1;32m   8769\u001b[0m                 \u001b[0mcond\u001b[0m \u001b[0;34m=\u001b[0m \u001b[0mnp\u001b[0m\u001b[0;34m.\u001b[0m\u001b[0masanyarray\u001b[0m\u001b[0;34m(\u001b[0m\u001b[0mcond\u001b[0m\u001b[0;34m)\u001b[0m\u001b[0;34m\u001b[0m\u001b[0;34m\u001b[0m\u001b[0m\n\u001b[1;32m   8770\u001b[0m             \u001b[0;32mif\u001b[0m \u001b[0mcond\u001b[0m\u001b[0;34m.\u001b[0m\u001b[0mshape\u001b[0m \u001b[0;34m!=\u001b[0m \u001b[0mself\u001b[0m\u001b[0;34m.\u001b[0m\u001b[0mshape\u001b[0m\u001b[0;34m:\u001b[0m\u001b[0;34m\u001b[0m\u001b[0;34m\u001b[0m\u001b[0m\n\u001b[0;32m-> 8771\u001b[0;31m                 \u001b[0;32mraise\u001b[0m \u001b[0mValueError\u001b[0m\u001b[0;34m(\u001b[0m\u001b[0;34m\"Array conditional must be same shape as self\"\u001b[0m\u001b[0;34m)\u001b[0m\u001b[0;34m\u001b[0m\u001b[0;34m\u001b[0m\u001b[0m\n\u001b[0m\u001b[1;32m   8772\u001b[0m             \u001b[0mcond\u001b[0m \u001b[0;34m=\u001b[0m \u001b[0mself\u001b[0m\u001b[0;34m.\u001b[0m\u001b[0m_constructor\u001b[0m\u001b[0;34m(\u001b[0m\u001b[0mcond\u001b[0m\u001b[0;34m,\u001b[0m \u001b[0;34m**\u001b[0m\u001b[0mself\u001b[0m\u001b[0;34m.\u001b[0m\u001b[0m_construct_axes_dict\u001b[0m\u001b[0;34m(\u001b[0m\u001b[0;34m)\u001b[0m\u001b[0;34m)\u001b[0m\u001b[0;34m\u001b[0m\u001b[0;34m\u001b[0m\u001b[0m\n\u001b[1;32m   8773\u001b[0m \u001b[0;34m\u001b[0m\u001b[0m\n",
      "\u001b[0;31mValueError\u001b[0m: Array conditional must be same shape as self"
     ]
    }
   ],
   "source": [
    "df3 = df1.where(df1['barcode'].values==df2['barcode_short'].values)"
   ]
  },
  {
   "cell_type": "code",
   "execution_count": 47,
   "id": "fe0fca85-b15a-4559-a1cd-da47f5621b62",
   "metadata": {},
   "outputs": [
    {
     "data": {
      "text/plain": [
       "0          AAAGGTAGTTGCAAGG\n",
       "1          AACCACATCCACCTCA\n",
       "2          AAGCGAGAGACCAGAC\n",
       "3          AAGTACCGTTCGTACA\n",
       "4          AAGTCGTTCGTAGGGA\n",
       "                ...        \n",
       "17058    TTATTGCCAACTTCTT-1\n",
       "17059    TTCCTCTTCCTGGGTG-1\n",
       "17060    TTCGCTGGTCCGACGT-1\n",
       "17061    TTCGGTCGTCTGTCCT-1\n",
       "17062    TTTCATGTCATCACTT-1\n",
       "Name: barcode_short, Length: 17063, dtype: object"
      ]
     },
     "execution_count": 47,
     "metadata": {},
     "output_type": "execute_result"
    }
   ],
   "source": [
    "pseudo['barcode_short']"
   ]
  },
  {
   "cell_type": "code",
   "execution_count": 46,
   "id": "f34e01c8-f249-4a15-aa21-2501ba50f618",
   "metadata": {},
   "outputs": [
    {
     "data": {
      "text/plain": [
       "SRR11594440:AACCACATCCACCTCAx-0-day_4    AACCACATCCACCTCA\n",
       "SRR11594440:AAAGGTAGTTGCAAGGx-0-day_4    AAAGGTAGTTGCAAGG\n",
       "SRR11594440:AAGCGAGAGACCAGACx-0-day_4    AAGCGAGAGACCAGAC\n",
       "SRR11594440:AAGTCGTTCGTAGGGAx-0-day_4    AAGTCGTTCGTAGGGA\n",
       "SRR11594440:AAGTACCGTTCGTACAx-0-day_4    AAGTACCGTTCGTACA\n",
       "                                               ...       \n",
       "SRR11594446:TTTGACTGTACCTTCCx-day_21     TTTGACTGTACCTTCC\n",
       "SRR11594446:TTTGGAGGTGGCTACCx-day_21     TTTGGAGGTGGCTACC\n",
       "SRR11594446:TTTGATCAGACTTCGTx-day_21     TTTGATCAGACTTCGT\n",
       "SRR11594446:TTTGGTTAGGAAGTGAx-day_21     TTTGGTTAGGAAGTGA\n",
       "SRR11594446:TTTGGAGCACCAACATx-day_21     TTTGGAGCACCAACAT\n",
       "Name: barcode, Length: 15257, dtype: object"
      ]
     },
     "execution_count": 46,
     "metadata": {},
     "output_type": "execute_result"
    }
   ],
   "source": [
    "adata.obs['barcode']"
   ]
  },
  {
   "cell_type": "code",
   "execution_count": null,
   "id": "23398efb-f2cf-4238-88a9-f9a3beda77a9",
   "metadata": {},
   "outputs": [],
   "source": [
    "class MyKernel(cr.tl.kernels.Kernel):\n",
    "    def compute_transition_matrix(self, some_parameter: float = 0.5) -> \"MyKernel\":\n",
    "        transition_matrix = sp.diags(\n",
    "            (some_parameter,) * len(self.adata), dtype=np.float64\n",
    "        )\n",
    "        self._compute_transition_matrix(transition_matrix, density_normalize=True)\n",
    "        return self\n",
    "\n",
    "    def copy(self) -> \"MyKernel\":\n",
    "        return copy(self)"
   ]
  },
  {
   "cell_type": "code",
   "execution_count": 28,
   "id": "82fa8c04-d48b-4a00-baab-b63412326412",
   "metadata": {},
   "outputs": [],
   "source": [
    "class PTKernel(cr.tl.kernels.Kernel):\n",
    "    def __init__(\n",
    "        self, adata: adata, obs_key: str = \"barcode\", **kwargs: Any):\n",
    "        super().__init__(adata=adata, obs_key=obs_key, **kwargs)\n",
    "\n",
    "    def _read_from_adata(self, obs_key: str, **kwargs: Any):\n",
    "        super()._read_from_adata(**kwargs)\n",
    "\n",
    "        print(f\"Reading `adata.obs[{obs_key!r}]`\")\n",
    "        self.pseudotime = self.adata.obs[obs_key].values\n",
    "\n",
    "    def compute_transition_matrix(self, some_parameter: float = 0.5):\n",
    "        if self._reuse_cache({\"some_parameter\": some_parameter}):\n",
    "            print(\"Using cached values for parameters:\", self.params)\n",
    "            return self\n",
    "\n",
    "        transition_matrix = sp.diags(\n",
    "            (some_parameter,) * len(self.adata), dtype=np.float64\n",
    "        )\n",
    "\n",
    "        self._compute_transition_matrix(transition_matrix, density_normalize=True)\n",
    "\n",
    "        return self\n",
    "\n",
    "    def copy(self):\n",
    "        return copy(self)"
   ]
  },
  {
   "cell_type": "code",
   "execution_count": 10,
   "id": "ce057367-a0a0-410b-82b0-761c39a24c45",
   "metadata": {},
   "outputs": [],
   "source": [
    "class PTKernel(cr.tl.kernels.Kernel):\n",
    "    def __init__(\n",
    "        self, adata: adata, obs_key: str = \"barcode\", **kwargs: Any):\n",
    "        super().__init__(adata=adata, obs_key=obs_key, **kwargs)\n",
    "\n",
    "    def _read_from_adata(self, obs_key: str, **kwargs: Any):\n",
    "        super()._read_from_adata(**kwargs)\n",
    "\n",
    "        print(f\"Reading `adata.obs[{obs_key!r}]`\")\n",
    "        self.pseudotime = self.adata.obs[obs_key].values\n",
    "\n",
    "    def compute_transition_matrix(self, some_parameter: float = 0.5):\n",
    "        if self._reuse_cache({\"some_parameter\": some_parameter}):\n",
    "            print(\"Using cached values for parameters:\", self.params)\n",
    "            return self\n",
    "\n",
    "        transition_matrix = sp.diags(\n",
    "            (some_parameter,) * len(self.adata), dtype=np.float64\n",
    "        )\n",
    "\n",
    "        self._compute_transition_matrix(transition_matrix, density_normalize=True)\n",
    "\n",
    "        return self\n",
    "\n",
    "    def copy(self):\n",
    "        return copy(self)"
   ]
  },
  {
   "cell_type": "code",
   "execution_count": 12,
   "id": "e97b5760-9840-48a6-863e-4fff7ce8b163",
   "metadata": {},
   "outputs": [
    {
     "data": {
      "text/html": [
       "<div>\n",
       "<style scoped>\n",
       "    .dataframe tbody tr th:only-of-type {\n",
       "        vertical-align: middle;\n",
       "    }\n",
       "\n",
       "    .dataframe tbody tr th {\n",
       "        vertical-align: top;\n",
       "    }\n",
       "\n",
       "    .dataframe thead th {\n",
       "        text-align: right;\n",
       "    }\n",
       "</style>\n",
       "<table border=\"1\" class=\"dataframe\">\n",
       "  <thead>\n",
       "    <tr style=\"text-align: right;\">\n",
       "      <th></th>\n",
       "      <th>Barcode</th>\n",
       "      <th>Diffusion Pseudotime</th>\n",
       "      <th>Monocle Pseudotime</th>\n",
       "      <th>time</th>\n",
       "      <th>barcode_short</th>\n",
       "    </tr>\n",
       "  </thead>\n",
       "  <tbody>\n",
       "    <tr>\n",
       "      <th>0</th>\n",
       "      <td>AAAGGTAGTTGCAAGG_15806X1</td>\n",
       "      <td>0.080624</td>\n",
       "      <td>7.026657</td>\n",
       "      <td>4</td>\n",
       "      <td>AAAGGTAGTTGCAAGG</td>\n",
       "    </tr>\n",
       "    <tr>\n",
       "      <th>1</th>\n",
       "      <td>AACCACATCCACCTCA_15806X1</td>\n",
       "      <td>0.070802</td>\n",
       "      <td>4.444920</td>\n",
       "      <td>4</td>\n",
       "      <td>AACCACATCCACCTCA</td>\n",
       "    </tr>\n",
       "    <tr>\n",
       "      <th>2</th>\n",
       "      <td>AAGCGAGAGACCAGAC_15806X1</td>\n",
       "      <td>0.069488</td>\n",
       "      <td>2.045337</td>\n",
       "      <td>4</td>\n",
       "      <td>AAGCGAGAGACCAGAC</td>\n",
       "    </tr>\n",
       "    <tr>\n",
       "      <th>3</th>\n",
       "      <td>AAGTACCGTTCGTACA_15806X1</td>\n",
       "      <td>0.057792</td>\n",
       "      <td>3.756390</td>\n",
       "      <td>4</td>\n",
       "      <td>AAGTACCGTTCGTACA</td>\n",
       "    </tr>\n",
       "    <tr>\n",
       "      <th>4</th>\n",
       "      <td>AAGTCGTTCGTAGGGA_15806X1</td>\n",
       "      <td>0.069608</td>\n",
       "      <td>1.996313</td>\n",
       "      <td>4</td>\n",
       "      <td>AAGTCGTTCGTAGGGA</td>\n",
       "    </tr>\n",
       "  </tbody>\n",
       "</table>\n",
       "</div>"
      ],
      "text/plain": [
       "                    Barcode  Diffusion Pseudotime  Monocle Pseudotime time  \\\n",
       "0  AAAGGTAGTTGCAAGG_15806X1              0.080624            7.026657    4   \n",
       "1  AACCACATCCACCTCA_15806X1              0.070802            4.444920    4   \n",
       "2  AAGCGAGAGACCAGAC_15806X1              0.069488            2.045337    4   \n",
       "3  AAGTACCGTTCGTACA_15806X1              0.057792            3.756390    4   \n",
       "4  AAGTCGTTCGTAGGGA_15806X1              0.069608            1.996313    4   \n",
       "\n",
       "      barcode_short  \n",
       "0  AAAGGTAGTTGCAAGG  \n",
       "1  AACCACATCCACCTCA  \n",
       "2  AAGCGAGAGACCAGAC  \n",
       "3  AAGTACCGTTCGTACA  \n",
       "4  AAGTCGTTCGTAGGGA  "
      ]
     },
     "execution_count": 12,
     "metadata": {},
     "output_type": "execute_result"
    }
   ],
   "source": [
    "pseudo.head()"
   ]
  },
  {
   "cell_type": "code",
   "execution_count": 11,
   "id": "bed786fc-26fc-49f7-abaa-83b5df4970ac",
   "metadata": {},
   "outputs": [
    {
     "name": "stdout",
     "output_type": "stream",
     "text": [
      "Reading `adata.obs['barcode_short']`\n"
     ]
    },
    {
     "ename": "KeyError",
     "evalue": "'barcode_short'",
     "output_type": "error",
     "traceback": [
      "\u001b[0;31m---------------------------------------------------------------------------\u001b[0m",
      "\u001b[0;31mKeyError\u001b[0m                                  Traceback (most recent call last)",
      "\u001b[0;32m~/anaconda/envs/mazebox_env/lib/python3.9/site-packages/pandas/core/indexes/base.py\u001b[0m in \u001b[0;36mget_loc\u001b[0;34m(self, key, method, tolerance)\u001b[0m\n\u001b[1;32m   3360\u001b[0m             \u001b[0;32mtry\u001b[0m\u001b[0;34m:\u001b[0m\u001b[0;34m\u001b[0m\u001b[0;34m\u001b[0m\u001b[0m\n\u001b[0;32m-> 3361\u001b[0;31m                 \u001b[0;32mreturn\u001b[0m \u001b[0mself\u001b[0m\u001b[0;34m.\u001b[0m\u001b[0m_engine\u001b[0m\u001b[0;34m.\u001b[0m\u001b[0mget_loc\u001b[0m\u001b[0;34m(\u001b[0m\u001b[0mcasted_key\u001b[0m\u001b[0;34m)\u001b[0m\u001b[0;34m\u001b[0m\u001b[0;34m\u001b[0m\u001b[0m\n\u001b[0m\u001b[1;32m   3362\u001b[0m             \u001b[0;32mexcept\u001b[0m \u001b[0mKeyError\u001b[0m \u001b[0;32mas\u001b[0m \u001b[0merr\u001b[0m\u001b[0;34m:\u001b[0m\u001b[0;34m\u001b[0m\u001b[0;34m\u001b[0m\u001b[0m\n",
      "\u001b[0;32m~/anaconda/envs/mazebox_env/lib/python3.9/site-packages/pandas/_libs/index.pyx\u001b[0m in \u001b[0;36mpandas._libs.index.IndexEngine.get_loc\u001b[0;34m()\u001b[0m\n",
      "\u001b[0;32m~/anaconda/envs/mazebox_env/lib/python3.9/site-packages/pandas/_libs/index.pyx\u001b[0m in \u001b[0;36mpandas._libs.index.IndexEngine.get_loc\u001b[0;34m()\u001b[0m\n",
      "\u001b[0;32mpandas/_libs/hashtable_class_helper.pxi\u001b[0m in \u001b[0;36mpandas._libs.hashtable.PyObjectHashTable.get_item\u001b[0;34m()\u001b[0m\n",
      "\u001b[0;32mpandas/_libs/hashtable_class_helper.pxi\u001b[0m in \u001b[0;36mpandas._libs.hashtable.PyObjectHashTable.get_item\u001b[0;34m()\u001b[0m\n",
      "\u001b[0;31mKeyError\u001b[0m: 'barcode_short'",
      "\nThe above exception was the direct cause of the following exception:\n",
      "\u001b[0;31mKeyError\u001b[0m                                  Traceback (most recent call last)",
      "\u001b[0;32m/var/folders/mk/5gzhv5l57n56d6x7fnfgzpw00000gn/T/ipykernel_35343/146059556.py\u001b[0m in \u001b[0;36m<module>\u001b[0;34m\u001b[0m\n\u001b[0;32m----> 1\u001b[0;31m \u001b[0mk\u001b[0m \u001b[0;34m=\u001b[0m \u001b[0mPTKernel\u001b[0m\u001b[0;34m(\u001b[0m\u001b[0madata\u001b[0m\u001b[0;34m)\u001b[0m\u001b[0;34m.\u001b[0m\u001b[0mcompute_transition_matrix\u001b[0m\u001b[0;34m(\u001b[0m\u001b[0;34m)\u001b[0m\u001b[0;34m\u001b[0m\u001b[0;34m\u001b[0m\u001b[0m\n\u001b[0m\u001b[1;32m      2\u001b[0m \u001b[0mk\u001b[0m\u001b[0;34m\u001b[0m\u001b[0;34m\u001b[0m\u001b[0m\n",
      "\u001b[0;32m/var/folders/mk/5gzhv5l57n56d6x7fnfgzpw00000gn/T/ipykernel_35343/3527390594.py\u001b[0m in \u001b[0;36m__init__\u001b[0;34m(self, adata, obs_key, **kwargs)\u001b[0m\n\u001b[1;32m      2\u001b[0m     def __init__(\n\u001b[1;32m      3\u001b[0m         self, adata: adata, obs_key: str = \"barcode_short\", **kwargs: Any):\n\u001b[0;32m----> 4\u001b[0;31m         \u001b[0msuper\u001b[0m\u001b[0;34m(\u001b[0m\u001b[0;34m)\u001b[0m\u001b[0;34m.\u001b[0m\u001b[0m__init__\u001b[0m\u001b[0;34m(\u001b[0m\u001b[0madata\u001b[0m\u001b[0;34m=\u001b[0m\u001b[0madata\u001b[0m\u001b[0;34m,\u001b[0m \u001b[0mobs_key\u001b[0m\u001b[0;34m=\u001b[0m\u001b[0mobs_key\u001b[0m\u001b[0;34m,\u001b[0m \u001b[0;34m**\u001b[0m\u001b[0mkwargs\u001b[0m\u001b[0;34m)\u001b[0m\u001b[0;34m\u001b[0m\u001b[0;34m\u001b[0m\u001b[0m\n\u001b[0m\u001b[1;32m      5\u001b[0m \u001b[0;34m\u001b[0m\u001b[0m\n\u001b[1;32m      6\u001b[0m     \u001b[0;32mdef\u001b[0m \u001b[0m_read_from_adata\u001b[0m\u001b[0;34m(\u001b[0m\u001b[0mself\u001b[0m\u001b[0;34m,\u001b[0m \u001b[0mobs_key\u001b[0m\u001b[0;34m:\u001b[0m \u001b[0mstr\u001b[0m\u001b[0;34m,\u001b[0m \u001b[0;34m**\u001b[0m\u001b[0mkwargs\u001b[0m\u001b[0;34m:\u001b[0m \u001b[0mAny\u001b[0m\u001b[0;34m)\u001b[0m\u001b[0;34m:\u001b[0m\u001b[0;34m\u001b[0m\u001b[0;34m\u001b[0m\u001b[0m\n",
      "\u001b[0;32m~/anaconda/envs/mazebox_env/lib/python3.9/site-packages/cellrank/tl/kernels/_base_kernel.py\u001b[0m in \u001b[0;36m__init__\u001b[0;34m(self, adata, backward, compute_cond_num, check_connectivity, **kwargs)\u001b[0m\n\u001b[1;32m    963\u001b[0m             \u001b[0madata\u001b[0m\u001b[0;34m,\u001b[0m \u001b[0mbackward\u001b[0m\u001b[0;34m,\u001b[0m \u001b[0mop_name\u001b[0m\u001b[0;34m=\u001b[0m\u001b[0;32mNone\u001b[0m\u001b[0;34m,\u001b[0m \u001b[0mcompute_cond_num\u001b[0m\u001b[0;34m=\u001b[0m\u001b[0mcompute_cond_num\u001b[0m\u001b[0;34m,\u001b[0m \u001b[0;34m**\u001b[0m\u001b[0mkwargs\u001b[0m\u001b[0;34m\u001b[0m\u001b[0;34m\u001b[0m\u001b[0m\n\u001b[1;32m    964\u001b[0m         )\n\u001b[0;32m--> 965\u001b[0;31m         \u001b[0mself\u001b[0m\u001b[0;34m.\u001b[0m\u001b[0m_read_from_adata\u001b[0m\u001b[0;34m(\u001b[0m\u001b[0mcheck_connectivity\u001b[0m\u001b[0;34m=\u001b[0m\u001b[0mcheck_connectivity\u001b[0m\u001b[0;34m,\u001b[0m \u001b[0;34m**\u001b[0m\u001b[0mkwargs\u001b[0m\u001b[0;34m)\u001b[0m\u001b[0;34m\u001b[0m\u001b[0;34m\u001b[0m\u001b[0m\n\u001b[0m\u001b[1;32m    966\u001b[0m \u001b[0;34m\u001b[0m\u001b[0m\n\u001b[1;32m    967\u001b[0m     \u001b[0;31m# TODO: move to a mixin class\u001b[0m\u001b[0;34m\u001b[0m\u001b[0;34m\u001b[0m\u001b[0;34m\u001b[0m\u001b[0m\n",
      "\u001b[0;32m/var/folders/mk/5gzhv5l57n56d6x7fnfgzpw00000gn/T/ipykernel_35343/3527390594.py\u001b[0m in \u001b[0;36m_read_from_adata\u001b[0;34m(self, obs_key, **kwargs)\u001b[0m\n\u001b[1;32m      8\u001b[0m \u001b[0;34m\u001b[0m\u001b[0m\n\u001b[1;32m      9\u001b[0m         \u001b[0mprint\u001b[0m\u001b[0;34m(\u001b[0m\u001b[0;34mf\"Reading `adata.obs[{obs_key!r}]`\"\u001b[0m\u001b[0;34m)\u001b[0m\u001b[0;34m\u001b[0m\u001b[0;34m\u001b[0m\u001b[0m\n\u001b[0;32m---> 10\u001b[0;31m         \u001b[0mself\u001b[0m\u001b[0;34m.\u001b[0m\u001b[0mpseudotime\u001b[0m \u001b[0;34m=\u001b[0m \u001b[0mself\u001b[0m\u001b[0;34m.\u001b[0m\u001b[0madata\u001b[0m\u001b[0;34m.\u001b[0m\u001b[0mobs\u001b[0m\u001b[0;34m[\u001b[0m\u001b[0mobs_key\u001b[0m\u001b[0;34m]\u001b[0m\u001b[0;34m.\u001b[0m\u001b[0mvalues\u001b[0m\u001b[0;34m\u001b[0m\u001b[0;34m\u001b[0m\u001b[0m\n\u001b[0m\u001b[1;32m     11\u001b[0m \u001b[0;34m\u001b[0m\u001b[0m\n\u001b[1;32m     12\u001b[0m     \u001b[0;32mdef\u001b[0m \u001b[0mcompute_transition_matrix\u001b[0m\u001b[0;34m(\u001b[0m\u001b[0mself\u001b[0m\u001b[0;34m,\u001b[0m \u001b[0msome_parameter\u001b[0m\u001b[0;34m:\u001b[0m \u001b[0mfloat\u001b[0m \u001b[0;34m=\u001b[0m \u001b[0;36m0.5\u001b[0m\u001b[0;34m)\u001b[0m\u001b[0;34m:\u001b[0m\u001b[0;34m\u001b[0m\u001b[0;34m\u001b[0m\u001b[0m\n",
      "\u001b[0;32m~/anaconda/envs/mazebox_env/lib/python3.9/site-packages/pandas/core/frame.py\u001b[0m in \u001b[0;36m__getitem__\u001b[0;34m(self, key)\u001b[0m\n\u001b[1;32m   3456\u001b[0m             \u001b[0;32mif\u001b[0m \u001b[0mself\u001b[0m\u001b[0;34m.\u001b[0m\u001b[0mcolumns\u001b[0m\u001b[0;34m.\u001b[0m\u001b[0mnlevels\u001b[0m \u001b[0;34m>\u001b[0m \u001b[0;36m1\u001b[0m\u001b[0;34m:\u001b[0m\u001b[0;34m\u001b[0m\u001b[0;34m\u001b[0m\u001b[0m\n\u001b[1;32m   3457\u001b[0m                 \u001b[0;32mreturn\u001b[0m \u001b[0mself\u001b[0m\u001b[0;34m.\u001b[0m\u001b[0m_getitem_multilevel\u001b[0m\u001b[0;34m(\u001b[0m\u001b[0mkey\u001b[0m\u001b[0;34m)\u001b[0m\u001b[0;34m\u001b[0m\u001b[0;34m\u001b[0m\u001b[0m\n\u001b[0;32m-> 3458\u001b[0;31m             \u001b[0mindexer\u001b[0m \u001b[0;34m=\u001b[0m \u001b[0mself\u001b[0m\u001b[0;34m.\u001b[0m\u001b[0mcolumns\u001b[0m\u001b[0;34m.\u001b[0m\u001b[0mget_loc\u001b[0m\u001b[0;34m(\u001b[0m\u001b[0mkey\u001b[0m\u001b[0;34m)\u001b[0m\u001b[0;34m\u001b[0m\u001b[0;34m\u001b[0m\u001b[0m\n\u001b[0m\u001b[1;32m   3459\u001b[0m             \u001b[0;32mif\u001b[0m \u001b[0mis_integer\u001b[0m\u001b[0;34m(\u001b[0m\u001b[0mindexer\u001b[0m\u001b[0;34m)\u001b[0m\u001b[0;34m:\u001b[0m\u001b[0;34m\u001b[0m\u001b[0;34m\u001b[0m\u001b[0m\n\u001b[1;32m   3460\u001b[0m                 \u001b[0mindexer\u001b[0m \u001b[0;34m=\u001b[0m \u001b[0;34m[\u001b[0m\u001b[0mindexer\u001b[0m\u001b[0;34m]\u001b[0m\u001b[0;34m\u001b[0m\u001b[0;34m\u001b[0m\u001b[0m\n",
      "\u001b[0;32m~/anaconda/envs/mazebox_env/lib/python3.9/site-packages/pandas/core/indexes/base.py\u001b[0m in \u001b[0;36mget_loc\u001b[0;34m(self, key, method, tolerance)\u001b[0m\n\u001b[1;32m   3361\u001b[0m                 \u001b[0;32mreturn\u001b[0m \u001b[0mself\u001b[0m\u001b[0;34m.\u001b[0m\u001b[0m_engine\u001b[0m\u001b[0;34m.\u001b[0m\u001b[0mget_loc\u001b[0m\u001b[0;34m(\u001b[0m\u001b[0mcasted_key\u001b[0m\u001b[0;34m)\u001b[0m\u001b[0;34m\u001b[0m\u001b[0;34m\u001b[0m\u001b[0m\n\u001b[1;32m   3362\u001b[0m             \u001b[0;32mexcept\u001b[0m \u001b[0mKeyError\u001b[0m \u001b[0;32mas\u001b[0m \u001b[0merr\u001b[0m\u001b[0;34m:\u001b[0m\u001b[0;34m\u001b[0m\u001b[0;34m\u001b[0m\u001b[0m\n\u001b[0;32m-> 3363\u001b[0;31m                 \u001b[0;32mraise\u001b[0m \u001b[0mKeyError\u001b[0m\u001b[0;34m(\u001b[0m\u001b[0mkey\u001b[0m\u001b[0;34m)\u001b[0m \u001b[0;32mfrom\u001b[0m \u001b[0merr\u001b[0m\u001b[0;34m\u001b[0m\u001b[0;34m\u001b[0m\u001b[0m\n\u001b[0m\u001b[1;32m   3364\u001b[0m \u001b[0;34m\u001b[0m\u001b[0m\n\u001b[1;32m   3365\u001b[0m         \u001b[0;32mif\u001b[0m \u001b[0mis_scalar\u001b[0m\u001b[0;34m(\u001b[0m\u001b[0mkey\u001b[0m\u001b[0;34m)\u001b[0m \u001b[0;32mand\u001b[0m \u001b[0misna\u001b[0m\u001b[0;34m(\u001b[0m\u001b[0mkey\u001b[0m\u001b[0;34m)\u001b[0m \u001b[0;32mand\u001b[0m \u001b[0;32mnot\u001b[0m \u001b[0mself\u001b[0m\u001b[0;34m.\u001b[0m\u001b[0mhasnans\u001b[0m\u001b[0;34m:\u001b[0m\u001b[0;34m\u001b[0m\u001b[0;34m\u001b[0m\u001b[0m\n",
      "\u001b[0;31mKeyError\u001b[0m: 'barcode_short'"
     ]
    }
   ],
   "source": [
    "k = PTKernel(adata).compute_transition_matrix()\n",
    "k"
   ]
  },
  {
   "cell_type": "code",
   "execution_count": null,
   "id": "394a27f8-189b-4bbb-8d24-cfe2a7e043ab",
   "metadata": {},
   "outputs": [],
   "source": []
  },
  {
   "cell_type": "code",
   "execution_count": 58,
   "id": "19117f38-4824-4b83-8f03-08d7b289b956",
   "metadata": {},
   "outputs": [],
   "source": [
    "bcs = pd.read_csv('/Users/geenaildefonso/Dropbox (VU Basic Sciences)/data/RPM_cell_barcodes.csv', index_col=0, header = 0)"
   ]
  },
  {
   "cell_type": "code",
   "execution_count": 60,
   "id": "27f3fd36-e255-47b6-af3b-268d7c89028c",
   "metadata": {},
   "outputs": [
    {
     "data": {
      "text/html": [
       "<div>\n",
       "<style scoped>\n",
       "    .dataframe tbody tr th:only-of-type {\n",
       "        vertical-align: middle;\n",
       "    }\n",
       "\n",
       "    .dataframe tbody tr th {\n",
       "        vertical-align: top;\n",
       "    }\n",
       "\n",
       "    .dataframe thead th {\n",
       "        text-align: right;\n",
       "    }\n",
       "</style>\n",
       "<table border=\"1\" class=\"dataframe\">\n",
       "  <thead>\n",
       "    <tr style=\"text-align: right;\">\n",
       "      <th></th>\n",
       "      <th>Tumor Cell Barcodes</th>\n",
       "      <th>Day or Tumor Number</th>\n",
       "      <th>Gnomex ID (matches GEO deposit)</th>\n",
       "    </tr>\n",
       "  </thead>\n",
       "  <tbody>\n",
       "    <tr>\n",
       "      <th>1</th>\n",
       "      <td>AAAGGTAGTTGCAAGG_15806X1</td>\n",
       "      <td>4</td>\n",
       "      <td>15806X1</td>\n",
       "    </tr>\n",
       "    <tr>\n",
       "      <th>2</th>\n",
       "      <td>AACCACATCCACCTCA_15806X1</td>\n",
       "      <td>4</td>\n",
       "      <td>15806X1</td>\n",
       "    </tr>\n",
       "    <tr>\n",
       "      <th>3</th>\n",
       "      <td>AAGCGAGAGACCAGAC_15806X1</td>\n",
       "      <td>4</td>\n",
       "      <td>15806X1</td>\n",
       "    </tr>\n",
       "    <tr>\n",
       "      <th>4</th>\n",
       "      <td>AAGTACCGTTCGTACA_15806X1</td>\n",
       "      <td>4</td>\n",
       "      <td>15806X1</td>\n",
       "    </tr>\n",
       "    <tr>\n",
       "      <th>5</th>\n",
       "      <td>AAGTCGTTCGTAGGGA_15806X1</td>\n",
       "      <td>4</td>\n",
       "      <td>15806X1</td>\n",
       "    </tr>\n",
       "  </tbody>\n",
       "</table>\n",
       "</div>"
      ],
      "text/plain": [
       "        Tumor Cell Barcodes Day or Tumor Number  \\\n",
       "1  AAAGGTAGTTGCAAGG_15806X1                   4   \n",
       "2  AACCACATCCACCTCA_15806X1                   4   \n",
       "3  AAGCGAGAGACCAGAC_15806X1                   4   \n",
       "4  AAGTACCGTTCGTACA_15806X1                   4   \n",
       "5  AAGTCGTTCGTAGGGA_15806X1                   4   \n",
       "\n",
       "  Gnomex ID (matches GEO deposit)  \n",
       "1                         15806X1  \n",
       "2                         15806X1  \n",
       "3                         15806X1  \n",
       "4                         15806X1  \n",
       "5                         15806X1  "
      ]
     },
     "execution_count": 60,
     "metadata": {},
     "output_type": "execute_result"
    }
   ],
   "source": [
    "bcs.head()"
   ]
  },
  {
   "cell_type": "code",
   "execution_count": null,
   "id": "b9b5593d-5a14-4048-8872-1728d51f3a86",
   "metadata": {},
   "outputs": [],
   "source": [
    "bcs = pd.read_csv('../data/RPM_cell_barcodes.csv', index_col=0, header = 0)\n",
    "bcs['barcode_short'] = [i.split('_')[0] for i in bcs['Tumor Cell Barcodes']]\n",
    "\n",
    "adata.obs['barcode'] = [str(i.split(\":\")[1].split('x')[0]) for i in adata.obs_names]\n",
    "\n",
    "filtered_cells = []\n",
    "for i in adata.obs['barcode']:\n",
    "    if i in list(bcs['barcode_short']): \n",
    "        filtered_cells.append(True)\n",
    "    else:\n",
    "        filtered_cells.append(False)\n",
    "adata.obs['kept'] = filtered_cells\n",
    "sc.pl.umap(adata, color = 'kept')"
   ]
  },
  {
   "cell_type": "code",
   "execution_count": 40,
   "id": "f7d80bac-eeae-4a4e-a774-a8d1c3550e6c",
   "metadata": {},
   "outputs": [],
   "source": [
    "df = adata.obs"
   ]
  },
  {
   "cell_type": "code",
   "execution_count": 42,
   "id": "aae732bd-d1c6-40fb-9d94-c6a7c17b271d",
   "metadata": {},
   "outputs": [
    {
     "name": "stdout",
     "output_type": "stream",
     "text": [
      "SRR11594440:AACCACATCCACCTCAx-0-day_4    AACCACATCCACCTCA\n",
      "SRR11594440:AAAGGTAGTTGCAAGGx-0-day_4    AAAGGTAGTTGCAAGG\n",
      "SRR11594440:AAGCGAGAGACCAGACx-0-day_4    AAGCGAGAGACCAGAC\n",
      "SRR11594440:AAGTCGTTCGTAGGGAx-0-day_4    AAGTCGTTCGTAGGGA\n",
      "SRR11594440:AAGTACCGTTCGTACAx-0-day_4    AAGTACCGTTCGTACA\n",
      "                                               ...       \n",
      "SRR11594446:TTTGACTGTACCTTCCx-day_21     TTTGACTGTACCTTCC\n",
      "SRR11594446:TTTGGAGGTGGCTACCx-day_21     TTTGGAGGTGGCTACC\n",
      "SRR11594446:TTTGATCAGACTTCGTx-day_21     TTTGATCAGACTTCGT\n",
      "SRR11594446:TTTGGTTAGGAAGTGAx-day_21     TTTGGTTAGGAAGTGA\n",
      "SRR11594446:TTTGGAGCACCAACATx-day_21     TTTGGAGCACCAACAT\n",
      "Name: barcode, Length: 15257, dtype: category\n",
      "Categories (15201, object): ['AAACCCAAGCCGAATG', 'AAACCCAAGCGGTATG', 'AAACCCAAGGGACCAT', 'AAACCCAAGTGTTGTC', ..., 'TTTGTTGGTCCGAAGA', 'TTTGTTGGTCTTGTCC', 'TTTGTTGGTGCCGTAC', 'TTTGTTGTCCCAAGTA']\n"
     ]
    }
   ],
   "source": [
    "print(df['barcode'])"
   ]
  },
  {
   "cell_type": "code",
   "execution_count": 21,
   "id": "e170dfff-aeff-4a8f-bd12-86a77507d62d",
   "metadata": {},
   "outputs": [
    {
     "name": "stdout",
     "output_type": "stream",
     "text": [
      "(15257, 21163)\n",
      "(17063, 4)\n"
     ]
    }
   ],
   "source": [
    "print(adata.shape)\n",
    "print(pseudo.shape)"
   ]
  },
  {
   "cell_type": "code",
   "execution_count": 35,
   "id": "2cf96b57-6770-46bc-9973-0dd9c20e9c34",
   "metadata": {},
   "outputs": [
    {
     "name": "stdout",
     "output_type": "stream",
     "text": [
      "                          Diffusion Pseudotime  Monocle Pseudotime time\n",
      "Barcode                                                                \n",
      "AAAGGTAGTTGCAAGG_15806X1              0.080624            7.026657    4\n",
      "AACCACATCCACCTCA_15806X1              0.070802            4.444920    4\n",
      "AAGCGAGAGACCAGAC_15806X1              0.069488            2.045337    4\n",
      "AAGTACCGTTCGTACA_15806X1              0.057792            3.756390    4\n",
      "AAGTCGTTCGTAGGGA_15806X1              0.069608            1.996313    4\n",
      "...                                        ...                 ...  ...\n",
      "TTTGGTTCAAGATTGA_15862X1              0.118453           16.941730   21\n",
      "TTTGGTTCACGAAAGC_15862X1              0.122645           17.632420   21\n",
      "TTTGTTGAGCGACTGA_15862X1              0.134370           20.864000   21\n",
      "TTTGTTGGTCTTGTCC_15862X1              0.126518           17.940260   21\n",
      "TTTGTTGTCCCAAGTA_15862X1              0.106923           17.002460   21\n",
      "\n",
      "[15138 rows x 3 columns]\n"
     ]
    }
   ],
   "source": [
    "pseudo = pd.read_csv('PseudoCorr.csv', index_col=0, header = 0)\n",
    "print(pseudo[:15138])"
   ]
  },
  {
   "cell_type": "code",
   "execution_count": 10,
   "id": "68c3a8d1-1a5a-4720-9260-d857272660e6",
   "metadata": {},
   "outputs": [
    {
     "data": {
      "text/plain": [
       "0        0.080624\n",
       "1        0.070802\n",
       "2        0.069488\n",
       "3        0.057792\n",
       "4        0.069608\n",
       "           ...   \n",
       "17058    0.100759\n",
       "17059    0.125701\n",
       "17060    0.123291\n",
       "17061    0.121887\n",
       "17062    0.121085\n",
       "Name: Diffusion Pseudotime, Length: 17063, dtype: float64"
      ]
     },
     "execution_count": 10,
     "metadata": {},
     "output_type": "execute_result"
    }
   ],
   "source": [
    "pseudo['Diffusion Pseudotime']"
   ]
  },
  {
   "cell_type": "code",
   "execution_count": 13,
   "id": "41791bf5-b185-4b62-8756-400082af4b9a",
   "metadata": {},
   "outputs": [],
   "source": [
    "# df = pd.DataFrame(dict)\n",
    "  \n",
    "# # show the dataframe\n",
    "# print(df)\n",
    "  \n",
    "# list of values of 'Marks' column\n",
    "marks_list = pseudo['Diffusion Pseudotime'].tolist()"
   ]
  },
  {
   "cell_type": "code",
   "execution_count": 85,
   "id": "b8df34c2-0e77-4e09-b5be-0b8cec9b8a65",
   "metadata": {},
   "outputs": [],
   "source": [
    "adatadf = adata.obs"
   ]
  },
  {
   "cell_type": "code",
   "execution_count": 87,
   "id": "4d1b958b-0547-4ff9-ba71-dd02d050cd7e",
   "metadata": {},
   "outputs": [
    {
     "ename": "KeyError",
     "evalue": "'barcode_short'",
     "output_type": "error",
     "traceback": [
      "\u001b[0;31m---------------------------------------------------------------------------\u001b[0m",
      "\u001b[0;31mKeyError\u001b[0m                                  Traceback (most recent call last)",
      "\u001b[0;32m~/anaconda/envs/mazebox_env/lib/python3.9/site-packages/pandas/core/indexes/base.py\u001b[0m in \u001b[0;36mget_loc\u001b[0;34m(self, key, method, tolerance)\u001b[0m\n\u001b[1;32m   3360\u001b[0m             \u001b[0;32mtry\u001b[0m\u001b[0;34m:\u001b[0m\u001b[0;34m\u001b[0m\u001b[0;34m\u001b[0m\u001b[0m\n\u001b[0;32m-> 3361\u001b[0;31m                 \u001b[0;32mreturn\u001b[0m \u001b[0mself\u001b[0m\u001b[0;34m.\u001b[0m\u001b[0m_engine\u001b[0m\u001b[0;34m.\u001b[0m\u001b[0mget_loc\u001b[0m\u001b[0;34m(\u001b[0m\u001b[0mcasted_key\u001b[0m\u001b[0;34m)\u001b[0m\u001b[0;34m\u001b[0m\u001b[0;34m\u001b[0m\u001b[0m\n\u001b[0m\u001b[1;32m   3362\u001b[0m             \u001b[0;32mexcept\u001b[0m \u001b[0mKeyError\u001b[0m \u001b[0;32mas\u001b[0m \u001b[0merr\u001b[0m\u001b[0;34m:\u001b[0m\u001b[0;34m\u001b[0m\u001b[0;34m\u001b[0m\u001b[0m\n",
      "\u001b[0;32m~/anaconda/envs/mazebox_env/lib/python3.9/site-packages/pandas/_libs/index.pyx\u001b[0m in \u001b[0;36mpandas._libs.index.IndexEngine.get_loc\u001b[0;34m()\u001b[0m\n",
      "\u001b[0;32m~/anaconda/envs/mazebox_env/lib/python3.9/site-packages/pandas/_libs/index.pyx\u001b[0m in \u001b[0;36mpandas._libs.index.IndexEngine.get_loc\u001b[0;34m()\u001b[0m\n",
      "\u001b[0;32mpandas/_libs/hashtable_class_helper.pxi\u001b[0m in \u001b[0;36mpandas._libs.hashtable.PyObjectHashTable.get_item\u001b[0;34m()\u001b[0m\n",
      "\u001b[0;32mpandas/_libs/hashtable_class_helper.pxi\u001b[0m in \u001b[0;36mpandas._libs.hashtable.PyObjectHashTable.get_item\u001b[0;34m()\u001b[0m\n",
      "\u001b[0;31mKeyError\u001b[0m: 'barcode_short'",
      "\nThe above exception was the direct cause of the following exception:\n",
      "\u001b[0;31mKeyError\u001b[0m                                  Traceback (most recent call last)",
      "\u001b[0;32m/var/folders/mk/5gzhv5l57n56d6x7fnfgzpw00000gn/T/ipykernel_17448/2820407035.py\u001b[0m in \u001b[0;36m<module>\u001b[0;34m\u001b[0m\n\u001b[0;32m----> 1\u001b[0;31m \u001b[0madatadf\u001b[0m\u001b[0;34m[\u001b[0m\u001b[0;34m'barcode_short'\u001b[0m\u001b[0;34m]\u001b[0m\u001b[0;34m\u001b[0m\u001b[0;34m\u001b[0m\u001b[0m\n\u001b[0m",
      "\u001b[0;32m~/anaconda/envs/mazebox_env/lib/python3.9/site-packages/pandas/core/frame.py\u001b[0m in \u001b[0;36m__getitem__\u001b[0;34m(self, key)\u001b[0m\n\u001b[1;32m   3456\u001b[0m             \u001b[0;32mif\u001b[0m \u001b[0mself\u001b[0m\u001b[0;34m.\u001b[0m\u001b[0mcolumns\u001b[0m\u001b[0;34m.\u001b[0m\u001b[0mnlevels\u001b[0m \u001b[0;34m>\u001b[0m \u001b[0;36m1\u001b[0m\u001b[0;34m:\u001b[0m\u001b[0;34m\u001b[0m\u001b[0;34m\u001b[0m\u001b[0m\n\u001b[1;32m   3457\u001b[0m                 \u001b[0;32mreturn\u001b[0m \u001b[0mself\u001b[0m\u001b[0;34m.\u001b[0m\u001b[0m_getitem_multilevel\u001b[0m\u001b[0;34m(\u001b[0m\u001b[0mkey\u001b[0m\u001b[0;34m)\u001b[0m\u001b[0;34m\u001b[0m\u001b[0;34m\u001b[0m\u001b[0m\n\u001b[0;32m-> 3458\u001b[0;31m             \u001b[0mindexer\u001b[0m \u001b[0;34m=\u001b[0m \u001b[0mself\u001b[0m\u001b[0;34m.\u001b[0m\u001b[0mcolumns\u001b[0m\u001b[0;34m.\u001b[0m\u001b[0mget_loc\u001b[0m\u001b[0;34m(\u001b[0m\u001b[0mkey\u001b[0m\u001b[0;34m)\u001b[0m\u001b[0;34m\u001b[0m\u001b[0;34m\u001b[0m\u001b[0m\n\u001b[0m\u001b[1;32m   3459\u001b[0m             \u001b[0;32mif\u001b[0m \u001b[0mis_integer\u001b[0m\u001b[0;34m(\u001b[0m\u001b[0mindexer\u001b[0m\u001b[0;34m)\u001b[0m\u001b[0;34m:\u001b[0m\u001b[0;34m\u001b[0m\u001b[0;34m\u001b[0m\u001b[0m\n\u001b[1;32m   3460\u001b[0m                 \u001b[0mindexer\u001b[0m \u001b[0;34m=\u001b[0m \u001b[0;34m[\u001b[0m\u001b[0mindexer\u001b[0m\u001b[0;34m]\u001b[0m\u001b[0;34m\u001b[0m\u001b[0;34m\u001b[0m\u001b[0m\n",
      "\u001b[0;32m~/anaconda/envs/mazebox_env/lib/python3.9/site-packages/pandas/core/indexes/base.py\u001b[0m in \u001b[0;36mget_loc\u001b[0;34m(self, key, method, tolerance)\u001b[0m\n\u001b[1;32m   3361\u001b[0m                 \u001b[0;32mreturn\u001b[0m \u001b[0mself\u001b[0m\u001b[0;34m.\u001b[0m\u001b[0m_engine\u001b[0m\u001b[0;34m.\u001b[0m\u001b[0mget_loc\u001b[0m\u001b[0;34m(\u001b[0m\u001b[0mcasted_key\u001b[0m\u001b[0;34m)\u001b[0m\u001b[0;34m\u001b[0m\u001b[0;34m\u001b[0m\u001b[0m\n\u001b[1;32m   3362\u001b[0m             \u001b[0;32mexcept\u001b[0m \u001b[0mKeyError\u001b[0m \u001b[0;32mas\u001b[0m \u001b[0merr\u001b[0m\u001b[0;34m:\u001b[0m\u001b[0;34m\u001b[0m\u001b[0;34m\u001b[0m\u001b[0m\n\u001b[0;32m-> 3363\u001b[0;31m                 \u001b[0;32mraise\u001b[0m \u001b[0mKeyError\u001b[0m\u001b[0;34m(\u001b[0m\u001b[0mkey\u001b[0m\u001b[0;34m)\u001b[0m \u001b[0;32mfrom\u001b[0m \u001b[0merr\u001b[0m\u001b[0;34m\u001b[0m\u001b[0;34m\u001b[0m\u001b[0m\n\u001b[0m\u001b[1;32m   3364\u001b[0m \u001b[0;34m\u001b[0m\u001b[0m\n\u001b[1;32m   3365\u001b[0m         \u001b[0;32mif\u001b[0m \u001b[0mis_scalar\u001b[0m\u001b[0;34m(\u001b[0m\u001b[0mkey\u001b[0m\u001b[0;34m)\u001b[0m \u001b[0;32mand\u001b[0m \u001b[0misna\u001b[0m\u001b[0;34m(\u001b[0m\u001b[0mkey\u001b[0m\u001b[0;34m)\u001b[0m \u001b[0;32mand\u001b[0m \u001b[0;32mnot\u001b[0m \u001b[0mself\u001b[0m\u001b[0;34m.\u001b[0m\u001b[0mhasnans\u001b[0m\u001b[0;34m:\u001b[0m\u001b[0;34m\u001b[0m\u001b[0;34m\u001b[0m\u001b[0m\n",
      "\u001b[0;31mKeyError\u001b[0m: 'barcode_short'"
     ]
    }
   ],
   "source": [
    "adatadf['barcode_short']"
   ]
  },
  {
   "cell_type": "code",
   "execution_count": 84,
   "id": "130c000d-0dad-47c3-839c-6db26ae4ae6b",
   "metadata": {},
   "outputs": [
    {
     "name": "stdout",
     "output_type": "stream",
     "text": [
      "Reading `adata.obs['barcode_short']`\n"
     ]
    },
    {
     "ename": "KeyError",
     "evalue": "'barcode_short'",
     "output_type": "error",
     "traceback": [
      "\u001b[0;31m---------------------------------------------------------------------------\u001b[0m",
      "\u001b[0;31mKeyError\u001b[0m                                  Traceback (most recent call last)",
      "\u001b[0;32m~/anaconda/envs/mazebox_env/lib/python3.9/site-packages/pandas/core/indexes/base.py\u001b[0m in \u001b[0;36mget_loc\u001b[0;34m(self, key, method, tolerance)\u001b[0m\n\u001b[1;32m   3360\u001b[0m             \u001b[0;32mtry\u001b[0m\u001b[0;34m:\u001b[0m\u001b[0;34m\u001b[0m\u001b[0;34m\u001b[0m\u001b[0m\n\u001b[0;32m-> 3361\u001b[0;31m                 \u001b[0;32mreturn\u001b[0m \u001b[0mself\u001b[0m\u001b[0;34m.\u001b[0m\u001b[0m_engine\u001b[0m\u001b[0;34m.\u001b[0m\u001b[0mget_loc\u001b[0m\u001b[0;34m(\u001b[0m\u001b[0mcasted_key\u001b[0m\u001b[0;34m)\u001b[0m\u001b[0;34m\u001b[0m\u001b[0;34m\u001b[0m\u001b[0m\n\u001b[0m\u001b[1;32m   3362\u001b[0m             \u001b[0;32mexcept\u001b[0m \u001b[0mKeyError\u001b[0m \u001b[0;32mas\u001b[0m \u001b[0merr\u001b[0m\u001b[0;34m:\u001b[0m\u001b[0;34m\u001b[0m\u001b[0;34m\u001b[0m\u001b[0m\n",
      "\u001b[0;32m~/anaconda/envs/mazebox_env/lib/python3.9/site-packages/pandas/_libs/index.pyx\u001b[0m in \u001b[0;36mpandas._libs.index.IndexEngine.get_loc\u001b[0;34m()\u001b[0m\n",
      "\u001b[0;32m~/anaconda/envs/mazebox_env/lib/python3.9/site-packages/pandas/_libs/index.pyx\u001b[0m in \u001b[0;36mpandas._libs.index.IndexEngine.get_loc\u001b[0;34m()\u001b[0m\n",
      "\u001b[0;32mpandas/_libs/hashtable_class_helper.pxi\u001b[0m in \u001b[0;36mpandas._libs.hashtable.PyObjectHashTable.get_item\u001b[0;34m()\u001b[0m\n",
      "\u001b[0;32mpandas/_libs/hashtable_class_helper.pxi\u001b[0m in \u001b[0;36mpandas._libs.hashtable.PyObjectHashTable.get_item\u001b[0;34m()\u001b[0m\n",
      "\u001b[0;31mKeyError\u001b[0m: 'barcode_short'",
      "\nThe above exception was the direct cause of the following exception:\n",
      "\u001b[0;31mKeyError\u001b[0m                                  Traceback (most recent call last)",
      "\u001b[0;32m/var/folders/mk/5gzhv5l57n56d6x7fnfgzpw00000gn/T/ipykernel_17448/2257971464.py\u001b[0m in \u001b[0;36m<module>\u001b[0;34m\u001b[0m\n\u001b[0;32m----> 1\u001b[0;31m \u001b[0mk\u001b[0m \u001b[0;34m=\u001b[0m \u001b[0mMyKernel\u001b[0m\u001b[0;34m(\u001b[0m\u001b[0madata\u001b[0m\u001b[0;34m)\u001b[0m\u001b[0;34m.\u001b[0m\u001b[0mcompute_transition_matrix\u001b[0m\u001b[0;34m(\u001b[0m\u001b[0;34m)\u001b[0m\u001b[0;34m\u001b[0m\u001b[0;34m\u001b[0m\u001b[0m\n\u001b[0m\u001b[1;32m      2\u001b[0m \u001b[0mk\u001b[0m\u001b[0;34m\u001b[0m\u001b[0;34m\u001b[0m\u001b[0m\n",
      "\u001b[0;32m/var/folders/mk/5gzhv5l57n56d6x7fnfgzpw00000gn/T/ipykernel_17448/2926744635.py\u001b[0m in \u001b[0;36m__init__\u001b[0;34m(self, adata, obs_key, **kwargs)\u001b[0m\n\u001b[1;32m      2\u001b[0m     def __init__(\n\u001b[1;32m      3\u001b[0m         self, adata: adata, obs_key: str = \"barcode_short\", **kwargs: Any):\n\u001b[0;32m----> 4\u001b[0;31m         \u001b[0msuper\u001b[0m\u001b[0;34m(\u001b[0m\u001b[0;34m)\u001b[0m\u001b[0;34m.\u001b[0m\u001b[0m__init__\u001b[0m\u001b[0;34m(\u001b[0m\u001b[0madata\u001b[0m\u001b[0;34m=\u001b[0m\u001b[0madata\u001b[0m\u001b[0;34m,\u001b[0m \u001b[0mobs_key\u001b[0m\u001b[0;34m=\u001b[0m\u001b[0mobs_key\u001b[0m\u001b[0;34m,\u001b[0m \u001b[0;34m**\u001b[0m\u001b[0mkwargs\u001b[0m\u001b[0;34m)\u001b[0m\u001b[0;34m\u001b[0m\u001b[0;34m\u001b[0m\u001b[0m\n\u001b[0m\u001b[1;32m      5\u001b[0m \u001b[0;34m\u001b[0m\u001b[0m\n\u001b[1;32m      6\u001b[0m     \u001b[0;32mdef\u001b[0m \u001b[0m_read_from_adata\u001b[0m\u001b[0;34m(\u001b[0m\u001b[0mself\u001b[0m\u001b[0;34m,\u001b[0m \u001b[0mobs_key\u001b[0m\u001b[0;34m:\u001b[0m \u001b[0mstr\u001b[0m\u001b[0;34m,\u001b[0m \u001b[0;34m**\u001b[0m\u001b[0mkwargs\u001b[0m\u001b[0;34m:\u001b[0m \u001b[0mAny\u001b[0m\u001b[0;34m)\u001b[0m\u001b[0;34m:\u001b[0m\u001b[0;34m\u001b[0m\u001b[0;34m\u001b[0m\u001b[0m\n",
      "\u001b[0;32m~/anaconda/envs/mazebox_env/lib/python3.9/site-packages/cellrank/tl/kernels/_base_kernel.py\u001b[0m in \u001b[0;36m__init__\u001b[0;34m(self, adata, backward, compute_cond_num, check_connectivity, **kwargs)\u001b[0m\n\u001b[1;32m    963\u001b[0m             \u001b[0madata\u001b[0m\u001b[0;34m,\u001b[0m \u001b[0mbackward\u001b[0m\u001b[0;34m,\u001b[0m \u001b[0mop_name\u001b[0m\u001b[0;34m=\u001b[0m\u001b[0;32mNone\u001b[0m\u001b[0;34m,\u001b[0m \u001b[0mcompute_cond_num\u001b[0m\u001b[0;34m=\u001b[0m\u001b[0mcompute_cond_num\u001b[0m\u001b[0;34m,\u001b[0m \u001b[0;34m**\u001b[0m\u001b[0mkwargs\u001b[0m\u001b[0;34m\u001b[0m\u001b[0;34m\u001b[0m\u001b[0m\n\u001b[1;32m    964\u001b[0m         )\n\u001b[0;32m--> 965\u001b[0;31m         \u001b[0mself\u001b[0m\u001b[0;34m.\u001b[0m\u001b[0m_read_from_adata\u001b[0m\u001b[0;34m(\u001b[0m\u001b[0mcheck_connectivity\u001b[0m\u001b[0;34m=\u001b[0m\u001b[0mcheck_connectivity\u001b[0m\u001b[0;34m,\u001b[0m \u001b[0;34m**\u001b[0m\u001b[0mkwargs\u001b[0m\u001b[0;34m)\u001b[0m\u001b[0;34m\u001b[0m\u001b[0;34m\u001b[0m\u001b[0m\n\u001b[0m\u001b[1;32m    966\u001b[0m \u001b[0;34m\u001b[0m\u001b[0m\n\u001b[1;32m    967\u001b[0m     \u001b[0;31m# TODO: move to a mixin class\u001b[0m\u001b[0;34m\u001b[0m\u001b[0;34m\u001b[0m\u001b[0;34m\u001b[0m\u001b[0m\n",
      "\u001b[0;32m/var/folders/mk/5gzhv5l57n56d6x7fnfgzpw00000gn/T/ipykernel_17448/2926744635.py\u001b[0m in \u001b[0;36m_read_from_adata\u001b[0;34m(self, obs_key, **kwargs)\u001b[0m\n\u001b[1;32m      8\u001b[0m \u001b[0;34m\u001b[0m\u001b[0m\n\u001b[1;32m      9\u001b[0m         \u001b[0mprint\u001b[0m\u001b[0;34m(\u001b[0m\u001b[0;34mf\"Reading `adata.obs[{obs_key!r}]`\"\u001b[0m\u001b[0;34m)\u001b[0m\u001b[0;34m\u001b[0m\u001b[0;34m\u001b[0m\u001b[0m\n\u001b[0;32m---> 10\u001b[0;31m         \u001b[0mself\u001b[0m\u001b[0;34m.\u001b[0m\u001b[0mpseudotime\u001b[0m \u001b[0;34m=\u001b[0m \u001b[0mself\u001b[0m\u001b[0;34m.\u001b[0m\u001b[0madata\u001b[0m\u001b[0;34m.\u001b[0m\u001b[0mobs\u001b[0m\u001b[0;34m[\u001b[0m\u001b[0mobs_key\u001b[0m\u001b[0;34m]\u001b[0m\u001b[0;34m.\u001b[0m\u001b[0mvalues\u001b[0m\u001b[0;34m\u001b[0m\u001b[0;34m\u001b[0m\u001b[0m\n\u001b[0m\u001b[1;32m     11\u001b[0m \u001b[0;34m\u001b[0m\u001b[0m\n\u001b[1;32m     12\u001b[0m     \u001b[0;32mdef\u001b[0m \u001b[0mcompute_transition_matrix\u001b[0m\u001b[0;34m(\u001b[0m\u001b[0mself\u001b[0m\u001b[0;34m,\u001b[0m \u001b[0msome_parameter\u001b[0m\u001b[0;34m:\u001b[0m \u001b[0mfloat\u001b[0m \u001b[0;34m=\u001b[0m \u001b[0;36m0.5\u001b[0m\u001b[0;34m)\u001b[0m\u001b[0;34m:\u001b[0m\u001b[0;34m\u001b[0m\u001b[0;34m\u001b[0m\u001b[0m\n",
      "\u001b[0;32m~/anaconda/envs/mazebox_env/lib/python3.9/site-packages/pandas/core/frame.py\u001b[0m in \u001b[0;36m__getitem__\u001b[0;34m(self, key)\u001b[0m\n\u001b[1;32m   3456\u001b[0m             \u001b[0;32mif\u001b[0m \u001b[0mself\u001b[0m\u001b[0;34m.\u001b[0m\u001b[0mcolumns\u001b[0m\u001b[0;34m.\u001b[0m\u001b[0mnlevels\u001b[0m \u001b[0;34m>\u001b[0m \u001b[0;36m1\u001b[0m\u001b[0;34m:\u001b[0m\u001b[0;34m\u001b[0m\u001b[0;34m\u001b[0m\u001b[0m\n\u001b[1;32m   3457\u001b[0m                 \u001b[0;32mreturn\u001b[0m \u001b[0mself\u001b[0m\u001b[0;34m.\u001b[0m\u001b[0m_getitem_multilevel\u001b[0m\u001b[0;34m(\u001b[0m\u001b[0mkey\u001b[0m\u001b[0;34m)\u001b[0m\u001b[0;34m\u001b[0m\u001b[0;34m\u001b[0m\u001b[0m\n\u001b[0;32m-> 3458\u001b[0;31m             \u001b[0mindexer\u001b[0m \u001b[0;34m=\u001b[0m \u001b[0mself\u001b[0m\u001b[0;34m.\u001b[0m\u001b[0mcolumns\u001b[0m\u001b[0;34m.\u001b[0m\u001b[0mget_loc\u001b[0m\u001b[0;34m(\u001b[0m\u001b[0mkey\u001b[0m\u001b[0;34m)\u001b[0m\u001b[0;34m\u001b[0m\u001b[0;34m\u001b[0m\u001b[0m\n\u001b[0m\u001b[1;32m   3459\u001b[0m             \u001b[0;32mif\u001b[0m \u001b[0mis_integer\u001b[0m\u001b[0;34m(\u001b[0m\u001b[0mindexer\u001b[0m\u001b[0;34m)\u001b[0m\u001b[0;34m:\u001b[0m\u001b[0;34m\u001b[0m\u001b[0;34m\u001b[0m\u001b[0m\n\u001b[1;32m   3460\u001b[0m                 \u001b[0mindexer\u001b[0m \u001b[0;34m=\u001b[0m \u001b[0;34m[\u001b[0m\u001b[0mindexer\u001b[0m\u001b[0;34m]\u001b[0m\u001b[0;34m\u001b[0m\u001b[0;34m\u001b[0m\u001b[0m\n",
      "\u001b[0;32m~/anaconda/envs/mazebox_env/lib/python3.9/site-packages/pandas/core/indexes/base.py\u001b[0m in \u001b[0;36mget_loc\u001b[0;34m(self, key, method, tolerance)\u001b[0m\n\u001b[1;32m   3361\u001b[0m                 \u001b[0;32mreturn\u001b[0m \u001b[0mself\u001b[0m\u001b[0;34m.\u001b[0m\u001b[0m_engine\u001b[0m\u001b[0;34m.\u001b[0m\u001b[0mget_loc\u001b[0m\u001b[0;34m(\u001b[0m\u001b[0mcasted_key\u001b[0m\u001b[0;34m)\u001b[0m\u001b[0;34m\u001b[0m\u001b[0;34m\u001b[0m\u001b[0m\n\u001b[1;32m   3362\u001b[0m             \u001b[0;32mexcept\u001b[0m \u001b[0mKeyError\u001b[0m \u001b[0;32mas\u001b[0m \u001b[0merr\u001b[0m\u001b[0;34m:\u001b[0m\u001b[0;34m\u001b[0m\u001b[0;34m\u001b[0m\u001b[0m\n\u001b[0;32m-> 3363\u001b[0;31m                 \u001b[0;32mraise\u001b[0m \u001b[0mKeyError\u001b[0m\u001b[0;34m(\u001b[0m\u001b[0mkey\u001b[0m\u001b[0;34m)\u001b[0m \u001b[0;32mfrom\u001b[0m \u001b[0merr\u001b[0m\u001b[0;34m\u001b[0m\u001b[0;34m\u001b[0m\u001b[0m\n\u001b[0m\u001b[1;32m   3364\u001b[0m \u001b[0;34m\u001b[0m\u001b[0m\n\u001b[1;32m   3365\u001b[0m         \u001b[0;32mif\u001b[0m \u001b[0mis_scalar\u001b[0m\u001b[0;34m(\u001b[0m\u001b[0mkey\u001b[0m\u001b[0;34m)\u001b[0m \u001b[0;32mand\u001b[0m \u001b[0misna\u001b[0m\u001b[0;34m(\u001b[0m\u001b[0mkey\u001b[0m\u001b[0;34m)\u001b[0m \u001b[0;32mand\u001b[0m \u001b[0;32mnot\u001b[0m \u001b[0mself\u001b[0m\u001b[0;34m.\u001b[0m\u001b[0mhasnans\u001b[0m\u001b[0;34m:\u001b[0m\u001b[0;34m\u001b[0m\u001b[0;34m\u001b[0m\u001b[0m\n",
      "\u001b[0;31mKeyError\u001b[0m: 'barcode_short'"
     ]
    }
   ],
   "source": [
    "k = MyKernel(adata).compute_transition_matrix()\n",
    "k"
   ]
  },
  {
   "cell_type": "code",
   "execution_count": null,
   "id": "8e5762c8-e866-408b-b36f-d700ca2b3979",
   "metadata": {},
   "outputs": [],
   "source": []
  },
  {
   "cell_type": "code",
   "execution_count": 8,
   "id": "112b4418-6561-4fd4-b9ae-892bd973dc94",
   "metadata": {},
   "outputs": [],
   "source": [
    "pseudo.reset_index(level=0, inplace=True) #changes the index to a column"
   ]
  },
  {
   "cell_type": "code",
   "execution_count": 9,
   "id": "d5835633-a27f-49c8-99fa-1e1fe6261107",
   "metadata": {
    "tags": []
   },
   "outputs": [
    {
     "data": {
      "text/html": [
       "<div>\n",
       "<style scoped>\n",
       "    .dataframe tbody tr th:only-of-type {\n",
       "        vertical-align: middle;\n",
       "    }\n",
       "\n",
       "    .dataframe tbody tr th {\n",
       "        vertical-align: top;\n",
       "    }\n",
       "\n",
       "    .dataframe thead th {\n",
       "        text-align: right;\n",
       "    }\n",
       "</style>\n",
       "<table border=\"1\" class=\"dataframe\">\n",
       "  <thead>\n",
       "    <tr style=\"text-align: right;\">\n",
       "      <th></th>\n",
       "      <th>Barcode</th>\n",
       "      <th>Diffusion Pseudotime</th>\n",
       "      <th>Monocle Pseudotime</th>\n",
       "      <th>time</th>\n",
       "    </tr>\n",
       "  </thead>\n",
       "  <tbody>\n",
       "    <tr>\n",
       "      <th>0</th>\n",
       "      <td>AAAGGTAGTTGCAAGG_15806X1</td>\n",
       "      <td>0.080624</td>\n",
       "      <td>7.026657</td>\n",
       "      <td>4</td>\n",
       "    </tr>\n",
       "    <tr>\n",
       "      <th>1</th>\n",
       "      <td>AACCACATCCACCTCA_15806X1</td>\n",
       "      <td>0.070802</td>\n",
       "      <td>4.444920</td>\n",
       "      <td>4</td>\n",
       "    </tr>\n",
       "    <tr>\n",
       "      <th>2</th>\n",
       "      <td>AAGCGAGAGACCAGAC_15806X1</td>\n",
       "      <td>0.069488</td>\n",
       "      <td>2.045337</td>\n",
       "      <td>4</td>\n",
       "    </tr>\n",
       "    <tr>\n",
       "      <th>3</th>\n",
       "      <td>AAGTACCGTTCGTACA_15806X1</td>\n",
       "      <td>0.057792</td>\n",
       "      <td>3.756390</td>\n",
       "      <td>4</td>\n",
       "    </tr>\n",
       "    <tr>\n",
       "      <th>4</th>\n",
       "      <td>AAGTCGTTCGTAGGGA_15806X1</td>\n",
       "      <td>0.069608</td>\n",
       "      <td>1.996313</td>\n",
       "      <td>4</td>\n",
       "    </tr>\n",
       "  </tbody>\n",
       "</table>\n",
       "</div>"
      ],
      "text/plain": [
       "                    Barcode  Diffusion Pseudotime  Monocle Pseudotime time\n",
       "0  AAAGGTAGTTGCAAGG_15806X1              0.080624            7.026657    4\n",
       "1  AACCACATCCACCTCA_15806X1              0.070802            4.444920    4\n",
       "2  AAGCGAGAGACCAGAC_15806X1              0.069488            2.045337    4\n",
       "3  AAGTACCGTTCGTACA_15806X1              0.057792            3.756390    4\n",
       "4  AAGTCGTTCGTAGGGA_15806X1              0.069608            1.996313    4"
      ]
     },
     "execution_count": 9,
     "metadata": {},
     "output_type": "execute_result"
    }
   ],
   "source": [
    "pseudo.head()"
   ]
  },
  {
   "cell_type": "code",
   "execution_count": 23,
   "id": "3b12b2b2-dc7d-4bf4-8a5a-672dce371b4d",
   "metadata": {},
   "outputs": [
    {
     "name": "stdout",
     "output_type": "stream",
     "text": [
      "(19370, 3)\n"
     ]
    }
   ],
   "source": [
    "bcs = pd.read_csv('/Users/geenaildefonso/Dropbox (VU Basic Sciences)/data/RPM_cell_barcodes.csv', index_col=0, header = 0)\n",
    "print(bcs.shape)"
   ]
  },
  {
   "cell_type": "code",
   "execution_count": null,
   "id": "71e3286e-1ce8-483d-9ed6-90935a58ee99",
   "metadata": {},
   "outputs": [],
   "source": [
    "bcs['barcode_short'] = [i.split('_')[0] for i in bcs['Tumor Cell Barcodes']]\n",
    "\n",
    "# pseudo['Barcode'] = [str(i.split(\":\")[1].split('x')[0]) for i in pseudo['Barcode']]\n",
    "\n",
    "filtered_cells = []\n",
    "for i in pseudo['Barcode']:\n",
    "    if i in list(bcs['barcode_short']): \n",
    "        filtered_cells.append(True)\n",
    "    else:\n",
    "        filtered_cells.append(False)\n",
    "pseudo['kept'] = filtered_cells\n",
    "# sc.pl.umap(adata, color = 'kept')"
   ]
  },
  {
   "cell_type": "code",
   "execution_count": null,
   "id": "07b624f5-8cef-4db9-8a43-ac36b8bde251",
   "metadata": {},
   "outputs": [],
   "source": [
    "pseudo"
   ]
  },
  {
   "cell_type": "code",
   "execution_count": null,
   "id": "bfaa69c9-85dc-4cb6-9a5c-0a4dc8a3c02d",
   "metadata": {},
   "outputs": [],
   "source": [
    "adata = adata[adata.obs['kept'],:]"
   ]
  },
  {
   "cell_type": "code",
   "execution_count": null,
   "id": "b6779cea-2a82-41cc-970b-36352a92c7e0",
   "metadata": {},
   "outputs": [],
   "source": [
    "adata.write_h5ad('../int/adata01.h5ad')"
   ]
  },
  {
   "cell_type": "code",
   "execution_count": null,
   "id": "9ce22a36-e652-43bd-9f31-553434af2616",
   "metadata": {},
   "outputs": [],
   "source": [
    "adata = sc.read_h5ad('../int/adata01.h5ad')"
   ]
  },
  {
   "cell_type": "code",
   "execution_count": 24,
   "id": "219d5762-23a7-4faf-b841-c3eda9ea477d",
   "metadata": {},
   "outputs": [],
   "source": [
    "adatadm = scv.read('RPM_adata_dynamicalmodeling_7548genes.h5ad')"
   ]
  },
  {
   "cell_type": "code",
   "execution_count": 25,
   "id": "5f0b6e9c-f3f9-46eb-b8c7-076661664b09",
   "metadata": {},
   "outputs": [
    {
     "name": "stdout",
     "output_type": "stream",
     "text": [
      "(15257, 7548)\n"
     ]
    }
   ],
   "source": [
    "print(adatadm.shape)"
   ]
  },
  {
   "cell_type": "code",
   "execution_count": null,
   "id": "1aa18755-f019-4081-bd04-c977d21352a5",
   "metadata": {},
   "outputs": [],
   "source": [
    "scv.pl.proportions(adata)\n",
    "adata"
   ]
  },
  {
   "cell_type": "markdown",
   "id": "fbb1c734-58e2-4a8f-9b68-b9529bde575d",
   "metadata": {
    "tags": []
   },
   "source": [
    "# Run scVelo\n",
    "\n",
    "We will use the dynamical model from scVelo to estimate the velocities. Please make sure to have at least version 0.2.3 of scVelo installed to make use parallelisation in scv.tl.recover_dynamics. On my laptop, using 8 cores, the below cell takes about 1:30 min to execute."
   ]
  },
  {
   "cell_type": "code",
   "execution_count": null,
   "id": "79365a8c-70d5-4c35-9302-902f14d86404",
   "metadata": {},
   "outputs": [],
   "source": [
    "tfs = ['SP100', 'FOSL1', 'HES1', 'NFKBIZ', 'RELB', 'EPAS1', 'BCL3', 'REST', 'SP110', 'NFKB2', 'TEAD2', 'HMG20B', 'SIX5',\n",
    "       'RARG', 'TEAD4', 'ZNF217', 'SP140L', 'SOX18', 'HOXC13', 'STAT6', 'ETV4', 'KLF2', 'MITF', 'NR0B2', 'ASCL1', 'ZBTB7C', 'ELF3',\n",
    "       'RORC', 'FOXA2', 'ETS2','TOX3', 'XBP1', 'ST18', 'FOXA1', 'OVOL2', 'ZNF664', 'TBX10', 'PROX1', 'ETV6', 'CEBPD', 'TFCP2L1', 'FOXJ3',\n",
    "       'ZNF407', 'ZNF511','ZNF396', 'RBPJ', 'ZSCAN31', 'HOXB5', 'ZNF3', 'TSHZ2', 'ZBTB16', 'ZNF10', 'FLI1', 'GATA4', 'NR0B1', 'NHLH1',\n",
    "       'NEUROD6', 'ZNF581', 'TCF15', 'LYAR', 'ISL2', 'OLIG2', 'NEUROD1', 'INSM1', 'PAX5', 'SP6', 'MYT1', 'HES6', 'ZNF24', 'ISL1', 'ZNF397',\n",
    "       'SOX11', 'ZNF253', 'SMAD4', 'RBP1', 'ONECUT2', 'ZNF711', 'DLX5', 'GRIP1', 'ZNF157', 'ZNF713', 'ZNF136', 'FOXN4', 'PATZ1', 'ZNF491',\n",
    "       'ZBTB21', 'KLF12', 'ZNF501', 'ZNF785', 'CXXC1', 'ZNF324', 'ZNF764', 'ZBTB18', 'KAT8', 'ZNF334', 'POU4F1', 'ZNF250', 'ZNF132',\n",
    "       'SALL2', 'DLX6', 'MBD1','SOX1', 'ZFP3', 'ZNF543', 'POU2F1', 'NONO', 'SMAD9', 'ZKSCAN2', 'TCF12', 'VEZF1', 'TOX', 'BHLHE22', 'MTA1',\n",
    "       'TCF3', 'SCRT2', 'RFX7','NHLH2', 'SCRT1', 'RCOR2', 'PURG', 'TBPL1', 'TCF4', 'EBF1', 'ZNF749', 'NEUROD2', 'ZNF423', 'BACH2', 'GLI1',\n",
    "       'ZFP64','NKX2-1', 'MYC', 'YAP1', 'POU2F3', 'MYCL', 'MYCN', 'ASCL2', 'AVIL', 'CHAT', 'GFI1B',\n",
    "      'CHGA','EPCAM', 'Tmed11', 'Rsl24d1','Olfr123', 'Adam20','Srsf2', 'G3bp1', 'Snrpd1', 'Pgk1', 'Rps3', 'Psmd1', 'Orc2', 'Psma2', 'Syncrip', 'Cnbp',\n",
    "            'Gspt1', 'Ppm1g', 'Eif4e', 'Hnrnpa3', 'Abce1', 'Hnrnpu',  'Ifrd1', 'Kpna2', 'Dhx15', 'Mcm4']"
   ]
  },
  {
   "cell_type": "code",
   "execution_count": null,
   "id": "6af18be3-2155-4b9a-a336-2c3cddbd8977",
   "metadata": {},
   "outputs": [],
   "source": [
    "adata.var_names"
   ]
  },
  {
   "cell_type": "code",
   "execution_count": null,
   "id": "0b90f0fb-ec3a-4619-b4e4-3cad9c575a47",
   "metadata": {},
   "outputs": [],
   "source": [
    "scv.pp.filter_and_normalize(adata, min_shared_counts=20, retain_genes = tfs)\n",
    "# sc.tl.pca(adata)\n",
    "# sc.pp.neighbors(adata, n_pcs=30, n_neighbors=30)\n",
    "# scv.pp.moments(adata, n_pcs=None, n_neighbors=None)"
   ]
  },
  {
   "cell_type": "code",
   "execution_count": null,
   "id": "0a365f14-b8f9-41a4-8432-f0bdf8722742",
   "metadata": {},
   "outputs": [],
   "source": [
    "scv.tl.recover_dynamics(adata)"
   ]
  },
  {
   "cell_type": "markdown",
   "id": "2ab94bf8-27d8-43c3-b98c-2089452c1c98",
   "metadata": {},
   "source": [
    "Once we have the parameters, we can use these to compute the velocities and the velocity graph. The velocity graph is a weighted graph that specifies how likely two cells are to transition into another, given their velocity vectors and relative positions."
   ]
  },
  {
   "cell_type": "code",
   "execution_count": null,
   "id": "a3e67278-f9bf-460f-b210-f78aa1f38faf",
   "metadata": {},
   "outputs": [],
   "source": [
    "scv.tl.velocity(adata, mode=\"dynamical\")\n",
    "scv.tl.velocity_graph(adata)"
   ]
  },
  {
   "cell_type": "code",
   "execution_count": null,
   "id": "a12e830e-17a3-4c67-99b2-174f1da1d6e0",
   "metadata": {},
   "outputs": [],
   "source": [
    "# scv.pl.velocity_embedding_stream(\n",
    "#     adata, basis=\"umap\", legend_fontsize=12, title=\"\", smooth=0.8, min_mass=4\n",
    "# )\n",
    "\n",
    "scv.pl.velocity_embedding_stream(adata, basis='umap',color=['timepoint'])"
   ]
  },
  {
   "cell_type": "code",
   "execution_count": null,
   "id": "0b7eff7a-a2e1-4d0f-a57f-6c7d711c79b8",
   "metadata": {},
   "outputs": [],
   "source": []
  },
  {
   "cell_type": "code",
   "execution_count": null,
   "id": "e27e57c4-c3e0-47fe-b360-6cedd066a9f6",
   "metadata": {},
   "outputs": [],
   "source": [
    "scv.tl.velocity(adata, mode=\"stochastic\")\n",
    "scv.tl.velocity_graph(adata)"
   ]
  },
  {
   "cell_type": "code",
   "execution_count": null,
   "id": "64ab3f61-d1a9-449d-aa4d-d0dc6142c3e0",
   "metadata": {},
   "outputs": [],
   "source": [
    "sc.pp.pca(adata)"
   ]
  },
  {
   "cell_type": "code",
   "execution_count": null,
   "id": "52c45f0a-2242-4dc2-a7e4-1f7c07474555",
   "metadata": {},
   "outputs": [],
   "source": [
    "scv.pl.pca(adata, color = 'leiden')"
   ]
  },
  {
   "cell_type": "code",
   "execution_count": null,
   "id": "7da28e3d-ee6a-4583-a53d-037473503113",
   "metadata": {},
   "outputs": [],
   "source": [
    "adata"
   ]
  },
  {
   "cell_type": "markdown",
   "id": "f1991273-410f-4dd8-998b-3190b24fe101",
   "metadata": {},
   "source": [
    "# Run CellRank\n",
    "\n",
    "CellRank offers various ways to infuse directionality into single-cell data. Here, the directional information comes from RNA velocity, and we use this information to compute initial & terminal states as well as fate probabilities for the dynamical process of pancreatic development.\n",
    "\n",
    "# Identify Terminal States\n",
    "\n",
    "Terminal states can be computed by running the following command:\n"
   ]
  },
  {
   "cell_type": "code",
   "execution_count": null,
   "id": "110b3750-2980-4444-9d28-c939d62aa2c3",
   "metadata": {},
   "outputs": [],
   "source": [
    "cr.pl.circular_projection(\n",
    "    adata, keys=[\"timepoint\", \"kl_divergence\"], legend_loc=\"upper right\"\n",
    ")"
   ]
  },
  {
   "cell_type": "code",
   "execution_count": null,
   "id": "2c0c6ea7-9a8a-402b-bf00-f1173e4d319b",
   "metadata": {},
   "outputs": [],
   "source": [
    "cr.tl.terminal_states(adata, cluster_key=\"leiden\", weight_connectivities=0.2)"
   ]
  },
  {
   "cell_type": "code",
   "execution_count": null,
   "id": "beaa4ec5-8974-48b4-aed6-c1428fd59733",
   "metadata": {},
   "outputs": [],
   "source": [
    "cr.tl.terminal_states(adata, cluster_key=\"timepoint\", weight_connectivities=0.2)"
   ]
  },
  {
   "cell_type": "code",
   "execution_count": null,
   "id": "4b50b453-d6a7-451e-9cf2-c58dc818632b",
   "metadata": {},
   "outputs": [],
   "source": [
    "cr.tl.lineages(adata)\n",
    "\n",
    "model = cr.ul.models.GAM(adata)"
   ]
  },
  {
   "cell_type": "code",
   "execution_count": null,
   "id": "8af4de3b-ba57-4b12-bd4e-cdbc987e20f4",
   "metadata": {},
   "outputs": [],
   "source": [
    "cr.pl.gene_trends(\n",
    "    adata,\n",
    "    model,\n",
    "    ['Rsl24d1'],\n",
    "    data_key=\"Ms\",\n",
    "    time_key=\"dpt_pseudotime\",\n",
    "    show_progress_bar=False,\n",
    ")"
   ]
  },
  {
   "cell_type": "markdown",
   "id": "517cb199-2549-45b8-9e1f-403ec0500760",
   "metadata": {},
   "source": [
    "The most important parameters in the above function are:\n",
    "\n",
    "estimator: this determines what’s going to behind the scenes to compute the terminal states. Options are cr.tl.estimators.CFLARE (“Clustering and Filtering of Left and Right Eigenvectors”) or cr.tl.estimators.GPCCA (“Generalized Perron Cluster Cluster Analysis, [Reuter et al., 2018] and [Reuter et al., 2019], see also our pyGPCCA implementation). The latter is the default, it computes terminal states by coarse graining the velocity-derived Markov chain into a set of macrostates that represent the slow-time scale dynamics of the process, i.e. it finds the states that you are unlikely to leave again, once you have entered them.\n",
    "\n",
    "cluster_key: takes a key from adata.obs to retrieve pre-computed cluster labels, i.e. ‘clusters’ or ‘louvain’. These labels are then mapped onto the set of terminal states, to associate a name and a color with each state.\n",
    "\n",
    "n_states: number of expected terminal states. This parameter is optional - if it’s not provided, this number is estimated from the so-called ‘eigengap heuristic’ of the spectrum of the transition matrix.\n",
    "\n",
    "method: This is only relevant for the estimator GPCCA. It determines the way in which we compute and sort the real Schur decomposition. The default, krylov, is an iterative procedure that works with sparse matrices which allows the method to scale to very large cell numbers. It relies on the libraries SLEPc and PETSc, which you will have to install separately, see our installation instructions. If your dataset is small (<5k cells), and you don’t want to install these at the moment, use method='brandts' [Brandts, 2002]. The results will be the same, the difference is that brandts works with dense matrices and won’t scale to very large cells numbers.\n",
    "\n",
    "weight_connectivities: weight given to cell-cell similarities to account for noise in velocity vectors.\n",
    "\n",
    "When running the above command, CellRank adds a key terminal_states to adata.obs and the result can be plotted as:"
   ]
  },
  {
   "cell_type": "code",
   "execution_count": null,
   "id": "5cbce215-7c38-4948-9c14-e9c417cb5262",
   "metadata": {},
   "outputs": [],
   "source": [
    "scv.pl.umap(adata, color = 'leiden')"
   ]
  },
  {
   "cell_type": "code",
   "execution_count": null,
   "id": "287694b8-bdb9-4f11-8cd3-5bbee5bb0943",
   "metadata": {},
   "outputs": [],
   "source": [
    "cr.pl.terminal_states(adata) #, save = 'terminal_states_timepoint_0.2.pdf'"
   ]
  },
  {
   "cell_type": "code",
   "execution_count": null,
   "id": "c4321eae-0a36-442b-9647-8ccc8f0da56b",
   "metadata": {},
   "outputs": [],
   "source": [
    "cr.pl.terminal_states(adata) #, save = 'terminal_states_timepoint_0.2.pdf')"
   ]
  },
  {
   "cell_type": "markdown",
   "id": "1423fee0-0f84-470b-b4a4-781e1e47f590",
   "metadata": {},
   "source": [
    "# Identify Initial States\n",
    "\n",
    "The same sort of analysis can now be repeated for the initial states, only that we use the function cr.tl.initial_states this time:"
   ]
  },
  {
   "cell_type": "code",
   "execution_count": null,
   "id": "e781fd6a-3cd7-4fe5-9293-b7285c8a2ed3",
   "metadata": {},
   "outputs": [],
   "source": [
    "cr.tl.initial_states(adata, cluster_key=\"timepoint\")\n",
    "cr.pl.initial_states(adata, discrete=True) #, save = 'initial_states_timepoint.pdf')"
   ]
  },
  {
   "cell_type": "markdown",
   "id": "7c63508a-0b17-430b-90d2-3c96431cfc05",
   "metadata": {},
   "source": [
    "# Computing Fate Maps\n",
    "\n",
    "Once we know the terminal states, we can compute associated fate maps - for each cell, we ask how likely is the cell to develop towards each of the identified terminal states."
   ]
  },
  {
   "cell_type": "code",
   "execution_count": null,
   "id": "c83de2ce-4f86-469f-a8c0-86e039c97d67",
   "metadata": {},
   "outputs": [],
   "source": []
  },
  {
   "cell_type": "code",
   "execution_count": null,
   "id": "4acd2eb3-2e85-40d6-93e4-964d05204019",
   "metadata": {},
   "outputs": [],
   "source": [
    "cr.tl.lineages(adata)\n",
    "cr.pl.lineages(adata, same_plot=False, save = 'absorption_prob_to_term_states.pdf')"
   ]
  },
  {
   "cell_type": "markdown",
   "id": "a5a48b4c-a5b1-4c9f-bea0-d40c79d2f95c",
   "metadata": {},
   "source": [
    "We can aggregate the above into a single, global fate map where we associate each terminal state with color and use the intensity of that color to show the fate of each individual cell:"
   ]
  },
  {
   "cell_type": "code",
   "execution_count": null,
   "id": "88908d36-b5cd-459e-957a-d548b63aff56",
   "metadata": {},
   "outputs": [],
   "source": [
    "cr.pl.lineages(adata, same_plot=True, save = 'absorption_prob_lineages_to_term_states.pdf')"
   ]
  },
  {
   "cell_type": "markdown",
   "id": "6f9222af-edc9-42ff-90d7-8840d262e10c",
   "metadata": {
    "tags": []
   },
   "source": [
    "# Directed PAGA\n",
    "\n",
    "We can further aggregate the individual fate maps into a cluster-level fate map using an adapted version of [Wolf et al., 2019] with directed edges. We first compute scVelo’s latent time with CellRank identified root_key and end_key, which are the probabilities of being an initial or a terminal state, respectively."
   ]
  },
  {
   "cell_type": "code",
   "execution_count": null,
   "id": "0173dddf-6802-4398-9c8a-f2b07ef33647",
   "metadata": {},
   "outputs": [],
   "source": [
    "scv.tl.recover_latent_time(\n",
    "    adata, root_key=\"initial_states_probs\", end_key=\"terminal_states_probs\"\n",
    ")"
   ]
  },
  {
   "cell_type": "markdown",
   "id": "1bdcfb57-9f53-4efa-a49c-c1d2c5a738cf",
   "metadata": {},
   "source": [
    "Next, we can use the inferred pseudotime along with the initial and terminal states probabilities to compute the directed PAGA."
   ]
  },
  {
   "cell_type": "code",
   "execution_count": null,
   "id": "a75efa96-78fd-48ec-b8cf-8c6e58b56f0d",
   "metadata": {},
   "outputs": [],
   "source": [
    "scv.tl.paga(\n",
    "    adata,\n",
    "    groups=\"timepoint\",\n",
    "    root_key=\"initial_states_probs\",\n",
    "    end_key=\"terminal_states_probs\",\n",
    "    use_time_prior=\"velocity_pseudotime\",\n",
    ")"
   ]
  },
  {
   "cell_type": "code",
   "execution_count": null,
   "id": "6601a50b-9141-4845-94fa-9de15d3cf0da",
   "metadata": {},
   "outputs": [],
   "source": [
    "cr.pl.cluster_fates(\n",
    "    adata,\n",
    "    mode=\"paga\",\n",
    "    cluster_key=\"timepoint\",\n",
    "    basis=\"umap\",\n",
    "    legend_kwargs={\"loc\": \"top right out\"},\n",
    "    legend_loc=\"on data\",\n",
    "    node_size_scale=4,\n",
    "    edge_width_scale=1,\n",
    "    max_edge_width=4,\n",
    "    title=\"Directed PAGA\",figsize = (25, 7), save = 'paga_timepoint.pdf'\n",
    ")"
   ]
  },
  {
   "cell_type": "code",
   "execution_count": null,
   "id": "f7ae3cb3-9352-4d22-99a1-38173b0eecf4",
   "metadata": {},
   "outputs": [],
   "source": [
    "cr.pl.cluster_fates(\n",
    "    adata,\n",
    "    mode=\"paga_pie\",\n",
    "    cluster_key=\"timepoint\",\n",
    "    basis=\"umap\",\n",
    "    legend_kwargs={\"loc\": \"top right out\"},\n",
    "    legend_loc=\"top left out\",\n",
    "    node_size_scale=4,\n",
    "    edge_width_scale=1,\n",
    "    max_edge_width=4,\n",
    "    title=\"Directed PAGA Pie\",save = 'paga_pie_timepoint.pdf'\n",
    ")"
   ]
  },
  {
   "cell_type": "code",
   "execution_count": null,
   "id": "8fe6a82d-6c93-4cb1-b24b-d21d621ca3a4",
   "metadata": {},
   "outputs": [],
   "source": [
    "cr.pl.cluster_fates(\n",
    "    adata,\n",
    "    mode=\"bar\",\n",
    "    cluster_key=\"timepoint\",\n",
    "    basis=\"umap\", save = 'paga_bar_timepoint.pdf'\n",
    ")"
   ]
  },
  {
   "cell_type": "code",
   "execution_count": null,
   "id": "0261a282-2c77-4c35-ac92-90c0897c8d52",
   "metadata": {},
   "outputs": [],
   "source": [
    "cr.pl.cluster_fates(\n",
    "    adata,\n",
    "    mode=\"violin\",\n",
    "    cluster_key=\"timepoint\",\n",
    "    basis=\"umap\",\n",
    "    legend_kwargs={\"loc\": \"top right out\"},\n",
    "    legend_loc=\"top left out\",\n",
    "    node_size_scale=4,\n",
    "    edge_width_scale=1,\n",
    "    max_edge_width=4,\n",
    "    title=\"directed PAGA\", figsize = (30, 5),save = 'paga_violin_timepoint.pdf'\n",
    ")"
   ]
  },
  {
   "cell_type": "code",
   "execution_count": null,
   "id": "8ad128b9-b8ca-47d7-9720-35cdc818be6a",
   "metadata": {},
   "outputs": [],
   "source": [
    "cr.pl.cluster_fates(\n",
    "    adata,\n",
    "    mode=\"heatmap\",\n",
    "    cluster_key=\"timepoint\",\n",
    "    basis=\"umap\",\n",
    "    title=\"Directed PAGA Heatmap\",save = 'paga_heatmap_timepoint.pdf'\n",
    ")"
   ]
  },
  {
   "cell_type": "code",
   "execution_count": null,
   "id": "14b193b1-d6f2-4159-bf73-847339e3ae75",
   "metadata": {},
   "outputs": [],
   "source": [
    "cr.pl.cluster_fates(\n",
    "    adata,\n",
    "    mode=\"clustermap\",\n",
    "    cluster_key=\"timepoint\",\n",
    "    basis=\"umap\",\n",
    "    title=\"Directed PAGA Cluster Map\",save = 'paga_clustermap_timepoint.pdf'\n",
    ")"
   ]
  },
  {
   "cell_type": "markdown",
   "id": "800e5e7a-7024-4663-95fb-a908cc1253fd",
   "metadata": {},
   "source": [
    "We use pie charts to show cell fates averaged per cluster. Edges between clusters are given by transcriptomic similarity between the clusters, just as in normal PAGA."
   ]
  },
  {
   "cell_type": "markdown",
   "id": "f0692edd-f8a9-471e-bdda-251ead0dc483",
   "metadata": {
    "tags": []
   },
   "source": [
    "# Compute Lineage Drivers\n",
    "\n",
    "We can compute the driver genes for all or just a subset of lineages. We can also restrict this to some subset of clusters by specifying clusters=... (not shown below). In the resulting dataframe, we also see the p-value, the corrected p-value (q-value) and the 95% confidence interval for the correlation statistic."
   ]
  },
  {
   "cell_type": "code",
   "execution_count": null,
   "id": "44008b55-b302-4d32-962a-3e4e8a10f328",
   "metadata": {},
   "outputs": [],
   "source": [
    "cr.tl.lineage_drivers(adata)"
   ]
  },
  {
   "cell_type": "markdown",
   "id": "f53bca6f-4038-464f-8ecf-244c2a547032",
   "metadata": {},
   "source": [
    "Afterwards, we can plot the top 5 driver genes (based on the correlation), e.g. for the Alpha lineage:"
   ]
  },
  {
   "cell_type": "code",
   "execution_count": null,
   "id": "598ab8a5-4ae6-432e-8585-fc95887c2ae5",
   "metadata": {},
   "outputs": [],
   "source": [
    "adata.var['day_7_pval']"
   ]
  },
  {
   "cell_type": "code",
   "execution_count": null,
   "id": "e02e7685-6f55-4364-ac14-47ffa8794582",
   "metadata": {},
   "outputs": [],
   "source": [
    "cr.pl.lineage_drivers(adata, lineage=\"day_7\", n_genes=5)"
   ]
  },
  {
   "cell_type": "code",
   "execution_count": null,
   "id": "31e0802c-645b-48a0-bb04-bfef4ddcdb27",
   "metadata": {},
   "outputs": [],
   "source": [
    "cr.pl.lineage_drivers(adata, lineage=\"day_11\", n_genes=5)"
   ]
  },
  {
   "cell_type": "code",
   "execution_count": null,
   "id": "5adb5d9c-fd99-4725-8f2a-286e9b5fbfc5",
   "metadata": {},
   "outputs": [],
   "source": [
    "cr.pl.lineage_drivers(adata, lineage=\"day_17\", n_genes=5)"
   ]
  },
  {
   "cell_type": "code",
   "execution_count": null,
   "id": "fab0aba1-c656-43df-8d0f-37823f882715",
   "metadata": {},
   "outputs": [],
   "source": [
    "cr.pl.lineage_drivers(adata, lineage=\"day_21\", n_genes=5)"
   ]
  },
  {
   "cell_type": "markdown",
   "id": "c248ce04-98b4-4646-be26-0ab4124f6cbe",
   "metadata": {},
   "source": [
    "# Gene expression trends\n",
    "\n",
    "The functions demonstrated above are the main functions of CellRank: computing initial and terminal states and probabilistic fate maps. We can use the computed probabilities now to e.g. smooth gene expression trends along lineages.\n",
    "\n",
    "Let’s start with a temporal ordering for the cells. To get this, we can compute scVelo’s latent time, as computed previously, or alternatively, we can just use CellRank’s initial states to compute a [Haghverdi et al., 2016]."
   ]
  },
  {
   "cell_type": "code",
   "execution_count": null,
   "id": "7141b1b9-97ab-4c7a-8e30-66e6e124bfc3",
   "metadata": {},
   "outputs": [],
   "source": [
    "# compue DPT, starting from CellRank defined root cell\n",
    "root_idx = np.where(adata.obs[\"initial_states\"] == \"1_2\")[0][0]\n",
    "adata.uns[\"iroot\"] = root_idx\n",
    "sc.tl.dpt(adata)\n",
    "\n",
    "scv.pl.scatter(\n",
    "    adata,\n",
    "    color=[\"Clusters\", root_idx, \"latent_time\", \"dpt_pseudotime\"],\n",
    "    fontsize=16,\n",
    "    cmap=\"viridis\",\n",
    "    perc=[2, 98],\n",
    "    colorbar=True,\n",
    "    rescale_color=[0, 1],\n",
    "    title=[\"clusters\", \"root cell\", \"latent time\", \"dpt pseudotime\"],\n",
    ")"
   ]
  },
  {
   "cell_type": "markdown",
   "id": "d3fd2df2-13e9-4e91-a00a-ddd9eec12519",
   "metadata": {},
   "source": [
    "We can plot dynamics of genes in pseudotime along individual trajectories, defined via the fate maps we computed above."
   ]
  },
  {
   "cell_type": "code",
   "execution_count": null,
   "id": "015a5845-c0b7-4b5a-a93d-9e83064fc82b",
   "metadata": {},
   "outputs": [],
   "source": [
    "model = cr.ul.models.GAM(adata)\n",
    "cr.pl.gene_trends(\n",
    "    adata,\n",
    "    model=model,\n",
    "    data_key=\"X\",\n",
    "    genes=['Srsf2', 'G3bp1', 'Snrpd1'],\n",
    "    ncols=3,\n",
    "    time_key=\"latent_time\",\n",
    "    same_plot=True,\n",
    "    hide_cells=True,\n",
    "    figsize=(15, 4),\n",
    "    n_test_points=200,\n",
    ")"
   ]
  },
  {
   "cell_type": "markdown",
   "id": "970df583-71f3-4b5b-bebd-f675a541b9ff",
   "metadata": {},
   "source": [
    "We can also visualize the lineage drivers computed above in a heatmap. Below, we do this for the Alpha lineage, i.e. we smooth gene expression for the putative Alpha-drivers in pseudotime, using as cell-level weights the Alpha fate probabilities. We sort genes according to their peak in pseudotime, thus revealing a cascade of gene expression events."
   ]
  },
  {
   "cell_type": "code",
   "execution_count": null,
   "id": "189764ed-d081-471c-9fe7-50898e5c0078",
   "metadata": {},
   "outputs": [],
   "source": [
    "cr.pl.heatmap(\n",
    "    adata,\n",
    "    model,\n",
    "    genes=adata.varm['terminal_lineage_drivers'][\"0_3_corr\"].sort_values(ascending=False).index[:100],\n",
    "    show_absorption_probabilities=True,\n",
    "    lineages=\"0_3\",\n",
    "    n_jobs=1,\n",
    "    backend=\"loky\",\n",
    ")"
   ]
  },
  {
   "cell_type": "code",
   "execution_count": null,
   "id": "543aa3a5-3149-4380-a6d3-b4c3e13094d9",
   "metadata": {},
   "outputs": [],
   "source": []
  }
 ],
 "metadata": {
  "kernelspec": {
   "display_name": "Python 3 (ipykernel)",
   "language": "python",
   "name": "python3"
  },
  "language_info": {
   "codemirror_mode": {
    "name": "ipython",
    "version": 3
   },
   "file_extension": ".py",
   "mimetype": "text/x-python",
   "name": "python",
   "nbconvert_exporter": "python",
   "pygments_lexer": "ipython3",
   "version": "3.9.6"
  }
 },
 "nbformat": 4,
 "nbformat_minor": 5
}
