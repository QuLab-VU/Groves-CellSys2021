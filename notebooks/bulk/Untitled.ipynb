{
 "cells": [
  {
   "cell_type": "markdown",
   "id": "594dd852-4f43-4ab2-868e-257b8f01ac60",
   "metadata": {},
   "source": [
    "# Archetype Task Drug Response"
   ]
  },
  {
   "cell_type": "markdown",
   "id": "85c24d4f-605e-4b97-8d49-c281a72e0367",
   "metadata": {},
   "source": [
    "Y:Tissue repair/homeostasis: Hedgehog, Insulin-like growth factor, ﬁbroblast growth factor, Wnt, TGFβ, Ras"
   ]
  },
  {
   "cell_type": "markdown",
   "id": "16893005-ecd2-4265-9746-6b60c27f594b",
   "metadata": {},
   "source": [
    "GR AOC is a measure of drug sensitivity robust to cell-to-cell variations in growth rates38. We determined how the GR AOC varied as a function of euclidean distance to the archetype by grouping cell lines in four distance bins. For each bin i, we computed the median GR AOC Gi and the within-bin standard error σi. Because some drugs were assayed against only some of the 56 cell lines, we discarded drugs with <5 cell lines per bin. For each archetype, we looked for drugs whose potency peaked in cell lines closest to the archetype, and then monotonically decreases away from it. To address the concern that the small sample size (56 breast cancer cell lines vs 1970 breast tumors per cancer type) can produce false positive drug-archetype pairs, we used a more stringent criterion to identify drugs effective against individual archetypes than the criteria used to ﬁnd overrepresented MSigDB pathway and clinical features (see “enrichment analysis” section). We scored each drug by the product of the decrease in GR AOC in consecutive bins plus twice the standard error within bin, Πi (Gi—Gi+1 + 2 <σi>), with <σi> the median standard error across all bins. Drugs which score high on this scheme see their GR AOC peak close to the archetype and then steadily decrease away from it. If GR AOC increased by more than twice the standard error in any consecutive bins, the score was set to 0. This tolerates small bin-to-bin increase in GR AOC which could be due to measurement error or cell-to-cell variability. Finally, we tested if GR AOC was signiﬁcantly higher in cell lines of the ﬁrst distance bin compared with all other bins (FDR < 10%, Mann–Whitney test, see “enrichment analysis” section). In doing so, everolimus, rapaycin, and temsirolimus were grouped together as they share the same mechanism (mTOR inhibition, Fig. 2g). Of the top ten-scoring drugs, six appear on Fig. 2e–h. In addition to these six drugs, Triciribine which inhibits the Akt kinase (an mTOR activator) is effective against the biomass and energy archetype (p = 0.01), consistent with the sensitivity of the biomass and energy archetype to mTOR inhibitors (Fig. 2g). Gemcitabine, another drug in the top 10, was not statistically signiﬁcant at FDR < 10% (p = 0.11). The identity of the remaining drugs within the top 10 was kept conﬁdential by the authors of the dataset14, thereby preventing further interpretation."
   ]
  },
  {
   "cell_type": "markdown",
   "id": "28355e6d-aa0d-474c-9bcb-bd9ebea27e6e",
   "metadata": {},
   "source": [
    "**Direction of MYC amplification/ CNV changes\n",
    "aligned with new archetype?**"
   ]
  },
  {
   "cell_type": "code",
   "execution_count": null,
   "id": "f11661b9-088c-4b2c-b08a-0e9ba37f9ca4",
   "metadata": {},
   "outputs": [],
   "source": []
  }
 ],
 "metadata": {
  "kernelspec": {
   "display_name": "Python 3 (ipykernel)",
   "language": "python",
   "name": "python3"
  },
  "language_info": {
   "codemirror_mode": {
    "name": "ipython",
    "version": 3
   },
   "file_extension": ".py",
   "mimetype": "text/x-python",
   "name": "python",
   "nbconvert_exporter": "python",
   "pygments_lexer": "ipython3",
   "version": "3.7.6"
  }
 },
 "nbformat": 4,
 "nbformat_minor": 5
}
