{
 "cells": [
  {
   "cell_type": "markdown",
   "metadata": {
    "pycharm": {
     "name": "#%% md\n"
    }
   },
   "source": [
    "# PDX Tumors Subtyping"
   ]
  },
  {
   "cell_type": "code",
   "execution_count": 1,
   "metadata": {
    "pycharm": {
     "is_executing": false,
     "name": "#%%\n"
    }
   },
   "outputs": [],
   "source": [
    "# import mazebox as mb\n",
    "import scvelo as scv\n",
    "import scanpy as sc\n",
    "import os.path as op\n",
    "import pandas as pd\n",
    "import seaborn as sns\n",
    "import numpy as np\n",
    "import matplotlib.pyplot as plt\n",
    "import sys\n",
    "import dropkick as dk\n",
    "# make sure to use position 1\n",
    "sys.path.insert(1, \"/Users/smgroves/Documents/GitHub/Groves-CellSys2021/\")\n",
    "import mazebox as mb\n",
    "import cellrank as cr\n",
    "import scanorama"
   ]
  },
  {
   "cell_type": "code",
   "execution_count": 5,
   "metadata": {},
   "outputs": [
    {
     "name": "stderr",
     "output_type": "stream",
     "text": [
      "/Users/smgroves/Documents/anaconda3/envs/mazebox_env/lib/python3.7/site-packages/ipykernel_launcher.py:1: DeprecationWarning: `cellrank.tl.read` will be removed in version `2.0`. Please use the `cellrank.kernels` or `cellrank.estimators` interface instead.\n",
      "  \"\"\"Entry point for launching an IPython kernel.\n"
     ]
    }
   ],
   "source": [
    "adata = cr.read('../../out/PDX-tumors/adata_02.h5ad')\n"
   ]
  },
  {
   "cell_type": "code",
   "execution_count": 2,
   "metadata": {},
   "outputs": [
    {
     "name": "stderr",
     "output_type": "stream",
     "text": [
      "/Users/smgroves/Documents/anaconda3/envs/mazebox_env/lib/python3.7/site-packages/ipykernel_launcher.py:1: DeprecationWarning: `cellrank.tl.read` will be removed in version `2.0`. Please use the `cellrank.kernels` or `cellrank.estimators` interface instead.\n",
      "  \"\"\"Entry point for launching an IPython kernel.\n"
     ]
    },
    {
     "data": {
      "text/plain": [
       "AnnData object with n_obs × n_vars = 928 × 10885\n",
       "    obs: 'Clusters', '_X', '_Y', 'dropkick_score', 'dropkick_label', 'arcsinh_n_genes_by_counts', 'tumor', 'initial_size_spliced', 'initial_size_unspliced', 'initial_size', 'n_genes_by_counts', 'log1p_n_genes_by_counts', 'total_counts', 'log1p_total_counts', 'total_counts_mito', 'log1p_total_counts_mito', 'pct_counts_mito', 'total_counts_ambient', 'log1p_total_counts_ambient', 'pct_counts_ambient', 'arcsinh_total_counts', 'S_score', 'G2M_score', 'phase', 'M', 'E', 'clusters_gradients', 'cell_cycle_diff', 'specialists_pca_diffdist'\n",
       "    var: 'Accession', 'Chromosome', 'End', 'Start', 'Strand', 'mito', 'pct_dropout_by_counts-Tumor 1', 'ambient-Tumor 1', 'dropkick_coef-Tumor 1', 'pct_dropout_by_counts-Tumor 2', 'ambient-Tumor 2', 'dropkick_coef-Tumor 2', 'pct_dropout_by_counts', 'ambient', 'n_cells_by_counts', 'mean_counts', 'log1p_mean_counts', 'total_counts', 'log1p_total_counts', 'mean', 'std', 'n_cells'\n",
       "    uns: 'pca', 'specialists_pca_diffdist_colors', 'tumor_colors'\n",
       "    obsm: 'X_pca', 'arc_distance'\n",
       "    varm: 'PCs'"
      ]
     },
     "execution_count": 2,
     "metadata": {},
     "output_type": "execute_result"
    }
   ],
   "source": [
    "X_magic = cr.read('../../out/PDX-tumors/X_magic_02.h5ad')\n",
    "X_magic"
   ]
  },
  {
   "cell_type": "code",
   "execution_count": 7,
   "metadata": {},
   "outputs": [],
   "source": [
    "adata.layers['imputed'] = X_magic.X\n",
    "adata.obsm['X_pca_imputed'] = X_magic.obsm['X_pca']"
   ]
  },
  {
   "cell_type": "code",
   "execution_count": 8,
   "metadata": {},
   "outputs": [],
   "source": [
    "adata.write_h5ad('../../out/PDX-tumors/adata_03.h5ad')"
   ]
  },
  {
   "cell_type": "markdown",
   "metadata": {},
   "source": [
    "# Subtyping with Archetype Signatures"
   ]
  },
  {
   "cell_type": "code",
   "execution_count": 9,
   "metadata": {},
   "outputs": [
    {
     "name": "stderr",
     "output_type": "stream",
     "text": [
      "/Users/smgroves/Documents/anaconda3/envs/mazebox_env/lib/python3.7/site-packages/ipykernel_launcher.py:1: DeprecationWarning: `cellrank.tl.read` will be removed in version `2.0`. Please use the `cellrank.kernels` or `cellrank.estimators` interface instead.\n",
      "  \"\"\"Entry point for launching an IPython kernel.\n"
     ]
    }
   ],
   "source": [
    "adata = cr.read('../../out/PDX-tumors/adata_03.h5ad')"
   ]
  },
  {
   "cell_type": "markdown",
   "metadata": {},
   "source": [
    "## Using Mazebox to generate archetype scores"
   ]
  },
  {
   "cell_type": "code",
   "execution_count": 10,
   "metadata": {},
   "outputs": [],
   "source": [
    "sig_matrix = pd.read_csv('../../out/bulk/sig_matrix_ParTI_2021.csv', header =0, index_col = 0)\n",
    "\n",
    "sig_matrix = sig_matrix / np.linalg.norm(sig_matrix, axis=0)\n"
   ]
  },
  {
   "cell_type": "code",
   "execution_count": 11,
   "metadata": {},
   "outputs": [],
   "source": [
    "# import seaborn as sns\n",
    "# max_subtype = []\n",
    "# max_v = []\n",
    "# sig_matrix_copy = sig_matrix.copy()\n",
    "# for i,r in sig_matrix.iterrows():\n",
    "#     maxi = r.idxmax()\n",
    "#     maxv = r.max()\n",
    "#     max_subtype.append(maxi) \n",
    "#     max_v.append(maxv)\n",
    "# sig_matrix_copy['max_subtype'] = max_subtype\n",
    "# sig_matrix_copy['max'] = max_v\n",
    "\n",
    "# plt.figure(figsize=(5,30))\n",
    "# sig_matrix_copy = sig_matrix_copy.sort_values(by = ['max_subtype','max'], ascending=[True, False])\n",
    "# sig_matrix_copy = sig_matrix_copy[['SCLC-A','SCLC-A2','SCLC-N','SCLC-P','SCLC-Y']]\n",
    "# sns.heatmap(sig_matrix_copy, cmap='viridis', yticklabels = True)\n",
    "# plt.xticks(rotation = 90)\n",
    "# plt.title(f'Log-transformed Archetype Expression Profiles')\n",
    "# plt.tight_layout()\n",
    "# # plt.savefig(op.join(outdir,f'figures/Archetypes/sig_matrix_logfc.pdf'))\n",
    "# plt.show()\n",
    "# plt.close()\n",
    "\n",
    "# sig_matrix_copy.to_csv('../data/sig_matrix_ParTI.csv')"
   ]
  },
  {
   "cell_type": "markdown",
   "metadata": {},
   "source": [
    "If the below code gives an error about data shape, use `type = 'csr'`."
   ]
  },
  {
   "cell_type": "markdown",
   "metadata": {},
   "source": [
    "Cells with zero expression for all genes in gene signature will get scores of NaN when assigning scores in adata.obs (because these cells are filtered for the calculation). "
   ]
  },
  {
   "cell_type": "code",
   "execution_count": 12,
   "metadata": {},
   "outputs": [
    {
     "name": "stderr",
     "output_type": "stream",
     "text": [
      "Trying to set attribute `.obs` of view, copying.\n"
     ]
    },
    {
     "name": "stdout",
     "output_type": "stream",
     "text": [
      "Transforming tumor data...\n",
      "Gene signature matrix now has shape:  (34, 5)\n",
      "Tumor data shortened to genes in gene list...\n",
      "(520, 34)\n",
      "Tumor data subsetting complete.\n"
     ]
    },
    {
     "data": {
      "image/png": "[encoded data removed]",
      "text/plain": [
       "<Figure size 288x288 with 1 Axes>"
      ]
     },
     "metadata": {},
     "output_type": "display_data"
    },
    {
     "data": {
      "image/png": "[encoded data removed]",
      "text/plain": [
       "<Figure size 288x288 with 1 Axes>"
      ]
     },
     "metadata": {},
     "output_type": "display_data"
    },
    {
     "data": {
      "image/png": "[encoded data removed]",
      "text/plain": [
       "<Figure size 288x288 with 1 Axes>"
      ]
     },
     "metadata": {},
     "output_type": "display_data"
    },
    {
     "data": {
      "image/png": "[encoded data removed]",
      "text/plain": [
       "<Figure size 288x288 with 1 Axes>"
      ]
     },
     "metadata": {},
     "output_type": "display_data"
    },
    {
     "data": {
      "image/png": "[encoded data removed]",
      "text/plain": [
       "<Figure size 288x288 with 1 Axes>"
      ]
     },
     "metadata": {},
     "output_type": "display_data"
    }
   ],
   "source": [
    "adata, adata_small, sig_matrix2 = mb.ar.phenotyping_recipe(adata, sig_matrix, groupby = 'tumor',velocity=False)\n"
   ]
  },
  {
   "cell_type": "code",
   "execution_count": 13,
   "metadata": {},
   "outputs": [],
   "source": [
    "from sklearn.manifold import LocallyLinearEmbedding\n",
    "def _archetype_diagram_no_arrows(_adata, score_name, color, figsize, order, multiplier,fname,\n",
    "                                 sizes = None, alpha = .3, s = 30, color_dict = None, norm = 'scale'):\n",
    "    # X = subtype scores for each subtype (pd dataframe)\n",
    "    n_samples = len(_adata.obs_names)\n",
    "\n",
    "    n_types = len(sig_matrix.columns)\n",
    "    subtypes = sig_matrix.columns\n",
    "    X = _adata.obs[[f\"{x}{score_name}\" for x in subtypes]]\n",
    "    top = X.sum().sort_values(ascending=False)[:3]  # return a list of n largest element\n",
    "    print(top.index)\n",
    "\n",
    "    # normalize X to sum to 1 (makes sure that the data fits within the archetype diagram with I matrix = vertices\n",
    "    X_norm = pd.DataFrame(columns=X.columns)\n",
    "    if norm == 'scale':\n",
    "        for i, r in X.iterrows():\n",
    "            if r.sum() == 0:\n",
    "                X_norm = X_norm.append(r)\n",
    "            else:\n",
    "                X_norm = X_norm.append(r / r.sum())\n",
    "    elif norm == 'max':\n",
    "        max = X.max().max()\n",
    "        X_norm = X / max\n",
    "    elif norm == 'None':\n",
    "        X_norm = X\n",
    "\n",
    "    X = X_norm.fillna(0)\n",
    "    if type(order) != type(None):\n",
    "        X = X[[f\"{x}{score_name}\" for x in order]]\n",
    "        subtypes = order\n",
    "    else:\n",
    "        order = subtypes\n",
    "\n",
    "    ident = np.identity(n_types)\n",
    "    for i, x in enumerate(subtypes):\n",
    "        X = X.append(pd.DataFrame(np.array(ident[i]), index=X.columns, columns=[x]).T)\n",
    "\n",
    "    embedding = LocallyLinearEmbedding(n_components=2, n_neighbors=4, method='modified', eigen_solver='dense')\n",
    "    X_transformed = embedding.fit_transform(X[-n_types:])\n",
    "    X_transformed = X_transformed.T\n",
    "\n",
    "    X_df_data = embedding.transform(X[:-n_types])\n",
    "    X_df_data = X_df_data.T\n",
    "\n",
    "    fig = plt.figure(figsize=figsize)\n",
    "\n",
    "    ax = fig.add_subplot()\n",
    "    colors = _adata.obs[color].values\n",
    "    if type(colors[0]) == str:\n",
    "        c = [color_dict[i] for i in colors]\n",
    "    else:\n",
    "        c = colors\n",
    "    plt.scatter(X_df_data[0], X_df_data[1], c=c, zorder=1, alpha=alpha, s=s)\n",
    "    if type(sizes) == int:\n",
    "        plt.scatter(X_transformed[0, -n_types:], X_transformed[1, -n_types:], c='black',\n",
    "                    zorder=2, s=sizes)\n",
    "    else:\n",
    "        sizes = [Counter(colors)[i] * multiplier / n_samples for i in order]\n",
    "        print(sizes)\n",
    "        plt.scatter(X_transformed[0, -n_types:], X_transformed[1, -n_types:], c='black',\n",
    "                zorder=2, s=sizes)\n",
    "    plt.axis('tight')\n",
    "    plt.savefig(f'./figures/{fname}.pdf')\n",
    "    plt.show()\n",
    "    plt.close()\n",
    "    fig = plt.figure(figsize=figsize)\n",
    "\n",
    "    ax = fig.add_subplot()\n",
    "    colors = _adata.obs[color].values\n",
    "    if type(colors[0]) == str:\n",
    "        c = [color_dict[i] for i in colors]\n",
    "    else:\n",
    "        c = colors\n",
    "    sns.kdeplot(X_df_data[0], X_df_data[1], cmap=\"Reds\", shade=True, bw=.15)\n",
    "    if type(sizes) == int:\n",
    "        plt.scatter(X_transformed[0, -n_types:], X_transformed[1, -n_types:], c='black',\n",
    "                    zorder=2, s=sizes)\n",
    "    else:\n",
    "        sizes = [Counter(colors)[i] * multiplier / n_samples for i in order]\n",
    "        print(sizes)\n",
    "        plt.scatter(X_transformed[0, -n_types:], X_transformed[1, -n_types:], c='black',\n",
    "                    zorder=2, s=sizes)\n",
    "    plt.axis('tight')\n",
    "    plt.show()\n",
    "    plt.close()\n"
   ]
  },
  {
   "cell_type": "code",
   "execution_count": 14,
   "metadata": {},
   "outputs": [
    {
     "name": "stdout",
     "output_type": "stream",
     "text": [
      "Index(['SCLC-A2_Score', 'SCLC-A_Score', 'SCLC-Y_Score'], dtype='object')\n"
     ]
    },
    {
     "data": {
      "image/png": "[encoded data removed]",
      "text/plain": [
       "<Figure size 576x576 with 1 Axes>"
      ]
     },
     "metadata": {},
     "output_type": "display_data"
    },
    {
     "data": {
      "image/png": "[encoded data removed]",
      "text/plain": [
       "<Figure size 576x576 with 1 Axes>"
      ]
     },
     "metadata": {},
     "output_type": "display_data"
    }
   ],
   "source": [
    "color_dict = {}\n",
    "for i,c in enumerate(sorted(list(set(adata_small.obs['tumor'])))):\n",
    "    if i == 7:     color_dict[c] = sns.color_palette('tab10')[9] #skip grey\n",
    "    else:\n",
    "        color_dict[c] = sns.color_palette('tab10',8)[i]\n",
    "cmap = 'jet'\n",
    "_archetype_diagram_no_arrows(adata_small, color_dict=color_dict,color='tumor',fname = 'tumor_archetype_space',\n",
    "                        order = ['SCLC-Y','SCLC-A','SCLC-P','SCLC-N','SCLC-A2'], norm = 'None',\n",
    "                        multiplier=1, figsize=(8,8), score_name = '_Score', alpha = .5, s = 4, sizes = 20)\n"
   ]
  },
  {
   "cell_type": "markdown",
   "metadata": {},
   "source": [
    "## Newer phenotype classification with labeled generalists\n",
    "Let's check to see how many samples have significant scores (p>.3) for more than one phenotype."
   ]
  },
  {
   "cell_type": "code",
   "execution_count": 15,
   "metadata": {},
   "outputs": [
    {
     "data": {
      "text/plain": [
       "<BarContainer object of 3 artists>"
      ]
     },
     "execution_count": 15,
     "metadata": {},
     "output_type": "execute_result"
    },
    {
     "data": {
      "image/png": "[encoded data removed]",
      "text/plain": [
       "<Figure size 432x288 with 1 Axes>"
      ]
     },
     "metadata": {},
     "output_type": "display_data"
    }
   ],
   "source": [
    "df = adata.obs[[f\"{x}_Score_pos\" for x in ['SCLC-N', 'SCLC-A', 'SCLC-P', 'SCLC-Y', 'SCLC-A2']]]\n",
    "# np.unique((df > .3).sum(axis = 1), return_counts=True)[1]\n",
    "plt.bar(height = np.unique(((df.T/df.sum(axis = 1)).T > .33).sum(axis = 1), return_counts=True)[1], x = range(3), log=False)"
   ]
  },
  {
   "cell_type": "code",
   "execution_count": 16,
   "metadata": {},
   "outputs": [],
   "source": [
    "arc_pheno = []\n",
    "arc_aa_type = []\n",
    "\n",
    "for i,r in df.iterrows():\n",
    "    r = r/r.sum()\n",
    "    if (r > .33).sum() > 1:\n",
    "        arc_aa_type.append('Generalist')\n",
    "        arc_pheno.append(r.sort_values(ascending=False)[0:2].sort_index().index[0].split('_')[0]+\"_\"+r.sort_values(ascending=False)[0:2].sort_index().index[1].split('_')[0])\n",
    "    elif  (r > .33).sum() == 1:\n",
    "        try:\n",
    "            arc_aa_type.append(r.idxmax().split('_')[0]+\" Specialist\")\n",
    "            arc_pheno.append(r.idxmax().split('_')[0])\n",
    "        except AttributeError: \n",
    "            arc_aa_type.append(\"Unclassified\")\n",
    "            arc_pheno.append(\"Unclassified\")\n",
    "    else: \n",
    "        arc_aa_type.append(\"Unclassified\")\n",
    "        arc_pheno.append(\"Unclassified\")\n",
    "adata.obs['arc_pheno'] = arc_pheno\n",
    "adata.obs['arc_aa_type'] = arc_aa_type\n"
   ]
  },
  {
   "cell_type": "code",
   "execution_count": 17,
   "metadata": {},
   "outputs": [
    {
     "data": {
      "text/html": [
       "<style type=\"text/css\">\n",
       "#T_39b90_row0_col0 {\n",
       "  background-color: #287c8e;\n",
       "  color: #f1f1f1;\n",
       "}\n",
       "#T_39b90_row0_col1 {\n",
       "  background-color: #2f6b8e;\n",
       "  color: #f1f1f1;\n",
       "}\n",
       "#T_39b90_row1_col0 {\n",
       "  background-color: #2b748e;\n",
       "  color: #f1f1f1;\n",
       "}\n",
       "#T_39b90_row1_col1 {\n",
       "  background-color: #25838e;\n",
       "  color: #f1f1f1;\n",
       "}\n",
       "#T_39b90_row2_col0, #T_39b90_row2_col1 {\n",
       "  background-color: #471063;\n",
       "  color: #f1f1f1;\n",
       "}\n",
       "#T_39b90_row3_col0, #T_39b90_row5_col0 {\n",
       "  background-color: #450457;\n",
       "  color: #f1f1f1;\n",
       "}\n",
       "#T_39b90_row3_col1 {\n",
       "  background-color: #450559;\n",
       "  color: #f1f1f1;\n",
       "}\n",
       "#T_39b90_row4_col0 {\n",
       "  background-color: #472d7b;\n",
       "  color: #f1f1f1;\n",
       "}\n",
       "#T_39b90_row4_col1 {\n",
       "  background-color: #482374;\n",
       "  color: #f1f1f1;\n",
       "}\n",
       "#T_39b90_row5_col1, #T_39b90_row6_col1, #T_39b90_row8_col1, #T_39b90_row11_col0, #T_39b90_row11_col1, #T_39b90_row12_col1 {\n",
       "  background-color: #440154;\n",
       "  color: #f1f1f1;\n",
       "}\n",
       "#T_39b90_row6_col0 {\n",
       "  background-color: #482475;\n",
       "  color: #f1f1f1;\n",
       "}\n",
       "#T_39b90_row7_col0, #T_39b90_row10_col0 {\n",
       "  background-color: #46307e;\n",
       "  color: #f1f1f1;\n",
       "}\n",
       "#T_39b90_row7_col1 {\n",
       "  background-color: #481b6d;\n",
       "  color: #f1f1f1;\n",
       "}\n",
       "#T_39b90_row8_col0 {\n",
       "  background-color: #481769;\n",
       "  color: #f1f1f1;\n",
       "}\n",
       "#T_39b90_row9_col0 {\n",
       "  background-color: #433d84;\n",
       "  color: #f1f1f1;\n",
       "}\n",
       "#T_39b90_row9_col1 {\n",
       "  background-color: #470d60;\n",
       "  color: #f1f1f1;\n",
       "}\n",
       "#T_39b90_row10_col1, #T_39b90_row12_col0 {\n",
       "  background-color: #46085c;\n",
       "  color: #f1f1f1;\n",
       "}\n",
       "#T_39b90_row13_col0, #T_39b90_row13_col1 {\n",
       "  background-color: #fde725;\n",
       "  color: #000000;\n",
       "}\n",
       "</style>\n",
       "<table id=\"T_39b90_\">\n",
       "  <thead>\n",
       "    <tr>\n",
       "      <th class=\"index_name level0\" >tumor</th>\n",
       "      <th class=\"col_heading level0 col0\" >Tumor 1</th>\n",
       "      <th class=\"col_heading level0 col1\" >Tumor 2</th>\n",
       "    </tr>\n",
       "    <tr>\n",
       "      <th class=\"index_name level0\" >arc_pheno</th>\n",
       "      <th class=\"blank col0\" >&nbsp;</th>\n",
       "      <th class=\"blank col1\" >&nbsp;</th>\n",
       "    </tr>\n",
       "  </thead>\n",
       "  <tbody>\n",
       "    <tr>\n",
       "      <th id=\"T_39b90_level0_row0\" class=\"row_heading level0 row0\" >SCLC-A</th>\n",
       "      <td id=\"T_39b90_row0_col0\" class=\"data row0 col0\" >44</td>\n",
       "      <td id=\"T_39b90_row0_col1\" class=\"data row0 col1\" >106</td>\n",
       "    </tr>\n",
       "    <tr>\n",
       "      <th id=\"T_39b90_level0_row1\" class=\"row_heading level0 row1\" >SCLC-A2</th>\n",
       "      <td id=\"T_39b90_row1_col0\" class=\"data row1 col0\" >41</td>\n",
       "      <td id=\"T_39b90_row1_col1\" class=\"data row1 col1\" >137</td>\n",
       "    </tr>\n",
       "    <tr>\n",
       "      <th id=\"T_39b90_level0_row2\" class=\"row_heading level0 row2\" >SCLC-A2_SCLC-A</th>\n",
       "      <td id=\"T_39b90_row2_col0\" class=\"data row2 col0\" >6</td>\n",
       "      <td id=\"T_39b90_row2_col1\" class=\"data row2 col1\" >12</td>\n",
       "    </tr>\n",
       "    <tr>\n",
       "      <th id=\"T_39b90_level0_row3\" class=\"row_heading level0 row3\" >SCLC-A2_SCLC-N</th>\n",
       "      <td id=\"T_39b90_row3_col0\" class=\"data row3 col0\" >3</td>\n",
       "      <td id=\"T_39b90_row3_col1\" class=\"data row3 col1\" >4</td>\n",
       "    </tr>\n",
       "    <tr>\n",
       "      <th id=\"T_39b90_level0_row4\" class=\"row_heading level0 row4\" >SCLC-A2_SCLC-P</th>\n",
       "      <td id=\"T_39b90_row4_col0\" class=\"data row4 col0\" >15</td>\n",
       "      <td id=\"T_39b90_row4_col1\" class=\"data row4 col1\" >29</td>\n",
       "    </tr>\n",
       "    <tr>\n",
       "      <th id=\"T_39b90_level0_row5\" class=\"row_heading level0 row5\" >SCLC-A2_SCLC-Y</th>\n",
       "      <td id=\"T_39b90_row5_col0\" class=\"data row5 col0\" >3</td>\n",
       "      <td id=\"T_39b90_row5_col1\" class=\"data row5 col1\" >1</td>\n",
       "    </tr>\n",
       "    <tr>\n",
       "      <th id=\"T_39b90_level0_row6\" class=\"row_heading level0 row6\" >SCLC-A_SCLC-N</th>\n",
       "      <td id=\"T_39b90_row6_col0\" class=\"data row6 col0\" >12</td>\n",
       "      <td id=\"T_39b90_row6_col1\" class=\"data row6 col1\" >0</td>\n",
       "    </tr>\n",
       "    <tr>\n",
       "      <th id=\"T_39b90_level0_row7\" class=\"row_heading level0 row7\" >SCLC-A_SCLC-P</th>\n",
       "      <td id=\"T_39b90_row7_col0\" class=\"data row7 col0\" >16</td>\n",
       "      <td id=\"T_39b90_row7_col1\" class=\"data row7 col1\" >22</td>\n",
       "    </tr>\n",
       "    <tr>\n",
       "      <th id=\"T_39b90_level0_row8\" class=\"row_heading level0 row8\" >SCLC-A_SCLC-Y</th>\n",
       "      <td id=\"T_39b90_row8_col0\" class=\"data row8 col0\" >8</td>\n",
       "      <td id=\"T_39b90_row8_col1\" class=\"data row8 col1\" >1</td>\n",
       "    </tr>\n",
       "    <tr>\n",
       "      <th id=\"T_39b90_level0_row9\" class=\"row_heading level0 row9\" >SCLC-N</th>\n",
       "      <td id=\"T_39b90_row9_col0\" class=\"data row9 col0\" >20</td>\n",
       "      <td id=\"T_39b90_row9_col1\" class=\"data row9 col1\" >10</td>\n",
       "    </tr>\n",
       "    <tr>\n",
       "      <th id=\"T_39b90_level0_row10\" class=\"row_heading level0 row10\" >SCLC-P</th>\n",
       "      <td id=\"T_39b90_row10_col0\" class=\"data row10 col0\" >16</td>\n",
       "      <td id=\"T_39b90_row10_col1\" class=\"data row10 col1\" >7</td>\n",
       "    </tr>\n",
       "    <tr>\n",
       "      <th id=\"T_39b90_level0_row11\" class=\"row_heading level0 row11\" >SCLC-P_SCLC-Y</th>\n",
       "      <td id=\"T_39b90_row11_col0\" class=\"data row11 col0\" >2</td>\n",
       "      <td id=\"T_39b90_row11_col1\" class=\"data row11 col1\" >1</td>\n",
       "    </tr>\n",
       "    <tr>\n",
       "      <th id=\"T_39b90_level0_row12\" class=\"row_heading level0 row12\" >SCLC-Y</th>\n",
       "      <td id=\"T_39b90_row12_col0\" class=\"data row12 col0\" >4</td>\n",
       "      <td id=\"T_39b90_row12_col1\" class=\"data row12 col1\" >0</td>\n",
       "    </tr>\n",
       "    <tr>\n",
       "      <th id=\"T_39b90_level0_row13\" class=\"row_heading level0 row13\" >Unclassified</th>\n",
       "      <td id=\"T_39b90_row13_col0\" class=\"data row13 col0\" >103</td>\n",
       "      <td id=\"T_39b90_row13_col1\" class=\"data row13 col1\" >305</td>\n",
       "    </tr>\n",
       "  </tbody>\n",
       "</table>\n"
      ],
      "text/plain": [
       "<pandas.io.formats.style.Styler at 0x7ff9eaa288d0>"
      ]
     },
     "execution_count": 17,
     "metadata": {},
     "output_type": "execute_result"
    }
   ],
   "source": [
    "pd.crosstab(adata.obs['arc_pheno'],adata.obs['tumor']).style.background_gradient(cmap='viridis')"
   ]
  },
  {
   "cell_type": "code",
   "execution_count": 18,
   "metadata": {},
   "outputs": [
    {
     "data": {
      "text/html": [
       "<style type=\"text/css\">\n",
       "#T_1e9e1_row0_col0 {\n",
       "  background-color: #e2e418;\n",
       "  color: #000000;\n",
       "}\n",
       "#T_1e9e1_row0_col1, #T_1e9e1_row1_col0, #T_1e9e1_row1_col2, #T_1e9e1_row8_col5, #T_1e9e1_row9_col3, #T_1e9e1_row10_col4 {\n",
       "  background-color: #fde725;\n",
       "  color: #000000;\n",
       "}\n",
       "#T_1e9e1_row0_col2, #T_1e9e1_row0_col3, #T_1e9e1_row0_col4, #T_1e9e1_row0_col5, #T_1e9e1_row1_col1, #T_1e9e1_row1_col3, #T_1e9e1_row1_col4, #T_1e9e1_row1_col5, #T_1e9e1_row2_col1, #T_1e9e1_row2_col2, #T_1e9e1_row2_col3, #T_1e9e1_row2_col4, #T_1e9e1_row2_col5, #T_1e9e1_row3_col1, #T_1e9e1_row3_col2, #T_1e9e1_row3_col4, #T_1e9e1_row3_col5, #T_1e9e1_row4_col1, #T_1e9e1_row4_col2, #T_1e9e1_row4_col3, #T_1e9e1_row4_col4, #T_1e9e1_row4_col5, #T_1e9e1_row5_col1, #T_1e9e1_row5_col2, #T_1e9e1_row5_col3, #T_1e9e1_row5_col4, #T_1e9e1_row5_col5, #T_1e9e1_row6_col1, #T_1e9e1_row6_col2, #T_1e9e1_row6_col3, #T_1e9e1_row6_col4, #T_1e9e1_row6_col5, #T_1e9e1_row7_col1, #T_1e9e1_row7_col2, #T_1e9e1_row7_col3, #T_1e9e1_row7_col4, #T_1e9e1_row7_col5, #T_1e9e1_row8_col0, #T_1e9e1_row8_col2, #T_1e9e1_row8_col3, #T_1e9e1_row8_col4, #T_1e9e1_row9_col1, #T_1e9e1_row9_col2, #T_1e9e1_row9_col4, #T_1e9e1_row9_col5, #T_1e9e1_row10_col1, #T_1e9e1_row10_col2, #T_1e9e1_row10_col3, #T_1e9e1_row10_col5, #T_1e9e1_row11_col1, #T_1e9e1_row11_col2, #T_1e9e1_row11_col3, #T_1e9e1_row11_col4, #T_1e9e1_row11_col5, #T_1e9e1_row12_col1, #T_1e9e1_row12_col2, #T_1e9e1_row12_col3, #T_1e9e1_row12_col4 {\n",
       "  background-color: #440154;\n",
       "  color: #f1f1f1;\n",
       "}\n",
       "#T_1e9e1_row2_col0 {\n",
       "  background-color: #482979;\n",
       "  color: #f1f1f1;\n",
       "}\n",
       "#T_1e9e1_row3_col0 {\n",
       "  background-color: #460b5e;\n",
       "  color: #f1f1f1;\n",
       "}\n",
       "#T_1e9e1_row3_col3 {\n",
       "  background-color: #31688e;\n",
       "  color: #f1f1f1;\n",
       "}\n",
       "#T_1e9e1_row4_col0 {\n",
       "  background-color: #34608d;\n",
       "  color: #f1f1f1;\n",
       "}\n",
       "#T_1e9e1_row5_col0 {\n",
       "  background-color: #450559;\n",
       "  color: #f1f1f1;\n",
       "}\n",
       "#T_1e9e1_row6_col0 {\n",
       "  background-color: #481b6d;\n",
       "  color: #f1f1f1;\n",
       "}\n",
       "#T_1e9e1_row7_col0 {\n",
       "  background-color: #3a548c;\n",
       "  color: #f1f1f1;\n",
       "}\n",
       "#T_1e9e1_row8_col1 {\n",
       "  background-color: #472d7b;\n",
       "  color: #f1f1f1;\n",
       "}\n",
       "#T_1e9e1_row9_col0 {\n",
       "  background-color: #433e85;\n",
       "  color: #f1f1f1;\n",
       "}\n",
       "#T_1e9e1_row10_col0 {\n",
       "  background-color: #472e7c;\n",
       "  color: #f1f1f1;\n",
       "}\n",
       "#T_1e9e1_row11_col0, #T_1e9e1_row12_col0 {\n",
       "  background-color: #440256;\n",
       "  color: #f1f1f1;\n",
       "}\n",
       "#T_1e9e1_row12_col5 {\n",
       "  background-color: #414487;\n",
       "  color: #f1f1f1;\n",
       "}\n",
       "</style>\n",
       "<table id=\"T_1e9e1_\">\n",
       "  <thead>\n",
       "    <tr>\n",
       "      <th class=\"index_name level0\" >Phenotype</th>\n",
       "      <th class=\"col_heading level0 col0\" >Generalist</th>\n",
       "      <th class=\"col_heading level0 col1\" >SCLC-A</th>\n",
       "      <th class=\"col_heading level0 col2\" >SCLC-A2</th>\n",
       "      <th class=\"col_heading level0 col3\" >SCLC-N</th>\n",
       "      <th class=\"col_heading level0 col4\" >SCLC-P</th>\n",
       "      <th class=\"col_heading level0 col5\" >SCLC-Y</th>\n",
       "    </tr>\n",
       "    <tr>\n",
       "      <th class=\"index_name level0\" >arc_pheno</th>\n",
       "      <th class=\"blank col0\" >&nbsp;</th>\n",
       "      <th class=\"blank col1\" >&nbsp;</th>\n",
       "      <th class=\"blank col2\" >&nbsp;</th>\n",
       "      <th class=\"blank col3\" >&nbsp;</th>\n",
       "      <th class=\"blank col4\" >&nbsp;</th>\n",
       "      <th class=\"blank col5\" >&nbsp;</th>\n",
       "    </tr>\n",
       "  </thead>\n",
       "  <tbody>\n",
       "    <tr>\n",
       "      <th id=\"T_1e9e1_level0_row0\" class=\"row_heading level0 row0\" >SCLC-A</th>\n",
       "      <td id=\"T_1e9e1_row0_col0\" class=\"data row0 col0\" >134</td>\n",
       "      <td id=\"T_1e9e1_row0_col1\" class=\"data row0 col1\" >16</td>\n",
       "      <td id=\"T_1e9e1_row0_col2\" class=\"data row0 col2\" >0</td>\n",
       "      <td id=\"T_1e9e1_row0_col3\" class=\"data row0 col3\" >0</td>\n",
       "      <td id=\"T_1e9e1_row0_col4\" class=\"data row0 col4\" >0</td>\n",
       "      <td id=\"T_1e9e1_row0_col5\" class=\"data row0 col5\" >0</td>\n",
       "    </tr>\n",
       "    <tr>\n",
       "      <th id=\"T_1e9e1_level0_row1\" class=\"row_heading level0 row1\" >SCLC-A2</th>\n",
       "      <td id=\"T_1e9e1_row1_col0\" class=\"data row1 col0\" >140</td>\n",
       "      <td id=\"T_1e9e1_row1_col1\" class=\"data row1 col1\" >0</td>\n",
       "      <td id=\"T_1e9e1_row1_col2\" class=\"data row1 col2\" >38</td>\n",
       "      <td id=\"T_1e9e1_row1_col3\" class=\"data row1 col3\" >0</td>\n",
       "      <td id=\"T_1e9e1_row1_col4\" class=\"data row1 col4\" >0</td>\n",
       "      <td id=\"T_1e9e1_row1_col5\" class=\"data row1 col5\" >0</td>\n",
       "    </tr>\n",
       "    <tr>\n",
       "      <th id=\"T_1e9e1_level0_row2\" class=\"row_heading level0 row2\" >SCLC-A2_SCLC-A</th>\n",
       "      <td id=\"T_1e9e1_row2_col0\" class=\"data row2 col0\" >18</td>\n",
       "      <td id=\"T_1e9e1_row2_col1\" class=\"data row2 col1\" >0</td>\n",
       "      <td id=\"T_1e9e1_row2_col2\" class=\"data row2 col2\" >0</td>\n",
       "      <td id=\"T_1e9e1_row2_col3\" class=\"data row2 col3\" >0</td>\n",
       "      <td id=\"T_1e9e1_row2_col4\" class=\"data row2 col4\" >0</td>\n",
       "      <td id=\"T_1e9e1_row2_col5\" class=\"data row2 col5\" >0</td>\n",
       "    </tr>\n",
       "    <tr>\n",
       "      <th id=\"T_1e9e1_level0_row3\" class=\"row_heading level0 row3\" >SCLC-A2_SCLC-N</th>\n",
       "      <td id=\"T_1e9e1_row3_col0\" class=\"data row3 col0\" >6</td>\n",
       "      <td id=\"T_1e9e1_row3_col1\" class=\"data row3 col1\" >0</td>\n",
       "      <td id=\"T_1e9e1_row3_col2\" class=\"data row3 col2\" >0</td>\n",
       "      <td id=\"T_1e9e1_row3_col3\" class=\"data row3 col3\" >1</td>\n",
       "      <td id=\"T_1e9e1_row3_col4\" class=\"data row3 col4\" >0</td>\n",
       "      <td id=\"T_1e9e1_row3_col5\" class=\"data row3 col5\" >0</td>\n",
       "    </tr>\n",
       "    <tr>\n",
       "      <th id=\"T_1e9e1_level0_row4\" class=\"row_heading level0 row4\" >SCLC-A2_SCLC-P</th>\n",
       "      <td id=\"T_1e9e1_row4_col0\" class=\"data row4 col0\" >44</td>\n",
       "      <td id=\"T_1e9e1_row4_col1\" class=\"data row4 col1\" >0</td>\n",
       "      <td id=\"T_1e9e1_row4_col2\" class=\"data row4 col2\" >0</td>\n",
       "      <td id=\"T_1e9e1_row4_col3\" class=\"data row4 col3\" >0</td>\n",
       "      <td id=\"T_1e9e1_row4_col4\" class=\"data row4 col4\" >0</td>\n",
       "      <td id=\"T_1e9e1_row4_col5\" class=\"data row4 col5\" >0</td>\n",
       "    </tr>\n",
       "    <tr>\n",
       "      <th id=\"T_1e9e1_level0_row5\" class=\"row_heading level0 row5\" >SCLC-A2_SCLC-Y</th>\n",
       "      <td id=\"T_1e9e1_row5_col0\" class=\"data row5 col0\" >4</td>\n",
       "      <td id=\"T_1e9e1_row5_col1\" class=\"data row5 col1\" >0</td>\n",
       "      <td id=\"T_1e9e1_row5_col2\" class=\"data row5 col2\" >0</td>\n",
       "      <td id=\"T_1e9e1_row5_col3\" class=\"data row5 col3\" >0</td>\n",
       "      <td id=\"T_1e9e1_row5_col4\" class=\"data row5 col4\" >0</td>\n",
       "      <td id=\"T_1e9e1_row5_col5\" class=\"data row5 col5\" >0</td>\n",
       "    </tr>\n",
       "    <tr>\n",
       "      <th id=\"T_1e9e1_level0_row6\" class=\"row_heading level0 row6\" >SCLC-A_SCLC-N</th>\n",
       "      <td id=\"T_1e9e1_row6_col0\" class=\"data row6 col0\" >12</td>\n",
       "      <td id=\"T_1e9e1_row6_col1\" class=\"data row6 col1\" >0</td>\n",
       "      <td id=\"T_1e9e1_row6_col2\" class=\"data row6 col2\" >0</td>\n",
       "      <td id=\"T_1e9e1_row6_col3\" class=\"data row6 col3\" >0</td>\n",
       "      <td id=\"T_1e9e1_row6_col4\" class=\"data row6 col4\" >0</td>\n",
       "      <td id=\"T_1e9e1_row6_col5\" class=\"data row6 col5\" >0</td>\n",
       "    </tr>\n",
       "    <tr>\n",
       "      <th id=\"T_1e9e1_level0_row7\" class=\"row_heading level0 row7\" >SCLC-A_SCLC-P</th>\n",
       "      <td id=\"T_1e9e1_row7_col0\" class=\"data row7 col0\" >38</td>\n",
       "      <td id=\"T_1e9e1_row7_col1\" class=\"data row7 col1\" >0</td>\n",
       "      <td id=\"T_1e9e1_row7_col2\" class=\"data row7 col2\" >0</td>\n",
       "      <td id=\"T_1e9e1_row7_col3\" class=\"data row7 col3\" >0</td>\n",
       "      <td id=\"T_1e9e1_row7_col4\" class=\"data row7 col4\" >0</td>\n",
       "      <td id=\"T_1e9e1_row7_col5\" class=\"data row7 col5\" >0</td>\n",
       "    </tr>\n",
       "    <tr>\n",
       "      <th id=\"T_1e9e1_level0_row8\" class=\"row_heading level0 row8\" >SCLC-A_SCLC-Y</th>\n",
       "      <td id=\"T_1e9e1_row8_col0\" class=\"data row8 col0\" >2</td>\n",
       "      <td id=\"T_1e9e1_row8_col1\" class=\"data row8 col1\" >2</td>\n",
       "      <td id=\"T_1e9e1_row8_col2\" class=\"data row8 col2\" >0</td>\n",
       "      <td id=\"T_1e9e1_row8_col3\" class=\"data row8 col3\" >0</td>\n",
       "      <td id=\"T_1e9e1_row8_col4\" class=\"data row8 col4\" >0</td>\n",
       "      <td id=\"T_1e9e1_row8_col5\" class=\"data row8 col5\" >5</td>\n",
       "    </tr>\n",
       "    <tr>\n",
       "      <th id=\"T_1e9e1_level0_row9\" class=\"row_heading level0 row9\" >SCLC-N</th>\n",
       "      <td id=\"T_1e9e1_row9_col0\" class=\"data row9 col0\" >27</td>\n",
       "      <td id=\"T_1e9e1_row9_col1\" class=\"data row9 col1\" >0</td>\n",
       "      <td id=\"T_1e9e1_row9_col2\" class=\"data row9 col2\" >0</td>\n",
       "      <td id=\"T_1e9e1_row9_col3\" class=\"data row9 col3\" >3</td>\n",
       "      <td id=\"T_1e9e1_row9_col4\" class=\"data row9 col4\" >0</td>\n",
       "      <td id=\"T_1e9e1_row9_col5\" class=\"data row9 col5\" >0</td>\n",
       "    </tr>\n",
       "    <tr>\n",
       "      <th id=\"T_1e9e1_level0_row10\" class=\"row_heading level0 row10\" >SCLC-P</th>\n",
       "      <td id=\"T_1e9e1_row10_col0\" class=\"data row10 col0\" >20</td>\n",
       "      <td id=\"T_1e9e1_row10_col1\" class=\"data row10 col1\" >0</td>\n",
       "      <td id=\"T_1e9e1_row10_col2\" class=\"data row10 col2\" >0</td>\n",
       "      <td id=\"T_1e9e1_row10_col3\" class=\"data row10 col3\" >0</td>\n",
       "      <td id=\"T_1e9e1_row10_col4\" class=\"data row10 col4\" >3</td>\n",
       "      <td id=\"T_1e9e1_row10_col5\" class=\"data row10 col5\" >0</td>\n",
       "    </tr>\n",
       "    <tr>\n",
       "      <th id=\"T_1e9e1_level0_row11\" class=\"row_heading level0 row11\" >SCLC-P_SCLC-Y</th>\n",
       "      <td id=\"T_1e9e1_row11_col0\" class=\"data row11 col0\" >3</td>\n",
       "      <td id=\"T_1e9e1_row11_col1\" class=\"data row11 col1\" >0</td>\n",
       "      <td id=\"T_1e9e1_row11_col2\" class=\"data row11 col2\" >0</td>\n",
       "      <td id=\"T_1e9e1_row11_col3\" class=\"data row11 col3\" >0</td>\n",
       "      <td id=\"T_1e9e1_row11_col4\" class=\"data row11 col4\" >0</td>\n",
       "      <td id=\"T_1e9e1_row11_col5\" class=\"data row11 col5\" >0</td>\n",
       "    </tr>\n",
       "    <tr>\n",
       "      <th id=\"T_1e9e1_level0_row12\" class=\"row_heading level0 row12\" >SCLC-Y</th>\n",
       "      <td id=\"T_1e9e1_row12_col0\" class=\"data row12 col0\" >3</td>\n",
       "      <td id=\"T_1e9e1_row12_col1\" class=\"data row12 col1\" >0</td>\n",
       "      <td id=\"T_1e9e1_row12_col2\" class=\"data row12 col2\" >0</td>\n",
       "      <td id=\"T_1e9e1_row12_col3\" class=\"data row12 col3\" >0</td>\n",
       "      <td id=\"T_1e9e1_row12_col4\" class=\"data row12 col4\" >0</td>\n",
       "      <td id=\"T_1e9e1_row12_col5\" class=\"data row12 col5\" >1</td>\n",
       "    </tr>\n",
       "  </tbody>\n",
       "</table>\n"
      ],
      "text/plain": [
       "<pandas.io.formats.style.Styler at 0x7ff9a96f9c90>"
      ]
     },
     "execution_count": 18,
     "metadata": {},
     "output_type": "execute_result"
    }
   ],
   "source": [
    "pd.crosstab( adata.obs['arc_pheno'],adata.obs['Phenotype']).style.background_gradient(cmap='viridis')"
   ]
  },
  {
   "cell_type": "code",
   "execution_count": 19,
   "metadata": {},
   "outputs": [
    {
     "data": {
      "image/png": "[encoded data removed]",
      "text/plain": [
       "<Figure size 576x288 with 1 Axes>"
      ]
     },
     "metadata": {},
     "output_type": "display_data"
    }
   ],
   "source": [
    "cp = ['#fc8d62', '#66c2a5', '#FFD43B', '#8da0cb', '#e78ac3']\n",
    "color_dict = {'SCLC-Y Specialist': cp[4], 'SCLC-A Specialist': cp[0], 'SCLC-A2 Specialist': cp[1], 'SCLC-N Specialist': cp[2], 'SCLC-P Specialist': cp[3],\n",
    "              'Generalist': 'darkgrey', 'Unclassified': 'lightgrey'}\n",
    "mb.pl.subtype_bar(adata,groupby='tumor', fname = 'tumor', pheno_name=\"arc_aa_type\", custom_palette=color_dict)"
   ]
  },
  {
   "cell_type": "code",
   "execution_count": 20,
   "metadata": {},
   "outputs": [
    {
     "data": {
      "image/png": "[encoded data removed]",
      "text/plain": [
       "<Figure size 576x288 with 1 Axes>"
      ]
     },
     "metadata": {},
     "output_type": "display_data"
    }
   ],
   "source": [
    "_adata = adata[adata.obs['arc_aa_type'] == 'Generalist']\n",
    "plt.rcParams[\"figure.figsize\"] = [8, 4]\n",
    "((pd.crosstab(_adata.obs[\"tumor\"], _adata.obs['arc_pheno']).T /\n",
    "  pd.crosstab(_adata.obs[\"tumor\"], _adata.obs['arc_pheno']).sum(axis=1)) * 100).T.plot(kind='bar',\n",
    "                                                                                              stacked=True,\n",
    "                                                                                              linewidth=0, cmap = 'Spectral')\n",
    "plt.legend(bbox_to_anchor=(1.05, 1))\n",
    "\n",
    "plt.savefig('./figures/arc_aa_generalist_subtypes.pdf')"
   ]
  },
  {
   "cell_type": "code",
   "execution_count": 21,
   "metadata": {},
   "outputs": [],
   "source": [
    "# import matplotlib as mpl\n",
    "# mpl.rcParams['figure.dpi']= 300\n",
    "# mb.pl.archetype_diagrams(adata, sig_matrix, color_dict=color_dict, groupby='cline',color = 'arc_aa_type',\n",
    "#                         order = ['SCLC-Y','SCLC-A','SCLC-P','SCLC-N','SCLC-A2'], norm = 'None',sizes = 20,\n",
    "#                         figsize=(4,4), score_name = '_Score', alpha = .8, s = 8, arrows = False)\n"
   ]
  },
  {
   "cell_type": "code",
   "execution_count": 22,
   "metadata": {},
   "outputs": [
    {
     "data": {
      "text/plain": [
       "(array(['SCLC-A', 'SCLC-A2', 'SCLC-A2_SCLC-A', 'SCLC-A2_SCLC-N',\n",
       "        'SCLC-A2_SCLC-P', 'SCLC-A2_SCLC-Y', 'SCLC-A_SCLC-N',\n",
       "        'SCLC-A_SCLC-P', 'SCLC-A_SCLC-Y', 'SCLC-N', 'SCLC-P',\n",
       "        'SCLC-P_SCLC-Y', 'SCLC-Y', 'Unclassified'], dtype=object),\n",
       " array([150, 178,  18,   7,  44,   4,  12,  38,   9,  30,  23,   3,   4,\n",
       "        408]))"
      ]
     },
     "execution_count": 22,
     "metadata": {},
     "output_type": "execute_result"
    }
   ],
   "source": [
    "np.unique(adata.obs['arc_pheno'], return_counts=True)"
   ]
  },
  {
   "cell_type": "code",
   "execution_count": 23,
   "metadata": {},
   "outputs": [
    {
     "name": "stderr",
     "output_type": "stream",
     "text": [
      "... storing 'Phenotype' as categorical\n",
      "... storing 'arc_pheno' as categorical\n",
      "... storing 'arc_aa_type' as categorical\n"
     ]
    }
   ],
   "source": [
    "adata.write_h5ad('../../out/PDX-tumors/adata_03.h5ad')\n",
    "\n"
   ]
  },
  {
   "cell_type": "code",
   "execution_count": null,
   "metadata": {},
   "outputs": [],
   "source": []
  },
  {
   "cell_type": "code",
   "execution_count": 3,
   "metadata": {},
   "outputs": [],
   "source": [
    "adata = sc.read_h5ad('../../out/PDX-tumors/adata_03.h5ad')\n"
   ]
  },
  {
   "cell_type": "code",
   "execution_count": 7,
   "metadata": {},
   "outputs": [],
   "source": [
    "adata_copy = adata.copy()"
   ]
  },
  {
   "cell_type": "code",
   "execution_count": 8,
   "metadata": {},
   "outputs": [],
   "source": [
    "adata_copy.X = adata.layers['log1p_norm_unscaled']"
   ]
  },
  {
   "cell_type": "code",
   "execution_count": 9,
   "metadata": {},
   "outputs": [],
   "source": [
    "sc.pp.neighbors(adata_copy)\n",
    "sc.tl.pca(adata_copy)\n",
    "sc.pp.neighbors(adata_copy)\n",
    "sc.tl.umap(adata_copy)"
   ]
  },
  {
   "cell_type": "code",
   "execution_count": 10,
   "metadata": {},
   "outputs": [
    {
     "data": {
      "image/png": "[encoded data removed]",
      "text/plain": [
       "<Figure size 432x288 with 1 Axes>"
      ]
     },
     "metadata": {},
     "output_type": "display_data"
    }
   ],
   "source": [
    "sc.pl.umap(adata_copy)"
   ]
  },
  {
   "cell_type": "code",
   "execution_count": 11,
   "metadata": {},
   "outputs": [
    {
     "data": {
      "image/png": "[encoded data removed]",
      "text/plain": [
       "<Figure size 432x288 with 1 Axes>"
      ]
     },
     "metadata": {},
     "output_type": "display_data"
    }
   ],
   "source": [
    "sc.pl.umap(adata, color = 'tumor')"
   ]
  },
  {
   "cell_type": "code",
   "execution_count": null,
   "metadata": {},
   "outputs": [],
   "source": []
  }
 ],
 "metadata": {
  "kernelspec": {
   "display_name": "Python 3 (ipykernel)",
   "language": "python",
   "name": "python3"
  },
  "language_info": {
   "codemirror_mode": {
    "name": "ipython",
    "version": 3
   },
   "file_extension": ".py",
   "mimetype": "text/x-python",
   "name": "python",
   "nbconvert_exporter": "python",
   "pygments_lexer": "ipython3",
   "version": "3.7.6"
  },
  "pycharm": {
   "stem_cell": {
    "cell_type": "raw",
    "metadata": {
     "collapsed": false
    },
    "source": []
   }
  },
  "toc-autonumbering": true,
  "toc-showmarkdowntxt": false
 },
 "nbformat": 4,
 "nbformat_minor": 4
}
